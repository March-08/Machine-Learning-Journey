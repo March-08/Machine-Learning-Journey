{
  "nbformat": 4,
  "nbformat_minor": 0,
  "metadata": {
    "colab": {
      "name": "Linear and Logistic Regression in PyTorch.ipynb",
      "provenance": []
    },
    "kernelspec": {
      "name": "python3",
      "display_name": "Python 3"
    },
    "language_info": {
      "name": "python"
    }
  },
  "cells": [
    {
      "cell_type": "code",
      "execution_count": 16,
      "metadata": {
        "id": "zO9GR3Mw-mW2"
      },
      "outputs": [],
      "source": [
        "import torch\n",
        "import numpy as np\n",
        "from torch import nn,optim"
      ]
    },
    {
      "cell_type": "markdown",
      "source": [
        "#Linear Regression"
      ],
      "metadata": {
        "id": "YwCgIg2LQPjg"
      }
    },
    {
      "cell_type": "code",
      "source": [
        "x = torch.tensor([[1,2,3],[4,5,6],[7,8,9]], dtype=torch.float32)\n",
        "y = torch.tensor([[1],[2],[3]])"
      ],
      "metadata": {
        "id": "4dScVNr5-0eG"
      },
      "execution_count": 13,
      "outputs": []
    },
    {
      "cell_type": "code",
      "source": [
        "class LR(nn.Module):\n",
        "  def __init__(self,input_size, output_size) -> None:\n",
        "      super().__init__()\n",
        "      self.linear = nn.Linear(input_size,output_size)\n",
        "\n",
        "  def forward(self,x):\n",
        "    return self.linear(x)"
      ],
      "metadata": {
        "id": "5CG3O4Hj_EWS"
      },
      "execution_count": 71,
      "outputs": []
    },
    {
      "cell_type": "code",
      "source": [
        "model = LR(3,1)\n",
        "model(x)"
      ],
      "metadata": {
        "colab": {
          "base_uri": "https://localhost:8080/"
        },
        "id": "nUnC3fJ4_Fjo",
        "outputId": "512a2590-0f8b-4b38-ece0-416d69cc162b"
      },
      "execution_count": 15,
      "outputs": [
        {
          "output_type": "execute_result",
          "data": {
            "text/plain": [
              "tensor([[1.8262],\n",
              "        [4.2853],\n",
              "        [6.7445]], grad_fn=<AddmmBackward0>)"
            ]
          },
          "metadata": {},
          "execution_count": 15
        }
      ]
    },
    {
      "cell_type": "code",
      "source": [
        "from torch.utils.data import Dataset,DataLoader"
      ],
      "metadata": {
        "id": "I9EVT5fX_uNJ"
      },
      "execution_count": 17,
      "outputs": []
    },
    {
      "cell_type": "code",
      "source": [
        "class Data2D(Dataset):\n",
        "  def __init__(self) -> None:\n",
        "      super().__init__()\n",
        "      self.x = torch.randint(0,10,(20,2),dtype=torch.float32)\n",
        "      self.w = torch.randn((2,1))\n",
        "      self.b = 3\n",
        "      self.y = self.x @ self.w + self.b\n",
        "      self.len = len(x)\n",
        "\n",
        "  def __getitem__(self, index):\n",
        "      return self.x[index],self.y[index]\n",
        "  \n",
        "  def __len__(self):\n",
        "    return self.len\n"
      ],
      "metadata": {
        "id": "Yxu-PrKoBPrW"
      },
      "execution_count": 98,
      "outputs": []
    },
    {
      "cell_type": "code",
      "source": [
        "dataset = Data2D()\n",
        "model = LR(2,1)"
      ],
      "metadata": {
        "id": "eWiwFIVbDy9N"
      },
      "execution_count": 99,
      "outputs": []
    },
    {
      "cell_type": "code",
      "source": [
        "#not trained\n",
        "criterion = nn.MSELoss()\n",
        "criterion(model(dataset.x),dataset.y), list(model.parameters())"
      ],
      "metadata": {
        "colab": {
          "base_uri": "https://localhost:8080/"
        },
        "id": "8B--oVRuFTYz",
        "outputId": "4c487e7e-7592-4fce-a3b4-5f3f59223dfe"
      },
      "execution_count": 100,
      "outputs": [
        {
          "output_type": "execute_result",
          "data": {
            "text/plain": [
              "(tensor(38.5162, grad_fn=<MseLossBackward0>), [Parameter containing:\n",
              "  tensor([[ 0.3563, -0.4303]], requires_grad=True), Parameter containing:\n",
              "  tensor([-0.5776], requires_grad=True)])"
            ]
          },
          "metadata": {},
          "execution_count": 100
        }
      ]
    },
    {
      "cell_type": "code",
      "source": [
        "#training\n",
        "trainloader = DataLoader(dataset= dataset,batch_size = 2)\n",
        "optimizer = optim.SGD(model.parameters(), lr = 0.001)\n",
        "\n",
        "epochs = 100\n",
        "\n",
        "for epoch in range(epochs):\n",
        "  for x,y in trainloader:\n",
        "    yhat = model(x)\n",
        "    loss = criterion(yhat,y)\n",
        "    optimizer.zero_grad()\n",
        "    loss.backward()\n",
        "    optimizer.step()"
      ],
      "metadata": {
        "id": "Et3LMkfKFg9H"
      },
      "execution_count": 101,
      "outputs": []
    },
    {
      "cell_type": "code",
      "source": [
        "criterion(model(dataset.x),dataset.y), list(model.parameters())"
      ],
      "metadata": {
        "colab": {
          "base_uri": "https://localhost:8080/"
        },
        "id": "iTzgIBkkGRCH",
        "outputId": "99c08428-a649-4093-bae0-f3b68607068e"
      },
      "execution_count": 102,
      "outputs": [
        {
          "output_type": "execute_result",
          "data": {
            "text/plain": [
              "(tensor(3.1069, grad_fn=<MseLossBackward0>), [Parameter containing:\n",
              "  tensor([[-0.6293, -0.7052]], requires_grad=True), Parameter containing:\n",
              "  tensor([-0.5368], requires_grad=True)])"
            ]
          },
          "metadata": {},
          "execution_count": 102
        }
      ]
    },
    {
      "cell_type": "markdown",
      "source": [
        "#Logistic Regression"
      ],
      "metadata": {
        "id": "aR_FJ5DuQR3X"
      }
    },
    {
      "cell_type": "code",
      "source": [
        "class Data2D(Dataset):\n",
        "  def __init__(self) -> None:\n",
        "      super().__init__()\n",
        "      self.x = torch.randn((50,2),dtype = torch.float32)\n",
        "      self.y = torch.randint(0,2,(50,1),dtype = torch.float32)\n",
        "      self.len = len(x)\n",
        "\n",
        "  def __getitem__(self, index):\n",
        "    return self.x[index], self.y[index]\n",
        "\n",
        "  def __len__(self):\n",
        "    return self.len     "
      ],
      "metadata": {
        "id": "lK8rwIJXHXPP"
      },
      "execution_count": 141,
      "outputs": []
    },
    {
      "cell_type": "code",
      "source": [
        "class LogisticRegression(nn.Module):\n",
        "  def __init__(self,input_size, output_size ):\n",
        "    super().__init__()\n",
        "    self.linear = nn.Linear(input_size,output_size)\n",
        "\n",
        "  def forward(self,x):\n",
        "    return torch.sigmoid(self.linear(x))"
      ],
      "metadata": {
        "id": "nVbzxki-Q1Y3"
      },
      "execution_count": 142,
      "outputs": []
    },
    {
      "cell_type": "code",
      "source": [
        "dataset = Data2D()\n",
        "model = LogisticRegression(input_size = 2,output_size =1)\n",
        "\n",
        "criterion = nn.BCELoss()\n",
        "criterion(dataset.y, model(dataset.x)),list(model.parameters())"
      ],
      "metadata": {
        "colab": {
          "base_uri": "https://localhost:8080/"
        },
        "id": "eeZ4wFqURjmM",
        "outputId": "ae9c0139-6c1d-4a7e-ff19-4d99f15d06d3"
      },
      "execution_count": 165,
      "outputs": [
        {
          "output_type": "execute_result",
          "data": {
            "text/plain": [
              "(tensor(53.7377, grad_fn=<BinaryCrossEntropyBackward0>), [Parameter containing:\n",
              "  tensor([[ 0.2279, -0.5718]], requires_grad=True), Parameter containing:\n",
              "  tensor([-0.4156], requires_grad=True)])"
            ]
          },
          "metadata": {},
          "execution_count": 165
        }
      ]
    },
    {
      "cell_type": "code",
      "source": [
        "trainloader = DataLoader(dataset,batch_size = 1)\n",
        "optimizer = optim.SGD(model.parameters(),lr = 0.1)\n",
        "epochs = 1_000\n",
        "\n",
        "for epoch in range(epochs):\n",
        "  for x,y in trainloader:\n",
        "    yhat = model(x)\n",
        "    loss = criterion(yhat,y)\n",
        "    optimizer.zero_grad()\n",
        "    loss.backward()\n",
        "    optimizer.step()"
      ],
      "metadata": {
        "id": "zZ9OLO6xRoel"
      },
      "execution_count": 166,
      "outputs": []
    },
    {
      "cell_type": "code",
      "source": [
        "criterion(dataset.y, model(dataset.x)),list(model.parameters())"
      ],
      "metadata": {
        "colab": {
          "base_uri": "https://localhost:8080/"
        },
        "id": "-MTCzwJwSrNh",
        "outputId": "c0a5dbc1-2f99-4d35-c3ed-de2a380ea337"
      },
      "execution_count": 167,
      "outputs": [
        {
          "output_type": "execute_result",
          "data": {
            "text/plain": [
              "(tensor(53.9995, grad_fn=<BinaryCrossEntropyBackward0>), [Parameter containing:\n",
              "  tensor([[ 1.3087, -0.9174]], requires_grad=True), Parameter containing:\n",
              "  tensor([-6.6585], requires_grad=True)])"
            ]
          },
          "metadata": {},
          "execution_count": 167
        }
      ]
    },
    {
      "cell_type": "code",
      "source": [
        ""
      ],
      "metadata": {
        "id": "5PwY5oZXVpsP"
      },
      "execution_count": null,
      "outputs": []
    }
  ]
}