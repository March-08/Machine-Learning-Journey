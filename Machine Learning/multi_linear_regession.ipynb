{
  "nbformat": 4,
  "nbformat_minor": 0,
  "metadata": {
    "colab": {
      "name": "multi_linear_regession.ipynb",
      "provenance": []
    },
    "kernelspec": {
      "name": "python3",
      "display_name": "Python 3"
    },
    "language_info": {
      "name": "python"
    }
  },
  "cells": [
    {
      "cell_type": "markdown",
      "metadata": {
        "id": "4kl2JokbO7ME"
      },
      "source": [
        "###Linear Regression using only numpy"
      ]
    },
    {
      "cell_type": "code",
      "metadata": {
        "id": "7tLaRecaHmXX"
      },
      "source": [
        "import numpy as np"
      ],
      "execution_count": null,
      "outputs": []
    },
    {
      "cell_type": "markdown",
      "metadata": {
        "id": "NBLApYBhHhVF"
      },
      "source": [
        "###Creation of data and labels \n",
        "Linerar relation : y = mx + q"
      ]
    },
    {
      "cell_type": "code",
      "metadata": {
        "colab": {
          "base_uri": "https://localhost:8080/"
        },
        "id": "-MlFblUhHffQ",
        "outputId": "9a44caa3-345b-4448-9725-bdad032889bf"
      },
      "source": [
        "X = np.random.rand(10000,5)\n",
        "m = np.random.randint(low = 1, high = 20,size = (5,1))  #parametri random tra low e high\n",
        "q = np.random.rand(1)\n",
        "y = (X @ m) + q \n",
        "\n",
        "noise = np.random.randn(y.shape[0], y.shape[1])\n",
        "y = y + noise\n",
        "\n",
        "X.shape, m.shape, q.shape, y.shape"
      ],
      "execution_count": null,
      "outputs": [
        {
          "output_type": "execute_result",
          "data": {
            "text/plain": [
              "((10000, 5), (5, 1), (1,), (10000, 1))"
            ]
          },
          "metadata": {},
          "execution_count": 2
        }
      ]
    },
    {
      "cell_type": "markdown",
      "metadata": {
        "id": "1J3cjMGAIpl0"
      },
      "source": [
        "q might be interpreted as a parameter within the m vector.\n",
        "\n",
        "y = m1x1 + m2x2 + m3x3 + m4x4 + m5x5 + m6x6\n",
        "\n",
        "Provided that x6 is always equal to one. We then add another column of \"1\" to the data and put q at the end of the vector m."
      ]
    },
    {
      "cell_type": "code",
      "metadata": {
        "colab": {
          "base_uri": "https://localhost:8080/"
        },
        "id": "28QK47wfIpYn",
        "outputId": "76f9dfd3-56b7-4f26-a1b0-a492b1b1f329"
      },
      "source": [
        "X = np.concatenate([X , np.ones((X.shape[0],1))], axis = 1)\n",
        "m = np.concatenate([m,q.reshape(1,-1)],axis = 0)\n",
        "\n",
        "X.shape, m.shape"
      ],
      "execution_count": null,
      "outputs": [
        {
          "output_type": "execute_result",
          "data": {
            "text/plain": [
              "((10000, 6), (6, 1))"
            ]
          },
          "metadata": {},
          "execution_count": 3
        }
      ]
    },
    {
      "cell_type": "code",
      "metadata": {
        "id": "hDwCHiorKXiE"
      },
      "source": [
        "def partial_derivative(X_batch, y_batch, m_stat):\n",
        "\n",
        "  y_pred = X_batch @ m_stat\n",
        "  n = len(X_batch)\n",
        "\n",
        "  df_dm =  (-2/n) * (X_batch.T @ (y_batch - y_pred))\n",
        "  df_dm = df_dm.reshape(len(df_dm),-1)\n",
        "\n",
        "  return df_dm\n",
        "\n",
        "\n",
        "def mean_squared_error(X,y,m_stat):\n",
        "  y_pred = X @ m_stat\n",
        "  mse = np.sum(((y_pred - y)**2),axis = 0) / len(X)\n",
        "  \n",
        "  return mse\n",
        "\n",
        "  \n",
        "\n",
        "def training(X, y, batch_size, lr, epochs):\n",
        "  \n",
        "  for epoch in range(epochs):\n",
        "\n",
        "    #random initial statistics\n",
        "    if epoch == 0:\n",
        "      m_stat = np.random.rand(X.shape[1],1)\n",
        "\n",
        "    #shuffle X and y using same permutation\n",
        "    indices = np.arange(X.shape[0])\n",
        "    np.random.shuffle(indices)\n",
        "\n",
        "    X = X[indices]\n",
        "    y = y[indices]\n",
        "\n",
        "    #store comulative derivative\n",
        "    cumulative_derivative = np.zeros((X.shape[1],1))\n",
        "\n",
        "    for batch in range(len(X)//batch_size):\n",
        "      start = batch*batch_size\n",
        "      stop = (batch*batch_size) + batch_size\n",
        "\n",
        "      X_batch = X[start:stop]\n",
        "      y_batch = y[start:stop]\n",
        "      \n",
        "      #derivative\n",
        "      cumulative_derivative = cumulative_derivative + partial_derivative(X_batch, y_batch, m_stat)\n",
        "\n",
        "      #updating rule\n",
        "      m_stat = m_stat - (lr*cumulative_derivative)\n",
        "    \n",
        "    print(f\"epoch: {epoch} ----> MSE: {mean_squared_error(X,y,m_stat)}\")\n",
        "      \n",
        "  return m_stat\n",
        "\n"
      ],
      "execution_count": null,
      "outputs": []
    },
    {
      "cell_type": "markdown",
      "metadata": {
        "id": "_bHg0oEALT43"
      },
      "source": [
        "We use the training function to find the \"hidden\" parameters"
      ]
    },
    {
      "cell_type": "code",
      "metadata": {
        "id": "DopOFF6DYqCG"
      },
      "source": [
        "batch_size = 1024\n",
        "lr = 0.01\n",
        "epochs = 500\n",
        "\n",
        "m_stat = training(X,y, batch_size,lr,epochs)"
      ],
      "execution_count": null,
      "outputs": []
    },
    {
      "cell_type": "markdown",
      "metadata": {
        "id": "qG3zx4s-Livg"
      },
      "source": [
        "Lets print the real and estimated parameters to see if they are equal (similar)\n",
        "\n"
      ]
    },
    {
      "cell_type": "code",
      "metadata": {
        "id": "WKKqIOWlbAXL",
        "colab": {
          "base_uri": "https://localhost:8080/"
        },
        "outputId": "3429426f-77f0-41b6-d02b-21d9fa803470"
      },
      "source": [
        "print(m_stat,\"\\n\")\n",
        "print(m)"
      ],
      "execution_count": null,
      "outputs": [
        {
          "output_type": "stream",
          "name": "stdout",
          "text": [
            "[[ 7.02023943]\n",
            " [12.92578848]\n",
            " [ 7.97939421]\n",
            " [ 0.97164595]\n",
            " [ 2.06477057]\n",
            " [ 0.59971073]] \n",
            "\n",
            "[[ 7.        ]\n",
            " [13.        ]\n",
            " [ 8.        ]\n",
            " [ 1.        ]\n",
            " [ 2.        ]\n",
            " [ 0.59567936]]\n"
          ]
        }
      ]
    },
    {
      "cell_type": "markdown",
      "metadata": {
        "id": "IJfcnqhCLqL0"
      },
      "source": [
        "Lets create a test set, and try to predict the label using the hyperplane we just found"
      ]
    },
    {
      "cell_type": "code",
      "metadata": {
        "id": "CjMyo0LaJ9kf"
      },
      "source": [
        "X_test = np.random.rand(500,5)\n",
        "X_test = np.concatenate([X_test,np.ones(shape = (500,1))] , axis = 1)\n",
        "y_test = X_test @ m"
      ],
      "execution_count": null,
      "outputs": []
    },
    {
      "cell_type": "markdown",
      "metadata": {
        "id": "oD6jBhnNOkSX"
      },
      "source": [
        "I make my expeditions with the \"found\" parameters"
      ]
    },
    {
      "cell_type": "code",
      "metadata": {
        "id": "dHgjGgfuJ-XS"
      },
      "source": [
        "y_preds = X_test @ m_stat"
      ],
      "execution_count": null,
      "outputs": []
    },
    {
      "cell_type": "markdown",
      "metadata": {
        "id": "Wz97_XDVOppb"
      },
      "source": [
        "I calculate the MSE and notice that it is low"
      ]
    },
    {
      "cell_type": "code",
      "metadata": {
        "colab": {
          "base_uri": "https://localhost:8080/"
        },
        "id": "nr4XFQiXON11",
        "outputId": "83edcb81-e9cf-4b44-970a-f87db3d87dc8"
      },
      "source": [
        "mean_squared_error(X_test, y_test, m_stat)"
      ],
      "execution_count": null,
      "outputs": [
        {
          "output_type": "execute_result",
          "data": {
            "text/plain": [
              "array([0.00044625])"
            ]
          },
          "metadata": {},
          "execution_count": 67
        }
      ]
    },
    {
      "cell_type": "markdown",
      "metadata": {
        "id": "eowCSRWlOun_"
      },
      "source": [
        "If I compare some of the real outputs with those of the prediction I notice that they are very similar"
      ]
    },
    {
      "cell_type": "code",
      "metadata": {
        "colab": {
          "base_uri": "https://localhost:8080/"
        },
        "id": "JZUCumvZOdNf",
        "outputId": "e2365b1f-881e-4d60-beb3-bae03521f270"
      },
      "source": [
        "y_test[:5]"
      ],
      "execution_count": null,
      "outputs": [
        {
          "output_type": "execute_result",
          "data": {
            "text/plain": [
              "array([[55.68984025],\n",
              "       [27.89823867],\n",
              "       [54.46623722],\n",
              "       [29.61535891],\n",
              "       [56.02561976]])"
            ]
          },
          "metadata": {},
          "execution_count": 68
        }
      ]
    },
    {
      "cell_type": "code",
      "metadata": {
        "colab": {
          "base_uri": "https://localhost:8080/"
        },
        "id": "Va35VHFUOes9",
        "outputId": "5a04ae66-1dd7-4348-c94d-30374ccf7dbe"
      },
      "source": [
        "y_preds[:5]"
      ],
      "execution_count": null,
      "outputs": [
        {
          "output_type": "execute_result",
          "data": {
            "text/plain": [
              "array([[55.69776397],\n",
              "       [27.85997063],\n",
              "       [54.46251329],\n",
              "       [29.58735955],\n",
              "       [56.04068571]])"
            ]
          },
          "metadata": {},
          "execution_count": 69
        }
      ]
    },
    {
      "cell_type": "code",
      "source": [
        "import matplotlib.pyplot as plt\n",
        "import seaborn as sns"
      ],
      "metadata": {
        "id": "Um_33mdoXfwN"
      },
      "execution_count": null,
      "outputs": []
    },
    {
      "cell_type": "code",
      "metadata": {
        "id": "cvNNLH0YOiQB"
      },
      "source": [
        "X = np.random.rand(100)\n",
        "y = 10*X + 5 \n",
        "y = y + np.random.randn(100)"
      ],
      "execution_count": null,
      "outputs": []
    },
    {
      "cell_type": "code",
      "source": [
        "sns.regplot(X,y,line_kws={\"color\": \"red\"},)"
      ],
      "metadata": {
        "colab": {
          "base_uri": "https://localhost:8080/",
          "height": 337
        },
        "id": "-g_MxoVAXcz2",
        "outputId": "4198e656-0633-45bc-af66-c6c02b8e4a14"
      },
      "execution_count": null,
      "outputs": [
        {
          "output_type": "stream",
          "name": "stderr",
          "text": [
            "/usr/local/lib/python3.7/dist-packages/seaborn/_decorators.py:43: FutureWarning: Pass the following variables as keyword args: x, y. From version 0.12, the only valid positional argument will be `data`, and passing other arguments without an explicit keyword will result in an error or misinterpretation.\n",
            "  FutureWarning\n"
          ]
        },
        {
          "output_type": "execute_result",
          "data": {
            "text/plain": [
              "[]"
            ]
          },
          "metadata": {},
          "execution_count": 13
        },
        {
          "output_type": "display_data",
          "data": {
            "image/png": "[encoded data removed]",
            "text/plain": [
              "<Figure size 432x288 with 1 Axes>"
            ]
          },
          "metadata": {
            "needs_background": "light"
          }
        }
      ]
    }
  ]
}