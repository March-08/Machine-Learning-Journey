{
  "nbformat": 4,
  "nbformat_minor": 0,
  "metadata": {
    "colab": {
      "name": "Basic of PyTorch.ipynb",
      "provenance": []
    },
    "kernelspec": {
      "name": "python3",
      "display_name": "Python 3"
    },
    "language_info": {
      "name": "python"
    }
  },
  "cells": [
    {
      "cell_type": "code",
      "execution_count": 87,
      "metadata": {
        "id": "xgxZOkMzwEKK"
      },
      "outputs": [],
      "source": [
        "import torch"
      ]
    },
    {
      "cell_type": "code",
      "source": [
        "unitialized = torch.Tensor(3,2)\n",
        "rand_initialized = torch.rand(3,2)"
      ],
      "metadata": {
        "id": "yfWrz-yKwId3"
      },
      "execution_count": 88,
      "outputs": []
    },
    {
      "cell_type": "code",
      "source": [
        "unitialized"
      ],
      "metadata": {
        "colab": {
          "base_uri": "https://localhost:8080/"
        },
        "id": "vrw9Gf67wbgW",
        "outputId": "98ca36cf-2b7a-4b24-bb06-2733dd379fc4"
      },
      "execution_count": 89,
      "outputs": [
        {
          "output_type": "execute_result",
          "data": {
            "text/plain": [
              "tensor([[-1.5968e+16,  3.0934e-41],\n",
              "        [ 1.6994e-01,  0.0000e+00],\n",
              "        [        nan,  2.3510e-38]])"
            ]
          },
          "metadata": {},
          "execution_count": 89
        }
      ]
    },
    {
      "cell_type": "code",
      "source": [
        "rand_initialized"
      ],
      "metadata": {
        "colab": {
          "base_uri": "https://localhost:8080/"
        },
        "id": "p7hxtzxawcd8",
        "outputId": "5477f647-68af-49d3-85e8-7b8eeb62c255"
      },
      "execution_count": 90,
      "outputs": [
        {
          "output_type": "execute_result",
          "data": {
            "text/plain": [
              "tensor([[0.9371, 0.6556],\n",
              "        [0.3138, 0.1980],\n",
              "        [0.4162, 0.2843]])"
            ]
          },
          "metadata": {},
          "execution_count": 90
        }
      ]
    },
    {
      "cell_type": "code",
      "source": [
        "ones = torch.ones(3,2)\n",
        "ones.shape"
      ],
      "metadata": {
        "colab": {
          "base_uri": "https://localhost:8080/"
        },
        "id": "GOaMcfiqwp8Z",
        "outputId": "10fc62f2-435d-445e-ead7-cfbc5c1875e2"
      },
      "execution_count": 91,
      "outputs": [
        {
          "output_type": "execute_result",
          "data": {
            "text/plain": [
              "torch.Size([3, 2])"
            ]
          },
          "metadata": {},
          "execution_count": 91
        }
      ]
    },
    {
      "cell_type": "code",
      "source": [
        "a = torch.rand(3,2)\n",
        "b = torch.rand(2,4)\n",
        "c = a@b\n",
        "\n",
        "c.shape"
      ],
      "metadata": {
        "colab": {
          "base_uri": "https://localhost:8080/"
        },
        "id": "cxXplzwTws0m",
        "outputId": "6a7bd126-1181-4451-877e-a7809da8d3c8"
      },
      "execution_count": 92,
      "outputs": [
        {
          "output_type": "execute_result",
          "data": {
            "text/plain": [
              "torch.Size([3, 4])"
            ]
          },
          "metadata": {},
          "execution_count": 92
        }
      ]
    },
    {
      "cell_type": "markdown",
      "source": [
        "squeeze remove dimensions that are 1"
      ],
      "metadata": {
        "id": "GmRkKS8FxTRT"
      }
    },
    {
      "cell_type": "code",
      "source": [
        "a = torch.rand(3,1,5,1)\n",
        "a.shape"
      ],
      "metadata": {
        "colab": {
          "base_uri": "https://localhost:8080/"
        },
        "id": "SfAMWJtPw8K9",
        "outputId": "12fae32a-362e-46ee-fb1e-ac2967eb8a4b"
      },
      "execution_count": 93,
      "outputs": [
        {
          "output_type": "execute_result",
          "data": {
            "text/plain": [
              "torch.Size([3, 1, 5, 1])"
            ]
          },
          "metadata": {},
          "execution_count": 93
        }
      ]
    },
    {
      "cell_type": "code",
      "source": [
        "a = a.squeeze()\n",
        "a.shape"
      ],
      "metadata": {
        "colab": {
          "base_uri": "https://localhost:8080/"
        },
        "id": "lN1a7TH_xZ6n",
        "outputId": "b09b9bd2-3d53-49c1-9444-7ea1561bbf22"
      },
      "execution_count": 94,
      "outputs": [
        {
          "output_type": "execute_result",
          "data": {
            "text/plain": [
              "torch.Size([3, 5])"
            ]
          },
          "metadata": {},
          "execution_count": 94
        }
      ]
    },
    {
      "cell_type": "code",
      "source": [
        "import matplotlib.pyplot as plt\n",
        "import numpy as np"
      ],
      "metadata": {
        "id": "7OuSItRnxch8"
      },
      "execution_count": 95,
      "outputs": []
    },
    {
      "cell_type": "code",
      "source": [
        "x = torch.linspace(0,np.pi*2,steps = 100)\n",
        "y = torch.sin(x)"
      ],
      "metadata": {
        "id": "OWk3p4rozMVt"
      },
      "execution_count": 96,
      "outputs": []
    },
    {
      "cell_type": "code",
      "source": [
        "plt.plot(x,y)"
      ],
      "metadata": {
        "colab": {
          "base_uri": "https://localhost:8080/",
          "height": 283
        },
        "id": "pwoTAFGz3m4y",
        "outputId": "b6d66a29-abba-4689-8cd9-9bc968227084"
      },
      "execution_count": 97,
      "outputs": [
        {
          "output_type": "execute_result",
          "data": {
            "text/plain": [
              "[<matplotlib.lines.Line2D at 0x7fae5856d550>]"
            ]
          },
          "metadata": {},
          "execution_count": 97
        },
        {
          "output_type": "display_data",
          "data": {
            "image/png": "[encoded data removed]",
            "text/plain": [
              "<Figure size 432x288 with 1 Axes>"
            ]
          },
          "metadata": {
            "needs_background": "light"
          }
        }
      ]
    },
    {
      "cell_type": "markdown",
      "source": [
        "##Differentiation"
      ],
      "metadata": {
        "id": "W8vxK-1c5AZP"
      }
    },
    {
      "cell_type": "code",
      "source": [
        "x = torch.tensor(2.0,requires_grad=True)\n",
        "y = x**2\n",
        "y.backward()\n",
        "x.grad"
      ],
      "metadata": {
        "colab": {
          "base_uri": "https://localhost:8080/"
        },
        "id": "Ip1kXr8m3pp3",
        "outputId": "f3ad0ed3-b6db-4b28-f620-e65a8fc41143"
      },
      "execution_count": 98,
      "outputs": [
        {
          "output_type": "execute_result",
          "data": {
            "text/plain": [
              "tensor(4.)"
            ]
          },
          "metadata": {},
          "execution_count": 98
        }
      ]
    },
    {
      "cell_type": "code",
      "source": [
        "x = torch.tensor(2.,requires_grad = True)\n",
        "z = x**2 +2*x + 1\n",
        "z.backward()\n",
        "x.grad"
      ],
      "metadata": {
        "colab": {
          "base_uri": "https://localhost:8080/"
        },
        "id": "f87bOAMi5aqd",
        "outputId": "81563c21-01bb-4a78-eb90-a22d0227acf7"
      },
      "execution_count": 99,
      "outputs": [
        {
          "output_type": "execute_result",
          "data": {
            "text/plain": [
              "tensor(6.)"
            ]
          },
          "metadata": {},
          "execution_count": 99
        }
      ]
    },
    {
      "cell_type": "markdown",
      "source": [
        "##Partial Derivatives"
      ],
      "metadata": {
        "id": "GsvHR8FI62Kg"
      }
    },
    {
      "cell_type": "code",
      "source": [
        "x1 = torch.tensor(2.0, requires_grad=True)\n",
        "x2 = torch.tensor(3.0, requires_grad=True)\n",
        "\n",
        "f = x1**2 + x2**2\n",
        "\n",
        "f.backward()\n",
        "x1.grad, x2.grad"
      ],
      "metadata": {
        "colab": {
          "base_uri": "https://localhost:8080/"
        },
        "id": "p6OeMN8l5oOz",
        "outputId": "e8626f08-9812-42e0-9e5f-27525d0583ec"
      },
      "execution_count": 100,
      "outputs": [
        {
          "output_type": "execute_result",
          "data": {
            "text/plain": [
              "(tensor(4.), tensor(6.))"
            ]
          },
          "metadata": {},
          "execution_count": 100
        }
      ]
    },
    {
      "cell_type": "markdown",
      "source": [
        "##Simple Datasets"
      ],
      "metadata": {
        "id": "EGND4So591u9"
      }
    },
    {
      "cell_type": "code",
      "source": [
        "from torch.utils.data import Dataset"
      ],
      "metadata": {
        "id": "k9btCS1r7Gcz"
      },
      "execution_count": 101,
      "outputs": []
    },
    {
      "cell_type": "code",
      "source": [
        "class toy_set(Dataset):\n",
        "  def __init__(self,length = 100, transform = None):\n",
        "    self.x = 2*torch.ones(length,2)\n",
        "    self.y = torch.ones(length,1)\n",
        "    self.len = length\n",
        "    self.transform = transform\n",
        "  \n",
        "  def __getitem__(self, index):\n",
        "    sample = self.x[index],self.y[index]\n",
        "    if self.transform:\n",
        "      sample = self.transform(sample)\n",
        "    return sample\n",
        "\n",
        "  def __len__(self):\n",
        "    return self.len\n",
        "\n",
        "#create a transform\n",
        "class add_mul(object):\n",
        "  def __init__(self,addx = 1, muly = 1):\n",
        "    self.addx = addx\n",
        "    self.muly = muly\n",
        "\n",
        "  def __call__(self,sample):\n",
        "    sample = list(sample) #tuple to list\n",
        "    sample[0] +=  self.addx\n",
        "    sample[1] *=  self.muly\n",
        "    return sample"
      ],
      "metadata": {
        "id": "7BeWspYn97qO"
      },
      "execution_count": 102,
      "outputs": []
    },
    {
      "cell_type": "code",
      "source": [
        "a_m = add_mul()\n",
        "data = toy_set(transform=a_m)\n",
        "data[1]"
      ],
      "metadata": {
        "colab": {
          "base_uri": "https://localhost:8080/"
        },
        "id": "1rUqwAgb-O6f",
        "outputId": "e172eb0f-718a-4a97-8bc8-8147e2858bee"
      },
      "execution_count": 103,
      "outputs": [
        {
          "output_type": "execute_result",
          "data": {
            "text/plain": [
              "[tensor([3., 3.]), tensor([1.])]"
            ]
          },
          "metadata": {},
          "execution_count": 103
        }
      ]
    },
    {
      "cell_type": "markdown",
      "source": [
        "##Apply multiple transforms"
      ],
      "metadata": {
        "id": "KaOocSppCYNM"
      }
    },
    {
      "cell_type": "code",
      "source": [
        "from torchvision import transforms"
      ],
      "metadata": {
        "id": "V251qYKl-PkI"
      },
      "execution_count": 104,
      "outputs": []
    },
    {
      "cell_type": "code",
      "source": [
        "#create another tranfrom\n",
        "class mult(object):\n",
        "  def __init__(self,mul = 100) -> None:\n",
        "    self.mul = mul\n",
        "  \n",
        "  def __call__(self,sample):\n",
        "    sample = list(sample)\n",
        "    sample[0] *= self.mul\n",
        "    sample[1] *= self.mul\n",
        "    return sample"
      ],
      "metadata": {
        "id": "hjlTsUJaCf4L"
      },
      "execution_count": 105,
      "outputs": []
    },
    {
      "cell_type": "code",
      "source": [
        "a_m = add_mul()\n",
        "mult = mult()\n",
        "\n",
        "compose = transforms.Compose([a_m,mult])"
      ],
      "metadata": {
        "id": "LNGe-d0bC3MK"
      },
      "execution_count": 106,
      "outputs": []
    },
    {
      "cell_type": "code",
      "source": [
        "dataset = toy_set(transform = compose)"
      ],
      "metadata": {
        "id": "0RWprkoiC8ot"
      },
      "execution_count": 107,
      "outputs": []
    },
    {
      "cell_type": "code",
      "source": [
        "dataset[1]"
      ],
      "metadata": {
        "colab": {
          "base_uri": "https://localhost:8080/"
        },
        "id": "CzBwHSiyDBr7",
        "outputId": "de31f8b3-15fb-496c-aa24-234be492b1b1"
      },
      "execution_count": 108,
      "outputs": [
        {
          "output_type": "execute_result",
          "data": {
            "text/plain": [
              "[tensor([300., 300.]), tensor([100.])]"
            ]
          },
          "metadata": {},
          "execution_count": 108
        }
      ]
    },
    {
      "cell_type": "markdown",
      "source": [
        "##Large Dataset"
      ],
      "metadata": {
        "id": "xAjvRIe1GibP"
      }
    },
    {
      "cell_type": "code",
      "source": [
        "! wget https://cf-courses-data.s3.us.cloud-object-storage.appdomain.cloud/IBMDeveloperSkillsNetwork-DL0110EN-SkillsNetwork/labs/Week1/data/img.tar.gz -P ./data"
      ],
      "metadata": {
        "colab": {
          "base_uri": "https://localhost:8080/"
        },
        "id": "pwSObBEVDZ9w",
        "outputId": "a7c5d3e6-c87c-4dda-dd55-df990c7c3425"
      },
      "execution_count": 109,
      "outputs": [
        {
          "output_type": "stream",
          "name": "stdout",
          "text": [
            "--2022-03-01 15:21:18--  https://cf-courses-data.s3.us.cloud-object-storage.appdomain.cloud/IBMDeveloperSkillsNetwork-DL0110EN-SkillsNetwork/labs/Week1/data/img.tar.gz\n",
            "Resolving cf-courses-data.s3.us.cloud-object-storage.appdomain.cloud (cf-courses-data.s3.us.cloud-object-storage.appdomain.cloud)... 169.63.118.104\n",
            "Connecting to cf-courses-data.s3.us.cloud-object-storage.appdomain.cloud (cf-courses-data.s3.us.cloud-object-storage.appdomain.cloud)|169.63.118.104|:443... connected.\n",
            "HTTP request sent, awaiting response... 200 OK\n",
            "Length: 50460 (49K) [application/x-tar]\n",
            "Saving to: ‘./data/img.tar.gz.1’\n",
            "\n",
            "img.tar.gz.1        100%[===================>]  49.28K  --.-KB/s    in 0s      \n",
            "\n",
            "2022-03-01 15:21:18 (223 MB/s) - ‘./data/img.tar.gz.1’ saved [50460/50460]\n",
            "\n"
          ]
        }
      ]
    },
    {
      "cell_type": "code",
      "source": [
        "!tar -xf ./data/img.tar.gz "
      ],
      "metadata": {
        "id": "mkGWczmjGnNF"
      },
      "execution_count": 110,
      "outputs": []
    },
    {
      "cell_type": "code",
      "source": [
        "!wget https://cf-courses-data.s3.us.cloud-object-storage.appdomain.cloud/IBMDeveloperSkillsNetwork-DL0110EN-SkillsNetwork/labs/Week1/data/index.csv "
      ],
      "metadata": {
        "colab": {
          "base_uri": "https://localhost:8080/"
        },
        "id": "4viTiafGGwMz",
        "outputId": "c7deda14-ff0d-4f57-e801-bc0efc6b5b0d"
      },
      "execution_count": 111,
      "outputs": [
        {
          "output_type": "stream",
          "name": "stdout",
          "text": [
            "--2022-03-01 15:21:18--  https://cf-courses-data.s3.us.cloud-object-storage.appdomain.cloud/IBMDeveloperSkillsNetwork-DL0110EN-SkillsNetwork/labs/Week1/data/index.csv\n",
            "Resolving cf-courses-data.s3.us.cloud-object-storage.appdomain.cloud (cf-courses-data.s3.us.cloud-object-storage.appdomain.cloud)... 169.63.118.104\n",
            "Connecting to cf-courses-data.s3.us.cloud-object-storage.appdomain.cloud (cf-courses-data.s3.us.cloud-object-storage.appdomain.cloud)|169.63.118.104|:443... connected.\n",
            "HTTP request sent, awaiting response... 200 OK\n",
            "Length: 1680905 (1.6M) [text/csv]\n",
            "Saving to: ‘index.csv.1’\n",
            "\n",
            "index.csv.1         100%[===================>]   1.60M  --.-KB/s    in 0.01s   \n",
            "\n",
            "2022-03-01 15:21:19 (140 MB/s) - ‘index.csv.1’ saved [1680905/1680905]\n",
            "\n"
          ]
        }
      ]
    },
    {
      "cell_type": "code",
      "source": [
        "import torch \n",
        "import matplotlib.pylab as plt\n",
        "import numpy as np\n",
        "from torch.utils.data import Dataset, DataLoader\n",
        "torch.manual_seed(0)"
      ],
      "metadata": {
        "colab": {
          "base_uri": "https://localhost:8080/"
        },
        "id": "KKxOVhzuHGFW",
        "outputId": "79b2740d-d345-423e-c76d-ad3b195143f0"
      },
      "execution_count": 112,
      "outputs": [
        {
          "output_type": "execute_result",
          "data": {
            "text/plain": [
              "<torch._C.Generator at 0x7fae5f2cecd0>"
            ]
          },
          "metadata": {},
          "execution_count": 112
        }
      ]
    },
    {
      "cell_type": "code",
      "source": [
        "from matplotlib.pyplot import imshow\n",
        "import matplotlib.pylab as plt\n",
        "from PIL import Image\n",
        "import pandas as pd\n",
        "import os"
      ],
      "metadata": {
        "id": "W_k3d9qtHOnz"
      },
      "execution_count": 113,
      "outputs": []
    },
    {
      "cell_type": "code",
      "source": [
        "data_name = pd.read_csv(\"/content/index.csv\")\n",
        "data_name.head()"
      ],
      "metadata": {
        "colab": {
          "base_uri": "https://localhost:8080/",
          "height": 206
        },
        "id": "qzwA5GPHHUBM",
        "outputId": "7cc07cee-37c9-46c0-e843-5414c216650a"
      },
      "execution_count": 114,
      "outputs": [
        {
          "output_type": "execute_result",
          "data": {
            "text/html": [
              "\n",
              "  <div id=\"df-aa02363b-dfbb-4ea5-b543-7c5f66de73a0\">\n",
              "    <div class=\"colab-df-container\">\n",
              "      <div>\n",
              "<style scoped>\n",
              "    .dataframe tbody tr th:only-of-type {\n",
              "        vertical-align: middle;\n",
              "    }\n",
              "\n",
              "    .dataframe tbody tr th {\n",
              "        vertical-align: top;\n",
              "    }\n",
              "\n",
              "    .dataframe thead th {\n",
              "        text-align: right;\n",
              "    }\n",
              "</style>\n",
              "<table border=\"1\" class=\"dataframe\">\n",
              "  <thead>\n",
              "    <tr style=\"text-align: right;\">\n",
              "      <th></th>\n",
              "      <th>category</th>\n",
              "      <th>image</th>\n",
              "    </tr>\n",
              "  </thead>\n",
              "  <tbody>\n",
              "    <tr>\n",
              "      <th>0</th>\n",
              "      <td>Ankle boot</td>\n",
              "      <td>img/fashion0.png</td>\n",
              "    </tr>\n",
              "    <tr>\n",
              "      <th>1</th>\n",
              "      <td>T-shirt</td>\n",
              "      <td>img/fashion1.png</td>\n",
              "    </tr>\n",
              "    <tr>\n",
              "      <th>2</th>\n",
              "      <td>T-shirt</td>\n",
              "      <td>img/fashion2.png</td>\n",
              "    </tr>\n",
              "    <tr>\n",
              "      <th>3</th>\n",
              "      <td>Dress</td>\n",
              "      <td>img/fashion3.png</td>\n",
              "    </tr>\n",
              "    <tr>\n",
              "      <th>4</th>\n",
              "      <td>T-shirt</td>\n",
              "      <td>img/fashion4.png</td>\n",
              "    </tr>\n",
              "  </tbody>\n",
              "</table>\n",
              "</div>\n",
              "      <button class=\"colab-df-convert\" onclick=\"convertToInteractive('df-aa02363b-dfbb-4ea5-b543-7c5f66de73a0')\"\n",
              "              title=\"Convert this dataframe to an interactive table.\"\n",
              "              style=\"display:none;\">\n",
              "        \n",
              "  <svg xmlns=\"http://www.w3.org/2000/svg\" height=\"24px\"viewBox=\"0 0 24 24\"\n",
              "       width=\"24px\">\n",
              "    <path d=\"M0 0h24v24H0V0z\" fill=\"none\"/>\n",
              "    <path d=\"M18.56 5.44l.94 2.06.94-2.06 2.06-.94-2.06-.94-.94-2.06-.94 2.06-2.06.94zm-11 1L8.5 8.5l.94-2.06 2.06-.94-2.06-.94L8.5 2.5l-.94 2.06-2.06.94zm10 10l.94 2.06.94-2.06 2.06-.94-2.06-.94-.94-2.06-.94 2.06-2.06.94z\"/><path d=\"M17.41 7.96l-1.37-1.37c-.4-.4-.92-.59-1.43-.59-.52 0-1.04.2-1.43.59L10.3 9.45l-7.72 7.72c-.78.78-.78 2.05 0 2.83L4 21.41c.39.39.9.59 1.41.59.51 0 1.02-.2 1.41-.59l7.78-7.78 2.81-2.81c.8-.78.8-2.07 0-2.86zM5.41 20L4 18.59l7.72-7.72 1.47 1.35L5.41 20z\"/>\n",
              "  </svg>\n",
              "      </button>\n",
              "      \n",
              "  <style>\n",
              "    .colab-df-container {\n",
              "      display:flex;\n",
              "      flex-wrap:wrap;\n",
              "      gap: 12px;\n",
              "    }\n",
              "\n",
              "    .colab-df-convert {\n",
              "      background-color: #E8F0FE;\n",
              "      border: none;\n",
              "      border-radius: 50%;\n",
              "      cursor: pointer;\n",
              "      display: none;\n",
              "      fill: #1967D2;\n",
              "      height: 32px;\n",
              "      padding: 0 0 0 0;\n",
              "      width: 32px;\n",
              "    }\n",
              "\n",
              "    .colab-df-convert:hover {\n",
              "      background-color: #E2EBFA;\n",
              "      box-shadow: 0px 1px 2px rgba(60, 64, 67, 0.3), 0px 1px 3px 1px rgba(60, 64, 67, 0.15);\n",
              "      fill: #174EA6;\n",
              "    }\n",
              "\n",
              "    [theme=dark] .colab-df-convert {\n",
              "      background-color: #3B4455;\n",
              "      fill: #D2E3FC;\n",
              "    }\n",
              "\n",
              "    [theme=dark] .colab-df-convert:hover {\n",
              "      background-color: #434B5C;\n",
              "      box-shadow: 0px 1px 3px 1px rgba(0, 0, 0, 0.15);\n",
              "      filter: drop-shadow(0px 1px 2px rgba(0, 0, 0, 0.3));\n",
              "      fill: #FFFFFF;\n",
              "    }\n",
              "  </style>\n",
              "\n",
              "      <script>\n",
              "        const buttonEl =\n",
              "          document.querySelector('#df-aa02363b-dfbb-4ea5-b543-7c5f66de73a0 button.colab-df-convert');\n",
              "        buttonEl.style.display =\n",
              "          google.colab.kernel.accessAllowed ? 'block' : 'none';\n",
              "\n",
              "        async function convertToInteractive(key) {\n",
              "          const element = document.querySelector('#df-aa02363b-dfbb-4ea5-b543-7c5f66de73a0');\n",
              "          const dataTable =\n",
              "            await google.colab.kernel.invokeFunction('convertToInteractive',\n",
              "                                                     [key], {});\n",
              "          if (!dataTable) return;\n",
              "\n",
              "          const docLinkHtml = 'Like what you see? Visit the ' +\n",
              "            '<a target=\"_blank\" href=https://colab.research.google.com/notebooks/data_table.ipynb>data table notebook</a>'\n",
              "            + ' to learn more about interactive tables.';\n",
              "          element.innerHTML = '';\n",
              "          dataTable['output_type'] = 'display_data';\n",
              "          await google.colab.output.renderOutput(dataTable, element);\n",
              "          const docLink = document.createElement('div');\n",
              "          docLink.innerHTML = docLinkHtml;\n",
              "          element.appendChild(docLink);\n",
              "        }\n",
              "      </script>\n",
              "    </div>\n",
              "  </div>\n",
              "  "
            ],
            "text/plain": [
              "     category             image\n",
              "0  Ankle boot  img/fashion0.png\n",
              "1     T-shirt  img/fashion1.png\n",
              "2     T-shirt  img/fashion2.png\n",
              "3       Dress  img/fashion3.png\n",
              "4     T-shirt  img/fashion4.png"
            ]
          },
          "metadata": {},
          "execution_count": 114
        }
      ]
    },
    {
      "cell_type": "code",
      "source": [
        "data_name.iloc[0,:]"
      ],
      "metadata": {
        "colab": {
          "base_uri": "https://localhost:8080/"
        },
        "id": "0FOkmYUvHddN",
        "outputId": "a3822aa6-b6f1-4713-998a-3e6ec5fd0103"
      },
      "execution_count": 115,
      "outputs": [
        {
          "output_type": "execute_result",
          "data": {
            "text/plain": [
              "category          Ankle boot\n",
              "image       img/fashion0.png\n",
              "Name: 0, dtype: object"
            ]
          },
          "metadata": {},
          "execution_count": 115
        }
      ]
    },
    {
      "cell_type": "code",
      "source": [
        "image_name = data_name.iloc[1,1]\n",
        "image_name"
      ],
      "metadata": {
        "colab": {
          "base_uri": "https://localhost:8080/",
          "height": 36
        },
        "id": "oSai4uObHjRO",
        "outputId": "826b9ae3-8ee5-4cc3-c5ed-7ceef8b22ff8"
      },
      "execution_count": 116,
      "outputs": [
        {
          "output_type": "execute_result",
          "data": {
            "application/vnd.google.colaboratory.intrinsic+json": {
              "type": "string"
            },
            "text/plain": [
              "'img/fashion1.png'"
            ]
          },
          "metadata": {},
          "execution_count": 116
        }
      ]
    },
    {
      "cell_type": "code",
      "source": [
        "image_path = os.path.join(\"/content/\",image_name)\n",
        "image_path"
      ],
      "metadata": {
        "colab": {
          "base_uri": "https://localhost:8080/",
          "height": 36
        },
        "id": "M2AnINEKH30d",
        "outputId": "133ee3eb-68af-4217-e568-afb81c7399ba"
      },
      "execution_count": 117,
      "outputs": [
        {
          "output_type": "execute_result",
          "data": {
            "application/vnd.google.colaboratory.intrinsic+json": {
              "type": "string"
            },
            "text/plain": [
              "'/content/img/fashion1.png'"
            ]
          },
          "metadata": {},
          "execution_count": 117
        }
      ]
    },
    {
      "cell_type": "markdown",
      "source": [
        "plot the image"
      ],
      "metadata": {
        "id": "wg08ArLUIDmN"
      }
    },
    {
      "cell_type": "code",
      "source": [
        "image = Image.open(image_path)\n",
        "plt.imshow(image, cmap= \"gray\")\n",
        "plt.title(data_name.iloc[1,0])\n",
        "plt.show()"
      ],
      "metadata": {
        "colab": {
          "base_uri": "https://localhost:8080/",
          "height": 281
        },
        "id": "gyCCWtNMIBO0",
        "outputId": "b8bde37f-cbf5-406b-85e5-bdf0b3b0733b"
      },
      "execution_count": 118,
      "outputs": [
        {
          "output_type": "display_data",
          "data": {
            "image/png": "[encoded data removed]",
            "text/plain": [
              "<Figure size 432x288 with 1 Axes>"
            ]
          },
          "metadata": {
            "needs_background": "light"
          }
        }
      ]
    },
    {
      "cell_type": "code",
      "source": [
        "from torch.utils.data import Dataset\n",
        "\n",
        "class Dataset(Dataset):\n",
        "\n",
        "  def __init__(self,csv_dir =\"/content/index.csv\" ,data_dir = \"/content\", transform = None):\n",
        "    self.data_dir = data_dir\n",
        "    self.data_name = pd.read_csv(csv_dir)\n",
        "    self.transform = transform\n",
        "    self.len = len(data_name)\n",
        "\n",
        "  def __len__(self):\n",
        "    return self.len\n",
        "\n",
        "  def __getitem__(self, index):\n",
        "    path = self.data_name.iloc[index,1]\n",
        "    x = os.path.join(self.data_dir,path)\n",
        "    print(x)\n",
        "    image = Image.open(x)\n",
        "    y = self.data_name.iloc[index,0]\n",
        "\n",
        "    if self.transform:\n",
        "      image = self.transform(image)\n",
        "\n",
        "    return image,y"
      ],
      "metadata": {
        "id": "qjh_nlytJQfv"
      },
      "execution_count": 119,
      "outputs": []
    },
    {
      "cell_type": "code",
      "source": [
        "dataset = Dataset()"
      ],
      "metadata": {
        "id": "4gx5EAoaJW5-"
      },
      "execution_count": 120,
      "outputs": []
    },
    {
      "cell_type": "code",
      "source": [
        "img, y = dataset[0]\n",
        "plt.imshow(img), y"
      ],
      "metadata": {
        "colab": {
          "base_uri": "https://localhost:8080/",
          "height": 300
        },
        "id": "1CvxgkoPLJ3N",
        "outputId": "a2aea37d-ff99-44e9-d48c-b516698060fe"
      },
      "execution_count": 121,
      "outputs": [
        {
          "output_type": "stream",
          "name": "stdout",
          "text": [
            "/content/img/fashion0.png\n"
          ]
        },
        {
          "output_type": "execute_result",
          "data": {
            "text/plain": [
              "(<matplotlib.image.AxesImage at 0x7fae582b8ad0>, 'Ankle boot')"
            ]
          },
          "metadata": {},
          "execution_count": 121
        },
        {
          "output_type": "display_data",
          "data": {
            "image/png": "[encoded data removed]",
            "text/plain": [
              "<Figure size 432x288 with 1 Axes>"
            ]
          },
          "metadata": {
            "needs_background": "light"
          }
        }
      ]
    },
    {
      "cell_type": "markdown",
      "source": [
        "##TorchVision Transforms"
      ],
      "metadata": {
        "id": "6u33w2AYMcB1"
      }
    },
    {
      "cell_type": "code",
      "source": [
        "import torchvision.transforms as transforms"
      ],
      "metadata": {
        "id": "w_D0-MVhL9hH"
      },
      "execution_count": 122,
      "outputs": []
    },
    {
      "cell_type": "code",
      "source": [
        "#CenterCrop -> gets the central 20x20 pixepls (resizes)\n",
        "compose = transforms.Compose([transforms.CenterCrop(20),transforms.RandomVerticalFlip(p=1),transforms.ToTensor()])\n",
        "dataset = Dataset(csv_dir=\"/content/index.csv\" , data_dir=\"/content\",transform=compose)\n",
        "print(\"The shape of the first element tensor: \", dataset[0][0].shape)"
      ],
      "metadata": {
        "colab": {
          "base_uri": "https://localhost:8080/"
        },
        "id": "8-qB9YKMMk7h",
        "outputId": "cf7ddd54-6698-4672-fd23-093250bb546a"
      },
      "execution_count": 123,
      "outputs": [
        {
          "output_type": "stream",
          "name": "stdout",
          "text": [
            "/content/img/fashion0.png\n",
            "The shape of the first element tensor:  torch.Size([1, 20, 20])\n"
          ]
        }
      ]
    },
    {
      "cell_type": "code",
      "source": [
        "plt.imshow(dataset[14][0].squeeze(), cmap = \"gray\")"
      ],
      "metadata": {
        "colab": {
          "base_uri": "https://localhost:8080/",
          "height": 300
        },
        "id": "rC6fBtNONMTz",
        "outputId": "f0ad5205-f531-4a86-c0d1-35c306af2a00"
      },
      "execution_count": 124,
      "outputs": [
        {
          "output_type": "stream",
          "name": "stdout",
          "text": [
            "/content/img/fashion14.png\n"
          ]
        },
        {
          "output_type": "execute_result",
          "data": {
            "text/plain": [
              "<matplotlib.image.AxesImage at 0x7fae57dd8d90>"
            ]
          },
          "metadata": {},
          "execution_count": 124
        },
        {
          "output_type": "display_data",
          "data": {
            "image/png": "[encoded data removed]",
            "text/plain": [
              "<Figure size 432x288 with 1 Axes>"
            ]
          },
          "metadata": {
            "needs_background": "light"
          }
        }
      ]
    },
    {
      "cell_type": "markdown",
      "source": [
        "#Linear Regression"
      ],
      "metadata": {
        "id": "mpdzgNnX1BDQ"
      }
    },
    {
      "cell_type": "code",
      "source": [
        "w = torch.tensor(2.,requires_grad=True)\n",
        "b = torch.tensor(-1.,requires_grad=True)"
      ],
      "metadata": {
        "id": "kB6K_l36NyC7"
      },
      "execution_count": 125,
      "outputs": []
    },
    {
      "cell_type": "code",
      "source": [
        "def forward(x,w,b):\n",
        "  return w*x + b"
      ],
      "metadata": {
        "id": "krW1OQVb1bn1"
      },
      "execution_count": 126,
      "outputs": []
    },
    {
      "cell_type": "code",
      "source": [
        "x = torch.tensor(1)\n",
        "yhat = forward(x,w,b)\n",
        "yhat"
      ],
      "metadata": {
        "colab": {
          "base_uri": "https://localhost:8080/"
        },
        "id": "pB54ttZ81s_J",
        "outputId": "6058c711-54bd-4f9d-bcfa-153216dbfa73"
      },
      "execution_count": 127,
      "outputs": [
        {
          "output_type": "execute_result",
          "data": {
            "text/plain": [
              "tensor(1., grad_fn=<AddBackward0>)"
            ]
          },
          "metadata": {},
          "execution_count": 127
        }
      ]
    },
    {
      "cell_type": "code",
      "source": [
        "w.shape,x.shape,b.shape"
      ],
      "metadata": {
        "colab": {
          "base_uri": "https://localhost:8080/"
        },
        "id": "FWx-cgor1yZo",
        "outputId": "4a740c65-db59-4f29-bb2e-ed534b944a51"
      },
      "execution_count": 128,
      "outputs": [
        {
          "output_type": "execute_result",
          "data": {
            "text/plain": [
              "(torch.Size([]), torch.Size([]), torch.Size([]))"
            ]
          },
          "metadata": {},
          "execution_count": 128
        }
      ]
    },
    {
      "cell_type": "code",
      "source": [
        "x = torch.tensor([1,3])\n",
        "yhat = forward(x,w,b)\n",
        "yhat"
      ],
      "metadata": {
        "colab": {
          "base_uri": "https://localhost:8080/"
        },
        "id": "Ah5bHjEy1yzW",
        "outputId": "f0612611-8943-4f2f-e411-67dba79304a9"
      },
      "execution_count": 129,
      "outputs": [
        {
          "output_type": "execute_result",
          "data": {
            "text/plain": [
              "tensor([1., 5.], grad_fn=<AddBackward0>)"
            ]
          },
          "metadata": {},
          "execution_count": 129
        }
      ]
    },
    {
      "cell_type": "markdown",
      "source": [
        "##Class Linear"
      ],
      "metadata": {
        "id": "kJOHG5o02d4A"
      }
    },
    {
      "cell_type": "code",
      "source": [
        "from torch.nn import Linear"
      ],
      "metadata": {
        "id": "PMWTnKSo2acs"
      },
      "execution_count": 130,
      "outputs": []
    },
    {
      "cell_type": "code",
      "source": [
        "torch.manual_seed(1)"
      ],
      "metadata": {
        "colab": {
          "base_uri": "https://localhost:8080/"
        },
        "id": "Y1z21jQ82hLr",
        "outputId": "d48838cb-b99a-4837-cfe3-9b281d60604f"
      },
      "execution_count": 131,
      "outputs": [
        {
          "output_type": "execute_result",
          "data": {
            "text/plain": [
              "<torch._C.Generator at 0x7fae5f2cecd0>"
            ]
          },
          "metadata": {},
          "execution_count": 131
        }
      ]
    },
    {
      "cell_type": "code",
      "source": [
        "lr = Linear(in_features=1, out_features=1,bias = True)\n",
        "list(lr.parameters()) #contains parameters"
      ],
      "metadata": {
        "colab": {
          "base_uri": "https://localhost:8080/"
        },
        "id": "dEIsLKcB2kpB",
        "outputId": "fda820ce-170f-4187-e3eb-7e534980885a"
      },
      "execution_count": 132,
      "outputs": [
        {
          "output_type": "execute_result",
          "data": {
            "text/plain": [
              "[Parameter containing:\n",
              " tensor([[0.5153]], requires_grad=True), Parameter containing:\n",
              " tensor([-0.4414], requires_grad=True)]"
            ]
          },
          "metadata": {},
          "execution_count": 132
        }
      ]
    },
    {
      "cell_type": "code",
      "source": [
        "#another way to get params\n",
        "lr.state_dict()"
      ],
      "metadata": {
        "colab": {
          "base_uri": "https://localhost:8080/"
        },
        "id": "cEPQdwO92vLi",
        "outputId": "c3c17b34-f838-4b20-e16d-b40d0a59443a"
      },
      "execution_count": 133,
      "outputs": [
        {
          "output_type": "execute_result",
          "data": {
            "text/plain": [
              "OrderedDict([('weight', tensor([[0.5153]])), ('bias', tensor([-0.4414]))])"
            ]
          },
          "metadata": {},
          "execution_count": 133
        }
      ]
    },
    {
      "cell_type": "code",
      "source": [
        "#another way to get the parameters\n",
        "lr.weight, lr.bias"
      ],
      "metadata": {
        "colab": {
          "base_uri": "https://localhost:8080/"
        },
        "id": "aUt3lsET25jp",
        "outputId": "6005ee40-a778-4258-90db-561e4d799c13"
      },
      "execution_count": 134,
      "outputs": [
        {
          "output_type": "execute_result",
          "data": {
            "text/plain": [
              "(Parameter containing:\n",
              " tensor([[0.5153]], requires_grad=True), Parameter containing:\n",
              " tensor([-0.4414], requires_grad=True))"
            ]
          },
          "metadata": {},
          "execution_count": 134
        }
      ]
    },
    {
      "cell_type": "code",
      "source": [
        "#make the prediction\n",
        "x = torch.tensor([1.])\n",
        "yhat = lr(x)\n",
        "yhat"
      ],
      "metadata": {
        "colab": {
          "base_uri": "https://localhost:8080/"
        },
        "id": "16adgZNd3AsZ",
        "outputId": "71d903a6-309a-4298-cd11-4aafd02ddc5a"
      },
      "execution_count": 135,
      "outputs": [
        {
          "output_type": "execute_result",
          "data": {
            "text/plain": [
              "tensor([0.0739], grad_fn=<AddBackward0>)"
            ]
          },
          "metadata": {},
          "execution_count": 135
        }
      ]
    },
    {
      "cell_type": "code",
      "source": [
        "#make the prediction\n",
        "x = torch.tensor([[1.],[3]])\n",
        "yhat = lr(x)\n",
        "yhat"
      ],
      "metadata": {
        "colab": {
          "base_uri": "https://localhost:8080/"
        },
        "id": "_n620-XI3Oku",
        "outputId": "7fc64390-bbe6-4491-ff17-04170acf1788"
      },
      "execution_count": 136,
      "outputs": [
        {
          "output_type": "execute_result",
          "data": {
            "text/plain": [
              "tensor([[0.0739],\n",
              "        [1.1044]], grad_fn=<AddmmBackward0>)"
            ]
          },
          "metadata": {},
          "execution_count": 136
        }
      ]
    },
    {
      "cell_type": "markdown",
      "source": [
        "##Build custom Linear Regression"
      ],
      "metadata": {
        "id": "Zln_EOqI3p7u"
      }
    },
    {
      "cell_type": "code",
      "source": [
        "from torch import nn\n",
        "\n",
        "class LR(nn.Module):\n",
        "  \n",
        "  def __init__(self, input_size, output_size):\n",
        "    super(LR,self).__init__()\n",
        "    self.linear = nn.Linear(input_size,output_size)\n",
        "\n",
        "  def forward(self,x):\n",
        "    out = self.linear(x)\n",
        "    return out "
      ],
      "metadata": {
        "id": "cpvBbSC13chr"
      },
      "execution_count": 137,
      "outputs": []
    },
    {
      "cell_type": "code",
      "source": [
        "lr = LR(1,1)\n",
        "x = torch.tensor([[3.]])\n",
        "lr(x)"
      ],
      "metadata": {
        "colab": {
          "base_uri": "https://localhost:8080/"
        },
        "id": "s4AQySRS4mV6",
        "outputId": "52533a37-0df8-4ea2-97ae-56a25f9db0fa"
      },
      "execution_count": 138,
      "outputs": [
        {
          "output_type": "execute_result",
          "data": {
            "text/plain": [
              "tensor([[-0.1122]], grad_fn=<AddmmBackward0>)"
            ]
          },
          "metadata": {},
          "execution_count": 138
        }
      ]
    },
    {
      "cell_type": "code",
      "source": [
        "lr = LR(1,1)\n",
        "x = torch.tensor([[3.],[2.4],[1.2]])\n",
        "lr(x)"
      ],
      "metadata": {
        "colab": {
          "base_uri": "https://localhost:8080/"
        },
        "id": "spGLXrB99WIG",
        "outputId": "082502f9-d693-42de-f19c-9e36fe5a5605"
      },
      "execution_count": 139,
      "outputs": [
        {
          "output_type": "execute_result",
          "data": {
            "text/plain": [
              "tensor([[-2.2246],\n",
              "        [-1.6597],\n",
              "        [-0.5300]], grad_fn=<AddmmBackward0>)"
            ]
          },
          "metadata": {},
          "execution_count": 139
        }
      ]
    },
    {
      "cell_type": "markdown",
      "source": [
        "##Implement Gradient Descent"
      ],
      "metadata": {
        "id": "oZ84FtgWElYC"
      }
    },
    {
      "cell_type": "code",
      "source": [
        "w = torch.tensor(-10.,requires_grad = True)\n",
        "X = torch.arange(-3,3,0.1).view(-1,1)\n",
        "f = X*-3"
      ],
      "metadata": {
        "id": "vR4G4xPi9k3S"
      },
      "execution_count": 146,
      "outputs": []
    },
    {
      "cell_type": "code",
      "source": [
        "plt.plot(X,f)"
      ],
      "metadata": {
        "colab": {
          "base_uri": "https://localhost:8080/",
          "height": 283
        },
        "id": "rP-hlWNOE0hV",
        "outputId": "8dd92e30-a5b3-473c-a8e1-feddd2661696"
      },
      "execution_count": 147,
      "outputs": [
        {
          "output_type": "execute_result",
          "data": {
            "text/plain": [
              "[<matplotlib.lines.Line2D at 0x7fae57ed6e50>]"
            ]
          },
          "metadata": {},
          "execution_count": 147
        },
        {
          "output_type": "display_data",
          "data": {
            "image/png": "[encoded data removed]",
            "text/plain": [
              "<Figure size 432x288 with 1 Axes>"
            ]
          },
          "metadata": {
            "needs_background": "light"
          }
        }
      ]
    },
    {
      "cell_type": "code",
      "source": [
        "Y = f + (0.1*torch.randn(X.size()))"
      ],
      "metadata": {
        "id": "iOvJLbCaE_cc"
      },
      "execution_count": 163,
      "outputs": []
    },
    {
      "cell_type": "code",
      "source": [
        "plt.scatter(X.numpy(),Y.numpy())\n",
        "plt.show()"
      ],
      "metadata": {
        "colab": {
          "base_uri": "https://localhost:8080/",
          "height": 265
        },
        "id": "zjnSgwR0FLv-",
        "outputId": "d4d5d1c8-b59d-4e51-b9e5-c9e52deae716"
      },
      "execution_count": 164,
      "outputs": [
        {
          "output_type": "display_data",
          "data": {
            "image/png": "[encoded data removed]",
            "text/plain": [
              "<Figure size 432x288 with 1 Axes>"
            ]
          },
          "metadata": {
            "needs_background": "light"
          }
        }
      ]
    },
    {
      "cell_type": "code",
      "source": [
        "X.size(),Y.size()\n",
        "forward(X).size()"
      ],
      "metadata": {
        "colab": {
          "base_uri": "https://localhost:8080/"
        },
        "id": "rgwBzU0tFNeo",
        "outputId": "5a461db1-a0aa-4430-e55b-080c21f3d1c8"
      },
      "execution_count": 173,
      "outputs": [
        {
          "output_type": "execute_result",
          "data": {
            "text/plain": [
              "torch.Size([3, 1])"
            ]
          },
          "metadata": {},
          "execution_count": 173
        }
      ]
    },
    {
      "cell_type": "code",
      "source": [
        "def forward(X):\n",
        "  return w*X\n",
        "\n",
        "def loss(X,Y):\n",
        "  yhat = forward(X)\n",
        "  return torch.mean((yhat-Y)**2)"
      ],
      "metadata": {
        "id": "X4Qr6xu0Fjoo"
      },
      "execution_count": 174,
      "outputs": []
    },
    {
      "cell_type": "code",
      "source": [
        "lr = 0.1\n",
        "cost = []\n",
        "\n",
        "for epoch in range(100):\n",
        "  l = loss(X,Y)\n",
        "  l.backward()\n",
        "  \n",
        "  w.data = w.data - w.grad.data\n",
        "  w.grad.data.zero_()\n",
        "\n",
        "  cost.append(l.item())"
      ],
      "metadata": {
        "id": "e_crbksbGHpm"
      },
      "execution_count": 195,
      "outputs": []
    },
    {
      "cell_type": "code",
      "source": [
        "len(cost)"
      ],
      "metadata": {
        "colab": {
          "base_uri": "https://localhost:8080/"
        },
        "id": "AoWCFmcdH5Pc",
        "outputId": "f3c5b93e-5f9f-4828-9057-e4735ed73c46"
      },
      "execution_count": 187,
      "outputs": [
        {
          "output_type": "execute_result",
          "data": {
            "text/plain": [
              "1000"
            ]
          },
          "metadata": {},
          "execution_count": 187
        }
      ]
    },
    {
      "cell_type": "code",
      "source": [
        ""
      ],
      "metadata": {
        "id": "PVnBsiSXJgF5"
      },
      "execution_count": null,
      "outputs": []
    }
  ]
}