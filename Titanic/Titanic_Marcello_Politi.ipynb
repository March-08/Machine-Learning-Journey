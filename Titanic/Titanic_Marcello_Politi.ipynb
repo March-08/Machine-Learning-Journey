{
  "nbformat": 4,
  "nbformat_minor": 0,
  "metadata": {
    "colab": {
      "name": "Titanic Marcello Politi.ipynb",
      "provenance": [],
      "collapsed_sections": []
    },
    "kernelspec": {
      "name": "python3",
      "display_name": "Python 3"
    },
    "language_info": {
      "name": "python"
    }
  },
  "cells": [
    {
      "cell_type": "markdown",
      "source": [
        "#Suggerimenti da implementare:\n"
      ],
      "metadata": {
        "id": "q1crpxqdVvj5"
      }
    },
    {
      "cell_type": "code",
      "execution_count": 5,
      "metadata": {
        "id": "QTx8EG2TKTfm"
      },
      "outputs": [],
      "source": [
        "import numpy as np\n",
        "import pandas as pd\n",
        "import matplotlib.pyplot as plt\n",
        "import seaborn as sns"
      ]
    },
    {
      "cell_type": "code",
      "source": [
        "import warnings\n",
        "warnings.filterwarnings(\"ignore\")"
      ],
      "metadata": {
        "id": "XNKAZOZbOHAD"
      },
      "execution_count": 6,
      "outputs": []
    },
    {
      "cell_type": "code",
      "source": [
        "from sklearn.impute import SimpleImputer\n",
        "from sklearn.preprocessing import OrdinalEncoder, OneHotEncoder, StandardScaler, MinMaxScaler\n",
        "from sklearn import preprocessing\n",
        "# Per unire una serie di operazini in unico oggetto\n",
        "from sklearn.pipeline import Pipeline\n",
        "from sklearn.compose import ColumnTransformer"
      ],
      "metadata": {
        "id": "DiMGe96s_ewp"
      },
      "execution_count": 7,
      "outputs": []
    },
    {
      "cell_type": "markdown",
      "source": [
        "#Import Dataset"
      ],
      "metadata": {
        "id": "amI7kNjySQzY"
      }
    },
    {
      "cell_type": "code",
      "source": [
        "testing = pd.read_csv(\"https://raw.githubusercontent.com/agconti/kaggle-titanic/master/data/test.csv\")\n",
        "training = pd.read_csv(\"https://raw.githubusercontent.com/agconti/kaggle-titanic/master/data/train.csv\")"
      ],
      "metadata": {
        "id": "fqx2b3hpKaUe"
      },
      "execution_count": 8,
      "outputs": []
    },
    {
      "cell_type": "code",
      "source": [
        "#remove records with no labels\n",
        "training.dropna(axis = 0 , subset=[\"Survived\"],inplace=True)\n",
        "training.info()"
      ],
      "metadata": {
        "colab": {
          "base_uri": "https://localhost:8080/"
        },
        "id": "c90SQ7jxKcHq",
        "outputId": "a6f0072b-dea6-42b4-d10c-9602e4fdf343"
      },
      "execution_count": 9,
      "outputs": [
        {
          "output_type": "stream",
          "name": "stdout",
          "text": [
            "<class 'pandas.core.frame.DataFrame'>\n",
            "Int64Index: 891 entries, 0 to 890\n",
            "Data columns (total 12 columns):\n",
            " #   Column       Non-Null Count  Dtype  \n",
            "---  ------       --------------  -----  \n",
            " 0   PassengerId  891 non-null    int64  \n",
            " 1   Survived     891 non-null    int64  \n",
            " 2   Pclass       891 non-null    int64  \n",
            " 3   Name         891 non-null    object \n",
            " 4   Sex          891 non-null    object \n",
            " 5   Age          714 non-null    float64\n",
            " 6   SibSp        891 non-null    int64  \n",
            " 7   Parch        891 non-null    int64  \n",
            " 8   Ticket       891 non-null    object \n",
            " 9   Fare         891 non-null    float64\n",
            " 10  Cabin        204 non-null    object \n",
            " 11  Embarked     889 non-null    object \n",
            "dtypes: float64(2), int64(5), object(5)\n",
            "memory usage: 90.5+ KB\n"
          ]
        }
      ]
    },
    {
      "cell_type": "code",
      "source": [
        "#visualization of missing values\n",
        "null_counter = [(col, training[col].isnull().sum(),training[col].isnull().sum()/len(training) ) for col in training.columns if training[col].isnull().sum() > 0 ]\n",
        "null_counter = pd.DataFrame(null_counter,columns=[\"Feature\",\"Missings\",\"%\"] )\n",
        "null_counter"
      ],
      "metadata": {
        "colab": {
          "base_uri": "https://localhost:8080/",
          "height": 143
        },
        "id": "PKU3ZmRLKjBd",
        "outputId": "f96942fd-ff7a-401d-d421-47875f919913"
      },
      "execution_count": 10,
      "outputs": [
        {
          "output_type": "execute_result",
          "data": {
            "text/html": [
              "\n",
              "  <div id=\"df-d87fc877-d6dc-4a96-813c-6eb441ea1437\">\n",
              "    <div class=\"colab-df-container\">\n",
              "      <div>\n",
              "<style scoped>\n",
              "    .dataframe tbody tr th:only-of-type {\n",
              "        vertical-align: middle;\n",
              "    }\n",
              "\n",
              "    .dataframe tbody tr th {\n",
              "        vertical-align: top;\n",
              "    }\n",
              "\n",
              "    .dataframe thead th {\n",
              "        text-align: right;\n",
              "    }\n",
              "</style>\n",
              "<table border=\"1\" class=\"dataframe\">\n",
              "  <thead>\n",
              "    <tr style=\"text-align: right;\">\n",
              "      <th></th>\n",
              "      <th>Feature</th>\n",
              "      <th>Missings</th>\n",
              "      <th>%</th>\n",
              "    </tr>\n",
              "  </thead>\n",
              "  <tbody>\n",
              "    <tr>\n",
              "      <th>0</th>\n",
              "      <td>Age</td>\n",
              "      <td>177</td>\n",
              "      <td>0.198653</td>\n",
              "    </tr>\n",
              "    <tr>\n",
              "      <th>1</th>\n",
              "      <td>Cabin</td>\n",
              "      <td>687</td>\n",
              "      <td>0.771044</td>\n",
              "    </tr>\n",
              "    <tr>\n",
              "      <th>2</th>\n",
              "      <td>Embarked</td>\n",
              "      <td>2</td>\n",
              "      <td>0.002245</td>\n",
              "    </tr>\n",
              "  </tbody>\n",
              "</table>\n",
              "</div>\n",
              "      <button class=\"colab-df-convert\" onclick=\"convertToInteractive('df-d87fc877-d6dc-4a96-813c-6eb441ea1437')\"\n",
              "              title=\"Convert this dataframe to an interactive table.\"\n",
              "              style=\"display:none;\">\n",
              "        \n",
              "  <svg xmlns=\"http://www.w3.org/2000/svg\" height=\"24px\"viewBox=\"0 0 24 24\"\n",
              "       width=\"24px\">\n",
              "    <path d=\"M0 0h24v24H0V0z\" fill=\"none\"/>\n",
              "    <path d=\"M18.56 5.44l.94 2.06.94-2.06 2.06-.94-2.06-.94-.94-2.06-.94 2.06-2.06.94zm-11 1L8.5 8.5l.94-2.06 2.06-.94-2.06-.94L8.5 2.5l-.94 2.06-2.06.94zm10 10l.94 2.06.94-2.06 2.06-.94-2.06-.94-.94-2.06-.94 2.06-2.06.94z\"/><path d=\"M17.41 7.96l-1.37-1.37c-.4-.4-.92-.59-1.43-.59-.52 0-1.04.2-1.43.59L10.3 9.45l-7.72 7.72c-.78.78-.78 2.05 0 2.83L4 21.41c.39.39.9.59 1.41.59.51 0 1.02-.2 1.41-.59l7.78-7.78 2.81-2.81c.8-.78.8-2.07 0-2.86zM5.41 20L4 18.59l7.72-7.72 1.47 1.35L5.41 20z\"/>\n",
              "  </svg>\n",
              "      </button>\n",
              "      \n",
              "  <style>\n",
              "    .colab-df-container {\n",
              "      display:flex;\n",
              "      flex-wrap:wrap;\n",
              "      gap: 12px;\n",
              "    }\n",
              "\n",
              "    .colab-df-convert {\n",
              "      background-color: #E8F0FE;\n",
              "      border: none;\n",
              "      border-radius: 50%;\n",
              "      cursor: pointer;\n",
              "      display: none;\n",
              "      fill: #1967D2;\n",
              "      height: 32px;\n",
              "      padding: 0 0 0 0;\n",
              "      width: 32px;\n",
              "    }\n",
              "\n",
              "    .colab-df-convert:hover {\n",
              "      background-color: #E2EBFA;\n",
              "      box-shadow: 0px 1px 2px rgba(60, 64, 67, 0.3), 0px 1px 3px 1px rgba(60, 64, 67, 0.15);\n",
              "      fill: #174EA6;\n",
              "    }\n",
              "\n",
              "    [theme=dark] .colab-df-convert {\n",
              "      background-color: #3B4455;\n",
              "      fill: #D2E3FC;\n",
              "    }\n",
              "\n",
              "    [theme=dark] .colab-df-convert:hover {\n",
              "      background-color: #434B5C;\n",
              "      box-shadow: 0px 1px 3px 1px rgba(0, 0, 0, 0.15);\n",
              "      filter: drop-shadow(0px 1px 2px rgba(0, 0, 0, 0.3));\n",
              "      fill: #FFFFFF;\n",
              "    }\n",
              "  </style>\n",
              "\n",
              "      <script>\n",
              "        const buttonEl =\n",
              "          document.querySelector('#df-d87fc877-d6dc-4a96-813c-6eb441ea1437 button.colab-df-convert');\n",
              "        buttonEl.style.display =\n",
              "          google.colab.kernel.accessAllowed ? 'block' : 'none';\n",
              "\n",
              "        async function convertToInteractive(key) {\n",
              "          const element = document.querySelector('#df-d87fc877-d6dc-4a96-813c-6eb441ea1437');\n",
              "          const dataTable =\n",
              "            await google.colab.kernel.invokeFunction('convertToInteractive',\n",
              "                                                     [key], {});\n",
              "          if (!dataTable) return;\n",
              "\n",
              "          const docLinkHtml = 'Like what you see? Visit the ' +\n",
              "            '<a target=\"_blank\" href=https://colab.research.google.com/notebooks/data_table.ipynb>data table notebook</a>'\n",
              "            + ' to learn more about interactive tables.';\n",
              "          element.innerHTML = '';\n",
              "          dataTable['output_type'] = 'display_data';\n",
              "          await google.colab.output.renderOutput(dataTable, element);\n",
              "          const docLink = document.createElement('div');\n",
              "          docLink.innerHTML = docLinkHtml;\n",
              "          element.appendChild(docLink);\n",
              "        }\n",
              "      </script>\n",
              "    </div>\n",
              "  </div>\n",
              "  "
            ],
            "text/plain": [
              "    Feature  Missings         %\n",
              "0       Age       177  0.198653\n",
              "1     Cabin       687  0.771044\n",
              "2  Embarked         2  0.002245"
            ]
          },
          "metadata": {},
          "execution_count": 10
        }
      ]
    },
    {
      "cell_type": "code",
      "source": [
        "X = training.drop(\"Survived\", axis = 1)\n",
        "y = training.Survived"
      ],
      "metadata": {
        "id": "hqxqaZy4KsCj"
      },
      "execution_count": 10,
      "outputs": []
    },
    {
      "cell_type": "code",
      "source": [
        "numerical_features = [\"Age\",\"SibSp\",\"Parch\",\"Fare\"]\n",
        "categorical_features = [\"Pclass\",\"Sex\",\"Ticket\",\"Cabin\",\"Embarked\"]"
      ],
      "metadata": {
        "id": "IyyBMi9AK2Y6"
      },
      "execution_count": 11,
      "outputs": []
    },
    {
      "cell_type": "code",
      "source": [
        "training.head()"
      ],
      "metadata": {
        "id": "MQUycIKpW71B",
        "outputId": "111d80e9-8d13-4ffb-f559-ee55991ba56a",
        "colab": {
          "base_uri": "https://localhost:8080/",
          "height": 206
        }
      },
      "execution_count": 12,
      "outputs": [
        {
          "output_type": "execute_result",
          "data": {
            "text/html": [
              "\n",
              "  <div id=\"df-2d82bef7-69e4-429d-b920-f443cbd8f500\">\n",
              "    <div class=\"colab-df-container\">\n",
              "      <div>\n",
              "<style scoped>\n",
              "    .dataframe tbody tr th:only-of-type {\n",
              "        vertical-align: middle;\n",
              "    }\n",
              "\n",
              "    .dataframe tbody tr th {\n",
              "        vertical-align: top;\n",
              "    }\n",
              "\n",
              "    .dataframe thead th {\n",
              "        text-align: right;\n",
              "    }\n",
              "</style>\n",
              "<table border=\"1\" class=\"dataframe\">\n",
              "  <thead>\n",
              "    <tr style=\"text-align: right;\">\n",
              "      <th></th>\n",
              "      <th>PassengerId</th>\n",
              "      <th>Survived</th>\n",
              "      <th>Pclass</th>\n",
              "      <th>Name</th>\n",
              "      <th>Sex</th>\n",
              "      <th>Age</th>\n",
              "      <th>SibSp</th>\n",
              "      <th>Parch</th>\n",
              "      <th>Ticket</th>\n",
              "      <th>Fare</th>\n",
              "      <th>Cabin</th>\n",
              "      <th>Embarked</th>\n",
              "    </tr>\n",
              "  </thead>\n",
              "  <tbody>\n",
              "    <tr>\n",
              "      <th>0</th>\n",
              "      <td>1</td>\n",
              "      <td>0</td>\n",
              "      <td>3</td>\n",
              "      <td>Braund, Mr. Owen Harris</td>\n",
              "      <td>male</td>\n",
              "      <td>22.0</td>\n",
              "      <td>1</td>\n",
              "      <td>0</td>\n",
              "      <td>A/5 21171</td>\n",
              "      <td>7.2500</td>\n",
              "      <td>NaN</td>\n",
              "      <td>S</td>\n",
              "    </tr>\n",
              "    <tr>\n",
              "      <th>1</th>\n",
              "      <td>2</td>\n",
              "      <td>1</td>\n",
              "      <td>1</td>\n",
              "      <td>Cumings, Mrs. John Bradley (Florence Briggs Th...</td>\n",
              "      <td>female</td>\n",
              "      <td>38.0</td>\n",
              "      <td>1</td>\n",
              "      <td>0</td>\n",
              "      <td>PC 17599</td>\n",
              "      <td>71.2833</td>\n",
              "      <td>C85</td>\n",
              "      <td>C</td>\n",
              "    </tr>\n",
              "    <tr>\n",
              "      <th>2</th>\n",
              "      <td>3</td>\n",
              "      <td>1</td>\n",
              "      <td>3</td>\n",
              "      <td>Heikkinen, Miss. Laina</td>\n",
              "      <td>female</td>\n",
              "      <td>26.0</td>\n",
              "      <td>0</td>\n",
              "      <td>0</td>\n",
              "      <td>STON/O2. 3101282</td>\n",
              "      <td>7.9250</td>\n",
              "      <td>NaN</td>\n",
              "      <td>S</td>\n",
              "    </tr>\n",
              "    <tr>\n",
              "      <th>3</th>\n",
              "      <td>4</td>\n",
              "      <td>1</td>\n",
              "      <td>1</td>\n",
              "      <td>Futrelle, Mrs. Jacques Heath (Lily May Peel)</td>\n",
              "      <td>female</td>\n",
              "      <td>35.0</td>\n",
              "      <td>1</td>\n",
              "      <td>0</td>\n",
              "      <td>113803</td>\n",
              "      <td>53.1000</td>\n",
              "      <td>C123</td>\n",
              "      <td>S</td>\n",
              "    </tr>\n",
              "    <tr>\n",
              "      <th>4</th>\n",
              "      <td>5</td>\n",
              "      <td>0</td>\n",
              "      <td>3</td>\n",
              "      <td>Allen, Mr. William Henry</td>\n",
              "      <td>male</td>\n",
              "      <td>35.0</td>\n",
              "      <td>0</td>\n",
              "      <td>0</td>\n",
              "      <td>373450</td>\n",
              "      <td>8.0500</td>\n",
              "      <td>NaN</td>\n",
              "      <td>S</td>\n",
              "    </tr>\n",
              "  </tbody>\n",
              "</table>\n",
              "</div>\n",
              "      <button class=\"colab-df-convert\" onclick=\"convertToInteractive('df-2d82bef7-69e4-429d-b920-f443cbd8f500')\"\n",
              "              title=\"Convert this dataframe to an interactive table.\"\n",
              "              style=\"display:none;\">\n",
              "        \n",
              "  <svg xmlns=\"http://www.w3.org/2000/svg\" height=\"24px\"viewBox=\"0 0 24 24\"\n",
              "       width=\"24px\">\n",
              "    <path d=\"M0 0h24v24H0V0z\" fill=\"none\"/>\n",
              "    <path d=\"M18.56 5.44l.94 2.06.94-2.06 2.06-.94-2.06-.94-.94-2.06-.94 2.06-2.06.94zm-11 1L8.5 8.5l.94-2.06 2.06-.94-2.06-.94L8.5 2.5l-.94 2.06-2.06.94zm10 10l.94 2.06.94-2.06 2.06-.94-2.06-.94-.94-2.06-.94 2.06-2.06.94z\"/><path d=\"M17.41 7.96l-1.37-1.37c-.4-.4-.92-.59-1.43-.59-.52 0-1.04.2-1.43.59L10.3 9.45l-7.72 7.72c-.78.78-.78 2.05 0 2.83L4 21.41c.39.39.9.59 1.41.59.51 0 1.02-.2 1.41-.59l7.78-7.78 2.81-2.81c.8-.78.8-2.07 0-2.86zM5.41 20L4 18.59l7.72-7.72 1.47 1.35L5.41 20z\"/>\n",
              "  </svg>\n",
              "      </button>\n",
              "      \n",
              "  <style>\n",
              "    .colab-df-container {\n",
              "      display:flex;\n",
              "      flex-wrap:wrap;\n",
              "      gap: 12px;\n",
              "    }\n",
              "\n",
              "    .colab-df-convert {\n",
              "      background-color: #E8F0FE;\n",
              "      border: none;\n",
              "      border-radius: 50%;\n",
              "      cursor: pointer;\n",
              "      display: none;\n",
              "      fill: #1967D2;\n",
              "      height: 32px;\n",
              "      padding: 0 0 0 0;\n",
              "      width: 32px;\n",
              "    }\n",
              "\n",
              "    .colab-df-convert:hover {\n",
              "      background-color: #E2EBFA;\n",
              "      box-shadow: 0px 1px 2px rgba(60, 64, 67, 0.3), 0px 1px 3px 1px rgba(60, 64, 67, 0.15);\n",
              "      fill: #174EA6;\n",
              "    }\n",
              "\n",
              "    [theme=dark] .colab-df-convert {\n",
              "      background-color: #3B4455;\n",
              "      fill: #D2E3FC;\n",
              "    }\n",
              "\n",
              "    [theme=dark] .colab-df-convert:hover {\n",
              "      background-color: #434B5C;\n",
              "      box-shadow: 0px 1px 3px 1px rgba(0, 0, 0, 0.15);\n",
              "      filter: drop-shadow(0px 1px 2px rgba(0, 0, 0, 0.3));\n",
              "      fill: #FFFFFF;\n",
              "    }\n",
              "  </style>\n",
              "\n",
              "      <script>\n",
              "        const buttonEl =\n",
              "          document.querySelector('#df-2d82bef7-69e4-429d-b920-f443cbd8f500 button.colab-df-convert');\n",
              "        buttonEl.style.display =\n",
              "          google.colab.kernel.accessAllowed ? 'block' : 'none';\n",
              "\n",
              "        async function convertToInteractive(key) {\n",
              "          const element = document.querySelector('#df-2d82bef7-69e4-429d-b920-f443cbd8f500');\n",
              "          const dataTable =\n",
              "            await google.colab.kernel.invokeFunction('convertToInteractive',\n",
              "                                                     [key], {});\n",
              "          if (!dataTable) return;\n",
              "\n",
              "          const docLinkHtml = 'Like what you see? Visit the ' +\n",
              "            '<a target=\"_blank\" href=https://colab.research.google.com/notebooks/data_table.ipynb>data table notebook</a>'\n",
              "            + ' to learn more about interactive tables.';\n",
              "          element.innerHTML = '';\n",
              "          dataTable['output_type'] = 'display_data';\n",
              "          await google.colab.output.renderOutput(dataTable, element);\n",
              "          const docLink = document.createElement('div');\n",
              "          docLink.innerHTML = docLinkHtml;\n",
              "          element.appendChild(docLink);\n",
              "        }\n",
              "      </script>\n",
              "    </div>\n",
              "  </div>\n",
              "  "
            ],
            "text/plain": [
              "   PassengerId  Survived  Pclass  ...     Fare Cabin  Embarked\n",
              "0            1         0       3  ...   7.2500   NaN         S\n",
              "1            2         1       1  ...  71.2833   C85         C\n",
              "2            3         1       3  ...   7.9250   NaN         S\n",
              "3            4         1       1  ...  53.1000  C123         S\n",
              "4            5         0       3  ...   8.0500   NaN         S\n",
              "\n",
              "[5 rows x 12 columns]"
            ]
          },
          "metadata": {},
          "execution_count": 12
        }
      ]
    },
    {
      "cell_type": "markdown",
      "source": [
        "##Data Exploration"
      ],
      "metadata": {
        "id": "ceIA80OrMWAU"
      }
    },
    {
      "cell_type": "code",
      "source": [
        "#categorical features\n",
        "fig=plt.figure(figsize=(26, 6))\n",
        "\n",
        "for idx,feature in enumerate(categorical_features):\n",
        "  fig.add_subplot(1, 5, idx+1)\n",
        "  if idx == 2 or idx == 3:\n",
        "    sns.barplot(training[feature].value_counts().index,training[feature].value_counts(),).set(xticklabels=[],title = feature) #remove xticks\n",
        "  else:\n",
        "    sns.barplot(training[feature].value_counts().index,training[feature].value_counts()).set_title(feature)\n",
        "plt.show()"
      ],
      "metadata": {
        "colab": {
          "base_uri": "https://localhost:8080/",
          "height": 390
        },
        "id": "pv_TbZbVMXxe",
        "outputId": "10286352-04c7-41d0-cc13-727d3864d92b"
      },
      "execution_count": 14,
      "outputs": [
        {
          "output_type": "display_data",
          "data": {
            "image/png": "[encoded data removed]",
            "text/plain": [
              "<Figure size 1872x432 with 5 Axes>"
            ]
          },
          "metadata": {
            "needs_background": "light"
          }
        }
      ]
    },
    {
      "cell_type": "code",
      "source": [
        "#numerical features\n",
        "fig=plt.figure(figsize=(26, 10))\n",
        "\n",
        "for idx,feature in enumerate(numerical_features):\n",
        "  fig.add_subplot(2, 4, idx+1)\n",
        "  sns.histplot(training[feature], bins = 50).set_title(feature)\n",
        "plt.show()"
      ],
      "metadata": {
        "colab": {
          "base_uri": "https://localhost:8080/",
          "height": 325
        },
        "id": "HRPVCRCFOk6K",
        "outputId": "9708b0cd-5594-4ad3-fd76-04cfdfd0417f"
      },
      "execution_count": 15,
      "outputs": [
        {
          "output_type": "display_data",
          "data": {
            "image/png": "[encoded data removed]",
            "text/plain": [
              "<Figure size 1872x720 with 4 Axes>"
            ]
          },
          "metadata": {
            "needs_background": "light"
          }
        }
      ]
    },
    {
      "cell_type": "code",
      "source": [
        "#visualize correlation\n",
        "sns.heatmap(training.corr())"
      ],
      "metadata": {
        "colab": {
          "base_uri": "https://localhost:8080/",
          "height": 337
        },
        "id": "XqAIUX8UQbcs",
        "outputId": "fbaf9429-098a-4421-e411-7ed31ec4dfad"
      },
      "execution_count": 16,
      "outputs": [
        {
          "output_type": "execute_result",
          "data": {
            "text/plain": [
              "<matplotlib.axes._subplots.AxesSubplot at 0x7f4d801f1c10>"
            ]
          },
          "metadata": {},
          "execution_count": 16
        },
        {
          "output_type": "display_data",
          "data": {
            "image/png": "[encoded data removed]",
            "text/plain": [
              "<Figure size 432x288 with 2 Axes>"
            ]
          },
          "metadata": {
            "needs_background": "light"
          }
        }
      ]
    },
    {
      "cell_type": "markdown",
      "source": [
        "### Questions:\n",
        "\n",
        "1.   Man survive more likely than women ?\n",
        "2.   The Pclass is meaningful to survive ? \n",
        "3.   The Embark is meaningful to survive ? \n",
        "\n"
      ],
      "metadata": {
        "id": "8_nkYeH2QqkH"
      }
    },
    {
      "cell_type": "code",
      "source": [
        "fig=plt.figure(figsize=(26, 6))\n",
        "\n",
        "fig.add_subplot(1, 3, 1)\n",
        "sns.histplot(data=training,x=training.Age[training.Survived == 1 ],hue=\"Sex\").set_title(\"Man VS Women\")\n",
        "plt.ylabel(\"nr. survived\")\n",
        "\n",
        "fig.add_subplot(1, 3, 2)\n",
        "sns.histplot(data=training,x=training.Age[training.Survived == 1],hue=\"Pclass\").set_title(\"Survived by Pclass\")\n",
        "plt.ylabel(\"nr. survived\")\n",
        "\n",
        "fig.add_subplot(1, 3, 3)\n",
        "sns.histplot(data=training,x=training.Age[training.Survived == 1],hue=\"Embarked\").set_title(\"Survived by Embark\")\n",
        "plt.ylabel(\"nr. survived\")\n",
        "\n",
        "plt.show()"
      ],
      "metadata": {
        "colab": {
          "base_uri": "https://localhost:8080/",
          "height": 404
        },
        "id": "YPuFRadZQvyf",
        "outputId": "8dac432d-15bc-43be-ace7-702f11d83391"
      },
      "execution_count": 17,
      "outputs": [
        {
          "output_type": "display_data",
          "data": {
            "image/png": "[encoded data removed]",
            "text/plain": [
              "<Figure size 1872x432 with 3 Axes>"
            ]
          },
          "metadata": {
            "needs_background": "light"
          }
        }
      ]
    },
    {
      "cell_type": "markdown",
      "source": [
        "##Feature Engineering"
      ],
      "metadata": {
        "id": "T0YIynCYTm2U"
      }
    },
    {
      "cell_type": "markdown",
      "source": [
        "Adding new features\n",
        "\n",
        "\n",
        "*   Number of relatives = number of sibilings + parents/cildren\n",
        "*   Get title Mr,Mss, Lord etc.. from name\n",
        "\n"
      ],
      "metadata": {
        "id": "BViA_H8YLG6k"
      }
    },
    {
      "cell_type": "code",
      "source": [
        "#create a copy, dont mess with original dafaFrame\n",
        "X_c = X.copy()"
      ],
      "metadata": {
        "id": "tz-JRlrXYdAB"
      },
      "execution_count": 55,
      "outputs": []
    },
    {
      "cell_type": "code",
      "source": [
        "X_c[\"n_relatives\"] = X_c.Parch + X_c.SibSp\n",
        "X_c[\"n_relatives\"] = X_c.Parch + X_c.SibSp\n",
        "\n",
        "#drop useless features\n",
        "#X.drop([\"Parch\",\"SibSp\"],axis = 1, inplace = True)"
      ],
      "metadata": {
        "id": "m92yAbmRLCgD"
      },
      "execution_count": 22,
      "outputs": []
    },
    {
      "cell_type": "code",
      "source": [
        "sns.histplot(data=training,x=training.Age[training.Survived == 1 ],hue=X_c.n_relatives).set_title(\"n_relatives\")\n",
        "plt.ylabel(\"nr. survived\")\n",
        "plt.show()"
      ],
      "metadata": {
        "colab": {
          "base_uri": "https://localhost:8080/",
          "height": 295
        },
        "id": "HxxWW2foUkjO",
        "outputId": "3c969235-6ea4-4448-c741-e808a2fd1483"
      },
      "execution_count": 23,
      "outputs": [
        {
          "output_type": "display_data",
          "data": {
            "image/png": "[encoded data removed]",
            "text/plain": [
              "<Figure size 432x288 with 1 Axes>"
            ]
          },
          "metadata": {
            "needs_background": "light"
          }
        }
      ]
    },
    {
      "cell_type": "code",
      "source": [
        "X_c[\"Title\"] = X_c.Name.apply(lambda x : x.replace(\",\",\"\").replace(\".\",\"\").split()[1]);\n",
        "#X.drop(\"Name\",axis = 1, inplace = True)"
      ],
      "metadata": {
        "id": "iy4n0t0VL4Pi"
      },
      "execution_count": 24,
      "outputs": []
    },
    {
      "cell_type": "code",
      "source": [
        "fig=plt.figure(figsize=(26, 6))\n",
        "\n",
        "fig.add_subplot(1, 2, 1)\n",
        "sns.histplot(data=training,x=training.Age[training.Survived == 1 ],hue=X_c.n_relatives).set_title(\"n_relatives\")\n",
        "plt.ylabel(\"nr. survived\")\n",
        "\n",
        "fig.add_subplot(1, 2, 2)\n",
        "sns.histplot(data=training,x=training.Age[training.Survived == 1],hue=X_c.Title).set_title(\"Survived by Title\")\n",
        "plt.ylabel(\"nr. survived\")\n",
        "\n",
        "plt.show()"
      ],
      "metadata": {
        "colab": {
          "base_uri": "https://localhost:8080/",
          "height": 550
        },
        "id": "Y5oL1FdNL6fk",
        "outputId": "276508d2-d430-41bc-8d7f-a4592e1b2bc7"
      },
      "execution_count": 25,
      "outputs": [
        {
          "output_type": "display_data",
          "data": {
            "image/png": "[encoded data removed]",
            "text/plain": [
              "<Figure size 1872x432 with 2 Axes>"
            ]
          },
          "metadata": {
            "needs_background": "light"
          }
        }
      ]
    },
    {
      "cell_type": "markdown",
      "source": [
        "##Combine features automatically\n",
        "create a Trasformer class to apply feature engineering\n",
        "\n"
      ],
      "metadata": {
        "id": "7yBaCv_8YDVn"
      }
    },
    {
      "cell_type": "code",
      "source": [
        "from sklearn.base import BaseEstimator, TransformerMixin\n",
        "\n",
        "#need index beacuse we use numpy araays \n",
        "X_list = X.columns.tolist()\n",
        "sibSp_idx = X_list.index(\"SibSp\")\n",
        "parch_idx  = X_list.index(\"Parch\")\n",
        "age_idx = X_list.index(\"Age\")\n",
        "name_idx = X_list.index(\"Name\")\n",
        "\n",
        "class CombinedAttributesAdder(BaseEstimator, TransformerMixin):\n",
        "  def __init__(self,add_age_bins = True):\n",
        "    self.add_age_bins = add_age_bins\n",
        "\n",
        "  def fit(self, X, y = None):\n",
        "    return self\n",
        "\n",
        "  def transform(self, X, y = None):\n",
        "    #n_relatives feature\n",
        "    n_relatives = X[:,sibSp_idx] + X[:,parch_idx]\n",
        "    \n",
        "    #title feature\n",
        "    get_title = lambda x : x.replace(\",\",\"\").replace(\".\",\"\").split()[1]\n",
        "    vfunc = np.vectorize(get_title)\n",
        "    title = vfunc(X[:,name_idx])\n",
        "\n",
        "    #if you also wanto to add age_bins feature\n",
        "    if self.add_age_bins:\n",
        "      age = X[:,age_idx]\n",
        "      bins = np.arange(0,100,10)\n",
        "      inds = np.digitize(age, bins)\n",
        "      age_bins = [bins[i-1] for i in inds]\n",
        "\n",
        "      return np.c_[X, n_relatives, title, age_bins]\n",
        "    return np.c_[X, n_relatives, title]"
      ],
      "metadata": {
        "id": "jm53WyQvYGGD"
      },
      "execution_count": 13,
      "outputs": []
    },
    {
      "cell_type": "code",
      "source": [
        "#use custom trasformer\n",
        "attr_adder = CombinedAttributesAdder(add_age_bins=True)\n",
        "train_extra_attr = attr_adder.transform(X.values)\n",
        "\n",
        "#convert to DataFrame again\n",
        "cols = X.columns.to_list()\n",
        "cols.extend([\"n_relatives\",\"title\",\"age_bins\"])\n",
        "X = pd.DataFrame(train_extra_attr,columns = cols)"
      ],
      "metadata": {
        "id": "VK2Q1aT4Y2RK"
      },
      "execution_count": 14,
      "outputs": []
    },
    {
      "cell_type": "code",
      "source": [
        "#lets see the new dataset\n",
        "X.head()"
      ],
      "metadata": {
        "colab": {
          "base_uri": "https://localhost:8080/",
          "height": 206
        },
        "id": "T36HTrGcZ3Bq",
        "outputId": "4e73442d-dc1a-4be2-963f-7b34f83c7312"
      },
      "execution_count": 15,
      "outputs": [
        {
          "output_type": "execute_result",
          "data": {
            "text/html": [
              "\n",
              "  <div id=\"df-0350c67e-65cd-430a-bd61-bc448f969885\">\n",
              "    <div class=\"colab-df-container\">\n",
              "      <div>\n",
              "<style scoped>\n",
              "    .dataframe tbody tr th:only-of-type {\n",
              "        vertical-align: middle;\n",
              "    }\n",
              "\n",
              "    .dataframe tbody tr th {\n",
              "        vertical-align: top;\n",
              "    }\n",
              "\n",
              "    .dataframe thead th {\n",
              "        text-align: right;\n",
              "    }\n",
              "</style>\n",
              "<table border=\"1\" class=\"dataframe\">\n",
              "  <thead>\n",
              "    <tr style=\"text-align: right;\">\n",
              "      <th></th>\n",
              "      <th>PassengerId</th>\n",
              "      <th>Pclass</th>\n",
              "      <th>Name</th>\n",
              "      <th>Sex</th>\n",
              "      <th>Age</th>\n",
              "      <th>SibSp</th>\n",
              "      <th>Parch</th>\n",
              "      <th>Ticket</th>\n",
              "      <th>Fare</th>\n",
              "      <th>Cabin</th>\n",
              "      <th>Embarked</th>\n",
              "      <th>n_relatives</th>\n",
              "      <th>title</th>\n",
              "      <th>age_bins</th>\n",
              "    </tr>\n",
              "  </thead>\n",
              "  <tbody>\n",
              "    <tr>\n",
              "      <th>0</th>\n",
              "      <td>1</td>\n",
              "      <td>3</td>\n",
              "      <td>Braund, Mr. Owen Harris</td>\n",
              "      <td>male</td>\n",
              "      <td>22</td>\n",
              "      <td>1</td>\n",
              "      <td>0</td>\n",
              "      <td>A/5 21171</td>\n",
              "      <td>7.25</td>\n",
              "      <td>NaN</td>\n",
              "      <td>S</td>\n",
              "      <td>1</td>\n",
              "      <td>Mr</td>\n",
              "      <td>20</td>\n",
              "    </tr>\n",
              "    <tr>\n",
              "      <th>1</th>\n",
              "      <td>2</td>\n",
              "      <td>1</td>\n",
              "      <td>Cumings, Mrs. John Bradley (Florence Briggs Th...</td>\n",
              "      <td>female</td>\n",
              "      <td>38</td>\n",
              "      <td>1</td>\n",
              "      <td>0</td>\n",
              "      <td>PC 17599</td>\n",
              "      <td>71.2833</td>\n",
              "      <td>C85</td>\n",
              "      <td>C</td>\n",
              "      <td>1</td>\n",
              "      <td>Mrs</td>\n",
              "      <td>30</td>\n",
              "    </tr>\n",
              "    <tr>\n",
              "      <th>2</th>\n",
              "      <td>3</td>\n",
              "      <td>3</td>\n",
              "      <td>Heikkinen, Miss. Laina</td>\n",
              "      <td>female</td>\n",
              "      <td>26</td>\n",
              "      <td>0</td>\n",
              "      <td>0</td>\n",
              "      <td>STON/O2. 3101282</td>\n",
              "      <td>7.925</td>\n",
              "      <td>NaN</td>\n",
              "      <td>S</td>\n",
              "      <td>0</td>\n",
              "      <td>Miss</td>\n",
              "      <td>20</td>\n",
              "    </tr>\n",
              "    <tr>\n",
              "      <th>3</th>\n",
              "      <td>4</td>\n",
              "      <td>1</td>\n",
              "      <td>Futrelle, Mrs. Jacques Heath (Lily May Peel)</td>\n",
              "      <td>female</td>\n",
              "      <td>35</td>\n",
              "      <td>1</td>\n",
              "      <td>0</td>\n",
              "      <td>113803</td>\n",
              "      <td>53.1</td>\n",
              "      <td>C123</td>\n",
              "      <td>S</td>\n",
              "      <td>1</td>\n",
              "      <td>Mrs</td>\n",
              "      <td>30</td>\n",
              "    </tr>\n",
              "    <tr>\n",
              "      <th>4</th>\n",
              "      <td>5</td>\n",
              "      <td>3</td>\n",
              "      <td>Allen, Mr. William Henry</td>\n",
              "      <td>male</td>\n",
              "      <td>35</td>\n",
              "      <td>0</td>\n",
              "      <td>0</td>\n",
              "      <td>373450</td>\n",
              "      <td>8.05</td>\n",
              "      <td>NaN</td>\n",
              "      <td>S</td>\n",
              "      <td>0</td>\n",
              "      <td>Mr</td>\n",
              "      <td>30</td>\n",
              "    </tr>\n",
              "  </tbody>\n",
              "</table>\n",
              "</div>\n",
              "      <button class=\"colab-df-convert\" onclick=\"convertToInteractive('df-0350c67e-65cd-430a-bd61-bc448f969885')\"\n",
              "              title=\"Convert this dataframe to an interactive table.\"\n",
              "              style=\"display:none;\">\n",
              "        \n",
              "  <svg xmlns=\"http://www.w3.org/2000/svg\" height=\"24px\"viewBox=\"0 0 24 24\"\n",
              "       width=\"24px\">\n",
              "    <path d=\"M0 0h24v24H0V0z\" fill=\"none\"/>\n",
              "    <path d=\"M18.56 5.44l.94 2.06.94-2.06 2.06-.94-2.06-.94-.94-2.06-.94 2.06-2.06.94zm-11 1L8.5 8.5l.94-2.06 2.06-.94-2.06-.94L8.5 2.5l-.94 2.06-2.06.94zm10 10l.94 2.06.94-2.06 2.06-.94-2.06-.94-.94-2.06-.94 2.06-2.06.94z\"/><path d=\"M17.41 7.96l-1.37-1.37c-.4-.4-.92-.59-1.43-.59-.52 0-1.04.2-1.43.59L10.3 9.45l-7.72 7.72c-.78.78-.78 2.05 0 2.83L4 21.41c.39.39.9.59 1.41.59.51 0 1.02-.2 1.41-.59l7.78-7.78 2.81-2.81c.8-.78.8-2.07 0-2.86zM5.41 20L4 18.59l7.72-7.72 1.47 1.35L5.41 20z\"/>\n",
              "  </svg>\n",
              "      </button>\n",
              "      \n",
              "  <style>\n",
              "    .colab-df-container {\n",
              "      display:flex;\n",
              "      flex-wrap:wrap;\n",
              "      gap: 12px;\n",
              "    }\n",
              "\n",
              "    .colab-df-convert {\n",
              "      background-color: #E8F0FE;\n",
              "      border: none;\n",
              "      border-radius: 50%;\n",
              "      cursor: pointer;\n",
              "      display: none;\n",
              "      fill: #1967D2;\n",
              "      height: 32px;\n",
              "      padding: 0 0 0 0;\n",
              "      width: 32px;\n",
              "    }\n",
              "\n",
              "    .colab-df-convert:hover {\n",
              "      background-color: #E2EBFA;\n",
              "      box-shadow: 0px 1px 2px rgba(60, 64, 67, 0.3), 0px 1px 3px 1px rgba(60, 64, 67, 0.15);\n",
              "      fill: #174EA6;\n",
              "    }\n",
              "\n",
              "    [theme=dark] .colab-df-convert {\n",
              "      background-color: #3B4455;\n",
              "      fill: #D2E3FC;\n",
              "    }\n",
              "\n",
              "    [theme=dark] .colab-df-convert:hover {\n",
              "      background-color: #434B5C;\n",
              "      box-shadow: 0px 1px 3px 1px rgba(0, 0, 0, 0.15);\n",
              "      filter: drop-shadow(0px 1px 2px rgba(0, 0, 0, 0.3));\n",
              "      fill: #FFFFFF;\n",
              "    }\n",
              "  </style>\n",
              "\n",
              "      <script>\n",
              "        const buttonEl =\n",
              "          document.querySelector('#df-0350c67e-65cd-430a-bd61-bc448f969885 button.colab-df-convert');\n",
              "        buttonEl.style.display =\n",
              "          google.colab.kernel.accessAllowed ? 'block' : 'none';\n",
              "\n",
              "        async function convertToInteractive(key) {\n",
              "          const element = document.querySelector('#df-0350c67e-65cd-430a-bd61-bc448f969885');\n",
              "          const dataTable =\n",
              "            await google.colab.kernel.invokeFunction('convertToInteractive',\n",
              "                                                     [key], {});\n",
              "          if (!dataTable) return;\n",
              "\n",
              "          const docLinkHtml = 'Like what you see? Visit the ' +\n",
              "            '<a target=\"_blank\" href=https://colab.research.google.com/notebooks/data_table.ipynb>data table notebook</a>'\n",
              "            + ' to learn more about interactive tables.';\n",
              "          element.innerHTML = '';\n",
              "          dataTable['output_type'] = 'display_data';\n",
              "          await google.colab.output.renderOutput(dataTable, element);\n",
              "          const docLink = document.createElement('div');\n",
              "          docLink.innerHTML = docLinkHtml;\n",
              "          element.appendChild(docLink);\n",
              "        }\n",
              "      </script>\n",
              "    </div>\n",
              "  </div>\n",
              "  "
            ],
            "text/plain": [
              "  PassengerId Pclass  ... title age_bins\n",
              "0           1      3  ...    Mr       20\n",
              "1           2      1  ...   Mrs       30\n",
              "2           3      3  ...  Miss       20\n",
              "3           4      1  ...   Mrs       30\n",
              "4           5      3  ...    Mr       30\n",
              "\n",
              "[5 rows x 14 columns]"
            ]
          },
          "metadata": {},
          "execution_count": 15
        }
      ]
    },
    {
      "cell_type": "markdown",
      "source": [
        "#Imputation and Encode"
      ],
      "metadata": {
        "id": "C09bphrse8tN"
      }
    },
    {
      "cell_type": "markdown",
      "source": [
        "1.   knn imputer for \"Age\"\n",
        "2.   iterative imputer for \"Cabin\"\n",
        "3.   Target Encoder for categorical\n",
        "4.   Embarked with most frequent values\n",
        "\n",
        "\n",
        "\n"
      ],
      "metadata": {
        "id": "oq_tXk7Ne_Y2"
      }
    },
    {
      "cell_type": "code",
      "source": [
        "!pip install category_encoders"
      ],
      "metadata": {
        "id": "KZlbay0wh3S3"
      },
      "execution_count": null,
      "outputs": []
    },
    {
      "cell_type": "code",
      "source": [
        "from sklearn.experimental import enable_iterative_imputer\n",
        "from sklearn.impute import KNNImputer,SimpleImputer, KNNImputer\n",
        "from sklearn.preprocessing import StandardScaler,OneHotEncoder, LabelEncoder\n",
        "from sklearn.impute import IterativeImputer\n",
        "from sklearn.pipeline import Pipeline\n",
        "from category_encoders import TargetEncoder\n",
        "from sklearn.compose import ColumnTransformer\n",
        "from sklearn.ensemble import RandomForestClassifier\n",
        "from sklearn.linear_model import LogisticRegression\n",
        "from sklearn import svm"
      ],
      "metadata": {
        "id": "5Fnvv0cTU73T"
      },
      "execution_count": 22,
      "outputs": []
    },
    {
      "cell_type": "code",
      "source": [
        "num_pipeline = Pipeline(steps = [\n",
        "  (\"imputer\", SimpleImputer(strategy = \"median\")),\n",
        "  (\"std_scaler\", StandardScaler())\n",
        "])\n",
        "\n",
        "cat_pipeline = Pipeline(steps = [\n",
        "  (\"cat_imputer\",SimpleImputer(strategy = \"most_frequent\")),\n",
        "  (\"ohe\",OneHotEncoder(handle_unknown= \"ignore\"))\n",
        "])\n",
        "\n",
        "preprocess = ColumnTransformer([\n",
        "  (\"num\",num_pipeline, numerical_features),\n",
        "  (\"cat\",cat_pipeline, categorical_features)                                     \n",
        "])"
      ],
      "metadata": {
        "id": "07vzGRW9fKF9"
      },
      "execution_count": 32,
      "outputs": []
    },
    {
      "cell_type": "markdown",
      "source": [
        "#Try different models"
      ],
      "metadata": {
        "id": "7Ss8W3muegGA"
      }
    },
    {
      "cell_type": "code",
      "source": [
        " rfc = RandomForestClassifier()\n",
        " lr = LogisticRegression()\n",
        " sv =svm.SVC()\n",
        "\n",
        " models = [rfc,lr,sv]"
      ],
      "metadata": {
        "id": "4_Qyrvh-elrC"
      },
      "execution_count": 33,
      "outputs": []
    },
    {
      "cell_type": "markdown",
      "source": [
        "#Evaluation using KFold"
      ],
      "metadata": {
        "id": "Vtf-lgopsapH"
      }
    },
    {
      "cell_type": "code",
      "source": [
        "from sklearn.model_selection import cross_validate\n",
        "\n",
        "X_preprocessed = preprocess.fit_transform(X)\n",
        "\n",
        "for model in models:\n",
        "  scores = cross_validate(model, X_preprocessed,y ,scoring = \"accuracy\",cv = 5, return_train_score=True)\n",
        "  print(\"model\" , model)\n",
        "  print(np.mean(scores[\"train_score\"]), np.mean(scores[\"test_score\"])); print()"
      ],
      "metadata": {
        "colab": {
          "base_uri": "https://localhost:8080/"
        },
        "id": "tbMSd7HRlQR2",
        "outputId": "186752c0-5eb6-40a0-988c-b2e07092a0b3"
      },
      "execution_count": 38,
      "outputs": [
        {
          "output_type": "stream",
          "name": "stdout",
          "text": [
            "model RandomForestClassifier()\n",
            "0.9983161826118474 0.8383654510074697\n",
            "\n",
            "model LogisticRegression()\n",
            "0.8908544368627573 0.8204067541271733\n",
            "\n",
            "model SVC()\n",
            "0.8473643569661344 0.827154604230745\n",
            "\n"
          ]
        }
      ]
    },
    {
      "cell_type": "markdown",
      "source": [
        "#Model Selection with RadomizedSearch\n",
        "###Lets search on RandomForest"
      ],
      "metadata": {
        "id": "UQv6ZW6Zi1G-"
      }
    },
    {
      "cell_type": "code",
      "source": [
        "from sklearn.model_selection import RandomizedSearchCV, GridSearchCV\n",
        "\n",
        "param_grid = [\n",
        "  {\"n_estimators\" :[200,250,260,270,280], \"max_features\": [2,4,6,8,18,28,38,48,58,68]},\n",
        "  {\"n_estimators\" :[100,150,200], \"max_features\" : [ 10 , 30, 50, 70] , \"max_depth\" : [4, 5, 6]}\n",
        "  {\"n_estimators\" :[200,250,260,270,280], \"max_features\": [2,4,6,8,18,28,]},\n",
        "\n",
        "]\n",
        "\n",
        "rfc = RandomForestClassifier()\n",
        "\n",
        "grid_search = GridSearchCV(rfc, param_grid, cv = 4, scoring = \"accuracy\", return_train_score= True)\n",
        "\n",
        "X_preprocessed = preprocess.fit_transform(X)\n",
        "grid_search.fit(X_preprocessed,y)"
      ],
      "metadata": {
        "colab": {
          "base_uri": "https://localhost:8080/"
        },
        "id": "PyXQcJDwi0iR",
        "outputId": "33ce97cf-bd5e-4e0f-f5b8-f4274d525f0a"
      },
      "execution_count": null,
      "outputs": [
        {
          "output_type": "execute_result",
          "data": {
            "text/plain": [
              "GridSearchCV(cv=4, estimator=RandomForestClassifier(),\n",
              "             param_grid=[{'max_features': [2, 4, 6, 8, 18, 28, 38, 48, 58, 68],\n",
              "                          'n_estimators': [200, 250, 260, 270, 280]}],\n",
              "             return_train_score=True, scoring='accuracy')"
            ]
          },
          "metadata": {},
          "execution_count": 105
        }
      ]
    },
    {
      "cell_type": "code",
      "source": [
        "#print the obtained scores\n",
        "curves = grid_search.cv_results_\n",
        "for mean_score, params in zip(curves[\"mean_test_score\"],curves[\"params\"]):\n",
        "  print(mean_score,params)"
      ],
      "metadata": {
        "colab": {
          "base_uri": "https://localhost:8080/"
        },
        "id": "ucgo0h4PlgVO",
        "outputId": "266c06ce-8d8a-47ba-dfd5-686d94bf2044"
      },
      "execution_count": null,
      "outputs": [
        {
          "output_type": "stream",
          "name": "stdout",
          "text": [
            "0.8294146164101321 {'max_features': 2, 'n_estimators': 200}\n",
            "0.8406405284207975 {'max_features': 2, 'n_estimators': 250}\n",
            "0.8406304286349129 {'max_features': 2, 'n_estimators': 260}\n",
            "0.8361511735951197 {'max_features': 2, 'n_estimators': 270}\n",
            "0.8249252615844545 {'max_features': 2, 'n_estimators': 280}\n",
            "0.8316517189835576 {'max_features': 4, 'n_estimators': 200}\n",
            "0.8361562234880621 {'max_features': 4, 'n_estimators': 250}\n",
            "0.835030097361936 {'max_features': 4, 'n_estimators': 260}\n",
            "0.8372722498283036 {'max_features': 4, 'n_estimators': 270}\n",
            "0.830535692643316 {'max_features': 4, 'n_estimators': 280}\n",
            "0.8372671999353614 {'max_features': 6, 'n_estimators': 200}\n",
            "0.8327828950026259 {'max_features': 6, 'n_estimators': 250}\n",
            "0.8316567688764998 {'max_features': 6, 'n_estimators': 260}\n",
            "0.8316668686623843 {'max_features': 6, 'n_estimators': 270}\n",
            "0.829414616410132 {'max_features': 6, 'n_estimators': 280}\n",
            "0.8294196663030744 {'max_features': 8, 'n_estimators': 200}\n",
            "0.8462408596937745 {'max_features': 8, 'n_estimators': 250}\n",
            "0.8361461237021776 {'max_features': 8, 'n_estimators': 260}\n",
            "0.8383832262756029 {'max_features': 8, 'n_estimators': 270}\n",
            "0.8293994667313054 {'max_features': 8, 'n_estimators': 280}\n",
            "0.836136023916293 {'max_features': 18, 'n_estimators': 200}\n",
            "0.8383832262756029 {'max_features': 18, 'n_estimators': 250}\n",
            "0.8372722498283036 {'max_features': 18, 'n_estimators': 260}\n",
            "0.8383832262756029 {'max_features': 18, 'n_estimators': 270}\n",
            "0.835030097361936 {'max_features': 18, 'n_estimators': 280}\n",
            "0.8406354785278551 {'max_features': 28, 'n_estimators': 200}\n",
            "0.836136023916293 {'max_features': 28, 'n_estimators': 250}\n",
            "0.8327727952167414 {'max_features': 28, 'n_estimators': 260}\n",
            "0.8395093524017291 {'max_features': 28, 'n_estimators': 270}\n",
            "0.8372621500424191 {'max_features': 28, 'n_estimators': 280}\n",
            "0.8361562234880621 {'max_features': 38, 'n_estimators': 200}\n",
            "0.836136023916293 {'max_features': 38, 'n_estimators': 250}\n",
            "0.8361461237021776 {'max_features': 38, 'n_estimators': 260}\n",
            "0.8372571001494769 {'max_features': 38, 'n_estimators': 270}\n",
            "0.8327727952167414 {'max_features': 38, 'n_estimators': 280}\n",
            "0.8316517189835576 {'max_features': 48, 'n_estimators': 200}\n",
            "0.8316567688764998 {'max_features': 48, 'n_estimators': 250}\n",
            "0.8350149476831091 {'max_features': 48, 'n_estimators': 260}\n",
            "0.8350048478972245 {'max_features': 48, 'n_estimators': 270}\n",
            "0.8293994667313054 {'max_features': 48, 'n_estimators': 280}\n",
            "0.8372571001494769 {'max_features': 58, 'n_estimators': 200}\n",
            "0.8282935401769482 {'max_features': 58, 'n_estimators': 250}\n",
            "0.84398355754858 {'max_features': 58, 'n_estimators': 260}\n",
            "0.8271623641578798 {'max_features': 58, 'n_estimators': 270}\n",
            "0.8350149476831091 {'max_features': 58, 'n_estimators': 280}\n",
            "0.8372621500424191 {'max_features': 68, 'n_estimators': 200}\n",
            "0.8350149476831091 {'max_features': 68, 'n_estimators': 250}\n",
            "0.8383882761685453 {'max_features': 68, 'n_estimators': 260}\n",
            "0.8372671999353614 {'max_features': 68, 'n_estimators': 270}\n",
            "0.8350098977901669 {'max_features': 68, 'n_estimators': 280}\n"
          ]
        }
      ]
    },
    {
      "cell_type": "code",
      "source": [
        "rfc_best_params = grid_search.best_params_\n",
        "rfc_best_params"
      ],
      "metadata": {
        "colab": {
          "base_uri": "https://localhost:8080/"
        },
        "id": "bK19qN_ZlIQc",
        "outputId": "e5372226-4957-4e41-a464-715ff7eff62b"
      },
      "execution_count": null,
      "outputs": [
        {
          "output_type": "execute_result",
          "data": {
            "text/plain": [
              "{'max_features': 8, 'n_estimators': 250}"
            ]
          },
          "metadata": {},
          "execution_count": 108
        }
      ]
    },
    {
      "cell_type": "code",
      "source": [
        "rfc_random_search = RandomForestClassifier(**rfc_best_params)\n",
        "rfc_random_search"
      ],
      "metadata": {
        "colab": {
          "base_uri": "https://localhost:8080/"
        },
        "id": "pf8G0G-FmeMw",
        "outputId": "c2198cbe-ef5a-4e9e-9648-3c5c9d48b7a0"
      },
      "execution_count": null,
      "outputs": [
        {
          "output_type": "execute_result",
          "data": {
            "text/plain": [
              "RandomForestClassifier(max_features=8, n_estimators=250)"
            ]
          },
          "metadata": {},
          "execution_count": 196
        }
      ]
    },
    {
      "cell_type": "markdown",
      "source": [
        "#Model Selection with Optuna\n",
        "##Lets search on RandomForest\n"
      ],
      "metadata": {
        "id": "_E9TBzH55QQK"
      }
    },
    {
      "cell_type": "code",
      "source": [
        "!pip install optuna"
      ],
      "metadata": {
        "id": "k_qAoUQi5f6Y"
      },
      "execution_count": null,
      "outputs": []
    },
    {
      "cell_type": "code",
      "source": [
        "import optuna\n",
        "from sklearn.metrics import mean_absolute_error, make_scorer"
      ],
      "metadata": {
        "id": "jwcoWdG45f6Y"
      },
      "execution_count": null,
      "outputs": []
    },
    {
      "cell_type": "code",
      "source": [
        "model = RandomForestClassifier()"
      ],
      "metadata": {
        "id": "SY-Tlg5gpaPZ"
      },
      "execution_count": null,
      "outputs": []
    },
    {
      "cell_type": "code",
      "source": [
        "class Objective_function:\n",
        "  def __init__(self, model, preprocessor,X_train, y_train):\n",
        "    self.model = model\n",
        "    self.preprocessor = preprocessor\n",
        "    self.X = X\n",
        "    self.y = y\n",
        "    self.train_scores = []\n",
        "\n",
        "  def __call__(self, trial):\n",
        "    #selezione degli iperparametri\n",
        "    params = dict( \n",
        "      n_estimators = trial.suggest_int(\"rf_n_estimators\", 25, 400, log = True) ,#andiamo logaritmici dal 100\n",
        "      min_samples_split = trial.suggest_int(\"rf_min_sample_split\", 2, 10),\n",
        "      max_features = trial.suggest_categorical(\"rf_max_feature\", [\"auto\",\"sqrt\",\"log2\"]) \n",
        "    )\n",
        "\n",
        "    #creazione\n",
        "    self.model.set_params(**params)\n",
        "\n",
        "    #USIAMO CROSS VALIDATE\n",
        "    scores = cross_validate(self.model,\n",
        "                    X = self.preprocessor.fit_transform(self.X),\n",
        "                    y = self.y,\n",
        "                    scoring = \"accuracy\", \n",
        "                    cv = 5,\n",
        "                    return_train_score=True,\n",
        "                    error_score=\"raise\"\n",
        "                  )\n",
        "    self.train_scores.append(np.mean(scores[\"test_score\"]))\n",
        "\n",
        "    return np.mean(scores[\"test_score\"])"
      ],
      "metadata": {
        "id": "nC4Pqn9w5f6Y"
      },
      "execution_count": null,
      "outputs": []
    },
    {
      "cell_type": "code",
      "source": [
        "study = optuna.create_study(storage = \"sqlite:///model_selection.db\" ,study_name=\"random_forest_classifier\", direction = \"maximize\", load_if_exists=True)"
      ],
      "metadata": {
        "colab": {
          "base_uri": "https://localhost:8080/"
        },
        "outputId": "55f8bb8e-0162-467b-cfe3-660f3884fd72",
        "id": "0hZkK5ao5f6Z"
      },
      "execution_count": null,
      "outputs": [
        {
          "output_type": "stream",
          "name": "stderr",
          "text": [
            "\u001b[32m[I 2021-12-22 10:36:25,511]\u001b[0m Using an existing study with name 'random_forest_classifier' instead of creating a new one.\u001b[0m\n"
          ]
        }
      ]
    },
    {
      "cell_type": "code",
      "source": [
        "obj_func_with_categorical = Objective_function(model,preprocess, X, y)"
      ],
      "metadata": {
        "id": "ROD_U4ZA5f6Z"
      },
      "execution_count": null,
      "outputs": []
    },
    {
      "cell_type": "code",
      "source": [
        "study.optimize(func = obj_func_with_categorical, n_trials = 100)"
      ],
      "metadata": {
        "id": "PiqRpYIO5f6Z"
      },
      "execution_count": null,
      "outputs": []
    },
    {
      "cell_type": "code",
      "source": [
        "study.best_params"
      ],
      "metadata": {
        "colab": {
          "base_uri": "https://localhost:8080/"
        },
        "outputId": "2646314f-18b5-466b-b238-5828d7067ec7",
        "id": "y6snWLjO5f6Z"
      },
      "execution_count": null,
      "outputs": [
        {
          "output_type": "execute_result",
          "data": {
            "text/plain": [
              "{'rf_max_feature': 'log2', 'rf_min_sample_split': 9, 'rf_n_estimators': 64}"
            ]
          },
          "metadata": {},
          "execution_count": 184
        }
      ]
    },
    {
      "cell_type": "code",
      "source": [
        "rfc_optuna = RandomForestClassifier(max_features=\"log2\",min_samples_split=9, n_estimators=64)"
      ],
      "metadata": {
        "id": "nqW6DsNq5f6Z"
      },
      "execution_count": null,
      "outputs": []
    },
    {
      "cell_type": "markdown",
      "source": [
        "#Make prediction with both models found with randomSearch and Optuna"
      ],
      "metadata": {
        "id": "V3r2mCtgxyL2"
      }
    },
    {
      "cell_type": "markdown",
      "source": [
        "###Preprocess test data\n"
      ],
      "metadata": {
        "id": "5AAM_Atdy4lC"
      }
    },
    {
      "cell_type": "code",
      "source": [
        "#fit\n",
        "X_preprocessed = preprocess.fit_transform(X)\n",
        "rfc_optuna.fit(X_preprocessed,y)\n",
        "rfc_random_search.fit(X_preprocessed,y)"
      ],
      "metadata": {
        "colab": {
          "base_uri": "https://localhost:8080/"
        },
        "id": "Cb9adFWN256P",
        "outputId": "d2ccba05-d526-47fc-9284-eae64ec29312"
      },
      "execution_count": null,
      "outputs": [
        {
          "output_type": "execute_result",
          "data": {
            "text/plain": [
              "RandomForestClassifier(max_features=8, n_estimators=250)"
            ]
          },
          "metadata": {},
          "execution_count": 202
        }
      ]
    },
    {
      "cell_type": "code",
      "source": [
        "#use custom trasformer\n",
        "attr_adder_test = CombinedAttributesAdder(add_age_bins=True)\n",
        "test_extra_attr = attr_adder_test.fit_transform(data_testing.values)\n",
        "\n",
        "#convert to DataFrame again\n",
        "cols = data_testing.columns.to_list()\n",
        "cols.extend([\"n_relatives\",\"title\",\"age_bins\"])\n",
        "data_testing = pd.DataFrame(test_extra_attr,columns = cols)\n",
        "\n",
        "#preprocess test data\n",
        "data_testing_preprocessed = preprocess.transform(data_testing)"
      ],
      "metadata": {
        "id": "jY9wgqTG5orK"
      },
      "execution_count": null,
      "outputs": []
    },
    {
      "cell_type": "code",
      "source": [
        "#predict\n",
        "random_search_preds = rfc_random_search.predict(data_testing_preprocessed)\n",
        "optuna_preds = rfc_optuna.predict(data_testing_preprocessed)"
      ],
      "metadata": {
        "id": "s_HAoucc5qUh"
      },
      "execution_count": null,
      "outputs": []
    },
    {
      "cell_type": "markdown",
      "source": [
        "#Crate output File"
      ],
      "metadata": {
        "id": "2dahzXfo00fH"
      }
    },
    {
      "cell_type": "code",
      "source": [
        "output = pd.DataFrame({'PassengerId': np.arange(892,1310), 'Survived': random_search_preds})\n",
        "output.to_csv('random_search_preds.csv', index=False)\n",
        "print(\"Your submission was successfully saved!\")"
      ],
      "metadata": {
        "colab": {
          "base_uri": "https://localhost:8080/"
        },
        "id": "_6nHVoPB0tig",
        "outputId": "01f8905f-dbff-49d4-9982-fd3254ad15b7"
      },
      "execution_count": null,
      "outputs": [
        {
          "output_type": "stream",
          "name": "stdout",
          "text": [
            "Your submission was successfully saved!\n"
          ]
        }
      ]
    },
    {
      "cell_type": "code",
      "source": [
        "output = pd.DataFrame({'PassengerId': np.arange(892,1310), 'Survived': optuna_preds})\n",
        "output.to_csv('optuna_preds.csv', index=False)\n",
        "print(\"Your submission was successfully saved!\")"
      ],
      "metadata": {
        "colab": {
          "base_uri": "https://localhost:8080/"
        },
        "id": "sOTlcenw4QdF",
        "outputId": "49a2001f-376e-4642-c044-bdc73168db4c"
      },
      "execution_count": null,
      "outputs": [
        {
          "output_type": "stream",
          "name": "stdout",
          "text": [
            "Your submission was successfully saved!\n"
          ]
        }
      ]
    }
  ]
}