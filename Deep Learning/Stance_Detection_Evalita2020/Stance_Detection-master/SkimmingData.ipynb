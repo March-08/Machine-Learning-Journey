{
  "nbformat": 4,
  "nbformat_minor": 0,
  "metadata": {
    "colab": {
      "name": "SkimmingData.ipynb",
      "provenance": [],
      "collapsed_sections": [],
      "authorship_tag": "ABX9TyPkq6NyXCE7n3Tu1YMy8cJL",
      "include_colab_link": true
    },
    "kernelspec": {
      "name": "python3",
      "display_name": "Python 3"
    }
  },
  "cells": [
    {
      "cell_type": "markdown",
      "metadata": {
        "id": "view-in-github",
        "colab_type": "text"
      },
      "source": [
        "<a href=\"https://colab.research.google.com/github/March-08/Stance_Detetion/blob/master/SkimmingData.ipynb\" target=\"_parent\"><img src=\"https://colab.research.google.com/assets/colab-badge.svg\" alt=\"Open In Colab\"/></a>"
      ]
    },
    {
      "cell_type": "code",
      "metadata": {
        "id": "riNumAAzJw56"
      },
      "source": [
        "import pandas as pd\n",
        "import csv"
      ],
      "execution_count": null,
      "outputs": []
    },
    {
      "cell_type": "code",
      "metadata": {
        "id": "jWBor7PzIjOY"
      },
      "source": [
        "#creo dizionario in cui conto le occorrenze di ogni tweet, ordino in ordine decrescente e elimino i tweet con  #sardina\n",
        "def create_dictionary(df,rows_dict,columnIndex):\n",
        "  for row in df[df.columns[columnIndex]]:\n",
        "   if \"#sardina\" not in row:\n",
        "      if row not in rows_dict.keys():\n",
        "        rows_dict[row]=0\n",
        "      else :\n",
        "        rows_dict[row]=rows_dict[row]+1\n",
        "\n",
        "  rows_dict=sorted(rows_dict.items(), key=lambda x: x[1], reverse=True)\n",
        "  return rows_dict\n",
        "\n",
        "\n"
      ],
      "execution_count": 3,
      "outputs": []
    },
    {
      "cell_type": "markdown",
      "metadata": {
        "id": "aPv1CwqH3qky"
      },
      "source": [
        ""
      ]
    },
    {
      "cell_type": "code",
      "metadata": {
        "id": "6bn4feG4J0y6"
      },
      "source": [
        "#perc. of hastags we want to remove from data\n",
        "PERCENTUALE=90\n",
        "\n",
        "\n",
        "######## AGAINST #################\n",
        "\n",
        "df = pd.read_csv(\"/content/sample_data/against_tweets_2019.csv\") \n",
        "df.head()\n",
        "\n",
        "rows_dict={}\n",
        "rows_dict=create_dictionary(df,rows_dict,2)\n",
        "\n",
        "\n",
        "x=0\n",
        "to_ret=[]\n",
        "\n",
        "#get the most used tweets\n",
        "for key in rows_dict:\n",
        "  if x< 1500:\n",
        "    to_ret.append(key)\n",
        "    x+=1\n",
        "\n",
        "\n",
        "\n",
        "i=0\n",
        "with open('final_scremati.csv', 'w', newline='') as file:\n",
        "    writer = csv.writer(file,delimiter=';')\n",
        "    \n",
        "    count=0\n",
        "    for sentence in to_ret: #scorro i tweet\n",
        "      tmp=sentence[0].lower().count(\"#gattiniconsalvini\")\n",
        "      count+=tmp\n",
        "      \n",
        "    j=0 \n",
        "    for sentence in to_ret:\n",
        "      replace_sentence= sentence[0].replace(\"RT \",\"\").lower()\n",
        "\n",
        "      if j<(PERCENTUALE*count)/100:\n",
        "        if \"#gattiniconsalvini\" in replace_sentence:\n",
        "          replace_sentence= replace_sentence.replace(\"#gattiniconsalvini\",\"\")\n",
        "          j+=1\n",
        "             \n",
        "      writer.writerow([i, replace_sentence, \"AGAINST\"])\n",
        "      i+=1\n",
        "\n",
        "    \n",
        "\n",
        "\n",
        "\n",
        "##### FAVOR #############\n",
        "\n",
        "df = pd.read_csv(\"/content/sample_data/favour_tweets_2019.csv\") \n",
        "\n",
        "rows_dict={}\n",
        "rows_dict=create_dictionary(df,rows_dict,2)\n",
        "\n",
        "k=0\n",
        "to_ret=[]\n",
        "\n",
        "#get the most common tweets\n",
        "for key in rows_dict:\n",
        "  if k< 1000:\n",
        "    to_ret.append(key)\n",
        "    k+=1\n",
        "\n",
        "\n",
        "hashtag_list=[\"#forzasardine\",\"#iostoconlesardine\",\"#nessunotocchilesardine\",\"#vivalesardine\",\"#unmaredisardine\"]\n",
        "\n",
        "with open('final_scremati.csv', 'a', newline='') as file:\n",
        "    writer = csv.writer(file,delimiter=';')\n",
        "    \n",
        "    counts_favor=[0,0,0,0,0]\n",
        "    for sentence in to_ret: #scorro i tweet\n",
        "\n",
        "      for hash in hashtag_list:\n",
        "        tmp=sentence[0].lower().count(hash)\n",
        "        counts_favor[hashtag_list.index(hash)]+=tmp\n",
        "\n",
        "     \n",
        "    counts=[0,0,0,0,0]  #count number of deleted tweets for each hastag\n",
        "    replace_sentence=\"\"\n",
        "    for sentence in to_ret:\n",
        "      \n",
        "      replace_sentence=sentence[0].replace(\"RT \",\"\").lower()\n",
        "      for hash in hashtag_list:  \n",
        "        \n",
        "        if counts[hashtag_list.index(hash)]<(PERCENTUALE*counts_favor[hashtag_list.index(hash)])/100:\n",
        "          if hash in replace_sentence:\n",
        "            replace_sentence= replace_sentence.replace(hash,\"\")\n",
        "            #j+=1\n",
        "            counts[hashtag_list.index(hash)]+=1\n",
        "\n",
        "      writer.writerow([i, replace_sentence, \"FAVOR\"])\n",
        "      i+=1\n",
        "\n",
        "\n",
        "\n",
        "\n",
        "\n",
        "######### NONE ##############\n",
        "\n",
        "df = pd.read_csv(\"/content/sample_data/SILVER_NONE_FINAL.csv\",delimiter=\";\") \n",
        "\n",
        "rows_dict={}\n",
        "rows_dict=create_dictionary(df,rows_dict,1)\n",
        "\n",
        "\n",
        "k=0\n",
        "to_ret=[]\n",
        "\n",
        "for key in rows_dict:\n",
        "  to_ret.append(key)\n",
        "  k+=1\n",
        "\n",
        "\n",
        "with open('final_scremati.csv', 'a', newline='') as file:\n",
        "    writer = csv.writer(file,delimiter=';')\n",
        "    replace_sentence=\"\"\n",
        "\n",
        "    for sentence in to_ret:\n",
        "      replace_sentence=sentence[0].replace(\"RT \",\"\").lower()\n",
        "      writer.writerow([i, replace_sentence, \"NONE\"])\n",
        "\n",
        "\n",
        "\n",
        "   "
      ],
      "execution_count": null,
      "outputs": []
    },
    {
      "cell_type": "code",
      "metadata": {
        "id": "6beWhE8GTlDU"
      },
      "source": [
        "############ TRAIN  ##################\n",
        "#adding out train dataset to the silver data\n",
        "\n",
        "df = pd.read_csv(\"/content/sample_data/TRAIN.csv\",delimiter=\",\") \n",
        "\n",
        "arr=list(range(i,len(df)+i))\n",
        "del df[\"user_id\"]\n",
        "df['tweet_id']=arr\n",
        "\n",
        "\n",
        "df.to_csv('final_scremati.csv', mode='a', header=False,index=False,sep=\";\")\n",
        "\n",
        "\n",
        "\n"
      ],
      "execution_count": null,
      "outputs": []
    }
  ]
}
