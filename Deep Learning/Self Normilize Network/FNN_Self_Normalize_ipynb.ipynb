{
  "nbformat": 4,
  "nbformat_minor": 0,
  "metadata": {
    "colab": {
      "name": "FNN Self Normalize ipynb",
      "provenance": []
    },
    "kernelspec": {
      "name": "python3",
      "display_name": "Python 3"
    },
    "language_info": {
      "name": "python"
    }
  },
  "cells": [
    {
      "cell_type": "markdown",
      "source": [
        "In paper https://arxiv.org/pdf/1706.02515.pdf, authors showed that a Forward NN with SELU activation functions in able of self normalizing (mean 0 , var 1 after each layer), so it can resolv the vanishing/exploding gradient problem (no need of batch normalization).\n",
        "However few conditions are needed:\n",
        "\n",
        "\n",
        "1.   Inpute features must be standardized\n",
        "2.   LeCun normal inizialization\n",
        "3.   Sequential architecture\n",
        "4.   All layers Dense\n"
      ],
      "metadata": {
        "id": "Twm0g6IeFaNB"
      }
    },
    {
      "cell_type": "code",
      "execution_count": 140,
      "metadata": {
        "id": "mB7zdyFjFTHs"
      },
      "outputs": [],
      "source": [
        "import tensorflow as tf\n",
        "from tensorflow import keras\n",
        "from keras.layers import Dense, Flatten, Input, AlphaDropout\n",
        "import matplotlib.pyplot as plt\n",
        "import sklearn\n",
        "from sklearn.preprocessing import StandardScaler\n",
        "from sklearn.model_selection import train_test_split\n",
        "import numpy as np"
      ]
    },
    {
      "cell_type": "markdown",
      "source": [
        "##Import Data"
      ],
      "metadata": {
        "id": "_TwikrKbHhTL"
      }
    },
    {
      "cell_type": "code",
      "source": [
        "(x_train, y_train), (x_test, y_test)= tf.keras.datasets.mnist.load_data()"
      ],
      "metadata": {
        "id": "owwCebzmGR56"
      },
      "execution_count": 113,
      "outputs": []
    },
    {
      "cell_type": "markdown",
      "source": [
        "##Standardized Data"
      ],
      "metadata": {
        "id": "-STcFvYiHixw"
      }
    },
    {
      "cell_type": "code",
      "source": [
        "#convert\n",
        "x_train = x_train.astype(\"float32\")\n",
        "x_test = x_test.astype(\"float32\")\n",
        "\n",
        "x_train = (x_train - tf.reduce_mean(x_train))/255.\n",
        "x_test = (x_test - tf.reduce_mean(x_test))/255."
      ],
      "metadata": {
        "id": "WD6gda7XMJOa"
      },
      "execution_count": 114,
      "outputs": []
    },
    {
      "cell_type": "code",
      "source": [
        "#self normilizing network\n",
        "model = keras.Sequential([\n",
        "    Flatten(input_shape= (28,28)),\n",
        "    Dense(100, activation=\"selu\", kernel_initializer= \"lecun_normal\", bias_initializer=\"zeros\"),\n",
        "    AlphaDropout(0.5),\n",
        "    Dense(100, activation=\"selu\", kernel_initializer= \"lecun_normal\", bias_initializer=\"zeros\"),\n",
        "    AlphaDropout(0.5),\n",
        "    Dense(100, activation=\"selu\", kernel_initializer= \"lecun_normal\", bias_initializer=\"zeros\"),\n",
        "    AlphaDropout(0.5),\n",
        "    Dense(10, activation= \"softmax\", kernel_initializer=\"glorot_normal\"),\n",
        "])"
      ],
      "metadata": {
        "id": "2UEao8_pHA8g"
      },
      "execution_count": 141,
      "outputs": []
    },
    {
      "cell_type": "code",
      "source": [
        "early_stopping_cb = tf.keras.callbacks.EarlyStopping(monitor=\"val_loss\", patience= 5, restore_best_weights=True)"
      ],
      "metadata": {
        "id": "s7ePX3AZI3af"
      },
      "execution_count": 142,
      "outputs": []
    },
    {
      "cell_type": "code",
      "source": [
        "model.compile(optimizer=\"nadam\", loss=\"sparse_categorical_crossentropy\", metrics=[\"accuracy\"])"
      ],
      "metadata": {
        "id": "xTMsg2DHH4nb"
      },
      "execution_count": 143,
      "outputs": []
    },
    {
      "cell_type": "code",
      "source": [
        "history = model.fit(x_train, y_train , validation_split=0.2, callbacks=[early_stopping_cb], epochs=20)"
      ],
      "metadata": {
        "colab": {
          "base_uri": "https://localhost:8080/"
        },
        "id": "2iEqkfmSH5pe",
        "outputId": "55d37764-e5fa-46be-a080-f51507154f23"
      },
      "execution_count": 144,
      "outputs": [
        {
          "output_type": "stream",
          "name": "stdout",
          "text": [
            "Epoch 1/20\n",
            "1500/1500 [==============================] - 8s 5ms/step - loss: 1.0194 - accuracy: 0.6624 - val_loss: 1.0561 - val_accuracy: 0.9082\n",
            "Epoch 2/20\n",
            "1500/1500 [==============================] - 7s 4ms/step - loss: 0.5004 - accuracy: 0.8530 - val_loss: 0.8773 - val_accuracy: 0.9311\n",
            "Epoch 3/20\n",
            "1500/1500 [==============================] - 7s 4ms/step - loss: 0.4126 - accuracy: 0.8814 - val_loss: 0.7258 - val_accuracy: 0.9420\n",
            "Epoch 4/20\n",
            "1500/1500 [==============================] - 7s 5ms/step - loss: 0.3598 - accuracy: 0.8974 - val_loss: 0.6647 - val_accuracy: 0.9496\n",
            "Epoch 5/20\n",
            "1500/1500 [==============================] - 7s 4ms/step - loss: 0.3322 - accuracy: 0.9042 - val_loss: 0.6088 - val_accuracy: 0.9533\n",
            "Epoch 6/20\n",
            "1500/1500 [==============================] - 7s 5ms/step - loss: 0.3110 - accuracy: 0.9125 - val_loss: 0.6313 - val_accuracy: 0.9577\n",
            "Epoch 7/20\n",
            "1500/1500 [==============================] - 7s 4ms/step - loss: 0.2957 - accuracy: 0.9174 - val_loss: 0.5809 - val_accuracy: 0.9593\n",
            "Epoch 8/20\n",
            "1500/1500 [==============================] - 7s 4ms/step - loss: 0.2803 - accuracy: 0.9207 - val_loss: 0.5759 - val_accuracy: 0.9619\n",
            "Epoch 9/20\n",
            "1500/1500 [==============================] - 6s 4ms/step - loss: 0.2678 - accuracy: 0.9245 - val_loss: 0.5898 - val_accuracy: 0.9597\n",
            "Epoch 10/20\n",
            "1500/1500 [==============================] - 6s 4ms/step - loss: 0.2620 - accuracy: 0.9255 - val_loss: 0.5962 - val_accuracy: 0.9595\n",
            "Epoch 11/20\n",
            "1500/1500 [==============================] - 6s 4ms/step - loss: 0.2573 - accuracy: 0.9276 - val_loss: 0.5608 - val_accuracy: 0.9627\n",
            "Epoch 12/20\n",
            "1500/1500 [==============================] - 6s 4ms/step - loss: 0.2460 - accuracy: 0.9317 - val_loss: 0.5599 - val_accuracy: 0.9643\n",
            "Epoch 13/20\n",
            "1500/1500 [==============================] - 6s 4ms/step - loss: 0.2335 - accuracy: 0.9343 - val_loss: 0.5709 - val_accuracy: 0.9645\n",
            "Epoch 14/20\n",
            "1500/1500 [==============================] - 6s 4ms/step - loss: 0.2377 - accuracy: 0.9331 - val_loss: 0.6111 - val_accuracy: 0.9653\n",
            "Epoch 15/20\n",
            "1500/1500 [==============================] - 6s 4ms/step - loss: 0.2275 - accuracy: 0.9350 - val_loss: 0.5940 - val_accuracy: 0.9663\n",
            "Epoch 16/20\n",
            "1500/1500 [==============================] - 6s 4ms/step - loss: 0.2271 - accuracy: 0.9368 - val_loss: 0.5971 - val_accuracy: 0.9662\n",
            "Epoch 17/20\n",
            "1500/1500 [==============================] - 6s 4ms/step - loss: 0.2209 - accuracy: 0.9379 - val_loss: 0.5967 - val_accuracy: 0.9682\n"
          ]
        }
      ]
    },
    {
      "cell_type": "code",
      "source": [
        "x_train.shape"
      ],
      "metadata": {
        "colab": {
          "base_uri": "https://localhost:8080/"
        },
        "id": "xTyoimaMJcYJ",
        "outputId": "9c2cac10-ba33-4c88-e90f-0d90f54c9279"
      },
      "execution_count": 116,
      "outputs": [
        {
          "output_type": "execute_result",
          "data": {
            "text/plain": [
              "TensorShape([60000, 28, 28])"
            ]
          },
          "metadata": {},
          "execution_count": 116
        }
      ]
    }
  ]
}