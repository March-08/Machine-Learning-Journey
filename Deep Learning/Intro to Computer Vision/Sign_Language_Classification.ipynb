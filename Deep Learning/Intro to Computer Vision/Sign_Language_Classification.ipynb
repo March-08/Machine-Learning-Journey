{
  "nbformat": 4,
  "nbformat_minor": 0,
  "metadata": {
    "colab": {
      "name": "Sign Language Classification.ipynb",
      "provenance": []
    },
    "kernelspec": {
      "name": "python3",
      "display_name": "Python 3"
    },
    "language_info": {
      "name": "python"
    },
    "accelerator": "GPU"
  },
  "cells": [
    {
      "cell_type": "code",
      "execution_count": 1,
      "metadata": {
        "id": "e5V_lVSpw_Jn",
        "colab": {
          "resources": {
            "http://localhost:8080/nbextensions/google.colab/files.js": {
              "data": "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",
              "ok": true,
              "headers": [
                [
                  "content-type",
                  "application/javascript"
                ]
              ],
              "status": 200,
              "status_text": ""
            }
          },
          "base_uri": "https://localhost:8080/",
          "height": 74
        },
        "outputId": "f4984b3f-0053-490c-b6ea-5635389893c3"
      },
      "outputs": [
        {
          "output_type": "display_data",
          "data": {
            "text/html": [
              "\n",
              "     <input type=\"file\" id=\"files-25bb87f4-223b-4d7d-a819-d0a62d60de2a\" name=\"files[]\" multiple disabled\n",
              "        style=\"border:none\" />\n",
              "     <output id=\"result-25bb87f4-223b-4d7d-a819-d0a62d60de2a\">\n",
              "      Upload widget is only available when the cell has been executed in the\n",
              "      current browser session. Please rerun this cell to enable.\n",
              "      </output>\n",
              "      <script src=\"/nbextensions/google.colab/files.js\"></script> "
            ],
            "text/plain": [
              "<IPython.core.display.HTML object>"
            ]
          },
          "metadata": {}
        },
        {
          "output_type": "stream",
          "name": "stdout",
          "text": [
            "Saving kaggle.json to kaggle.json\n"
          ]
        },
        {
          "output_type": "execute_result",
          "data": {
            "text/plain": [
              "{'kaggle.json': b'{\"username\":\"marcellopoliti\",\"key\":\"0f1ed88a8dbe45fd8a20f10299e39954\"}'}"
            ]
          },
          "metadata": {},
          "execution_count": 1
        }
      ],
      "source": [
        "from google.colab import files\n",
        "files.upload()"
      ]
    },
    {
      "cell_type": "code",
      "source": [
        "!pip install kaggle\n",
        "!mkdir ~/.kaggle\n",
        "!cp kaggle.json ~/.kaggle/\n",
        "!chmod 600 ~/.kaggle/kaggle.json"
      ],
      "metadata": {
        "id": "hdoPS_qGxH7Z",
        "colab": {
          "base_uri": "https://localhost:8080/"
        },
        "outputId": "494f5296-05ac-4d70-fdfa-80cee3074af3"
      },
      "execution_count": 2,
      "outputs": [
        {
          "output_type": "stream",
          "name": "stdout",
          "text": [
            "Requirement already satisfied: kaggle in /usr/local/lib/python3.7/dist-packages (1.5.12)\n",
            "Requirement already satisfied: certifi in /usr/local/lib/python3.7/dist-packages (from kaggle) (2021.10.8)\n",
            "Requirement already satisfied: python-slugify in /usr/local/lib/python3.7/dist-packages (from kaggle) (5.0.2)\n",
            "Requirement already satisfied: requests in /usr/local/lib/python3.7/dist-packages (from kaggle) (2.23.0)\n",
            "Requirement already satisfied: tqdm in /usr/local/lib/python3.7/dist-packages (from kaggle) (4.62.3)\n",
            "Requirement already satisfied: urllib3 in /usr/local/lib/python3.7/dist-packages (from kaggle) (1.24.3)\n",
            "Requirement already satisfied: python-dateutil in /usr/local/lib/python3.7/dist-packages (from kaggle) (2.8.2)\n",
            "Requirement already satisfied: six>=1.10 in /usr/local/lib/python3.7/dist-packages (from kaggle) (1.15.0)\n",
            "Requirement already satisfied: text-unidecode>=1.3 in /usr/local/lib/python3.7/dist-packages (from python-slugify->kaggle) (1.3)\n",
            "Requirement already satisfied: chardet<4,>=3.0.2 in /usr/local/lib/python3.7/dist-packages (from requests->kaggle) (3.0.4)\n",
            "Requirement already satisfied: idna<3,>=2.5 in /usr/local/lib/python3.7/dist-packages (from requests->kaggle) (2.10)\n"
          ]
        }
      ]
    },
    {
      "cell_type": "code",
      "source": [
        "!kaggle datasets download \"datamunge/sign-language-mnist\""
      ],
      "metadata": {
        "colab": {
          "base_uri": "https://localhost:8080/"
        },
        "id": "zdNJdSRPxk_D",
        "outputId": "b84a2af5-581e-476c-d7c5-36d1af48772a"
      },
      "execution_count": 3,
      "outputs": [
        {
          "output_type": "stream",
          "name": "stdout",
          "text": [
            "Downloading sign-language-mnist.zip to /content\n",
            " 89% 56.0M/62.6M [00:00<00:00, 40.7MB/s]\n",
            "100% 62.6M/62.6M [00:00<00:00, 75.9MB/s]\n"
          ]
        }
      ]
    },
    {
      "cell_type": "markdown",
      "source": [
        "##Extract Files"
      ],
      "metadata": {
        "id": "SDxgL_5txonY"
      }
    },
    {
      "cell_type": "code",
      "source": [
        "import zipfile\n",
        "\n",
        "zip_ref = zipfile.ZipFile(\"/content/sign-language-mnist.zip\",\"r\")\n",
        "zip_ref.extractall(\"./data\")"
      ],
      "metadata": {
        "id": "VgsY6-RtxnRw"
      },
      "execution_count": 4,
      "outputs": []
    },
    {
      "cell_type": "code",
      "source": [
        "import pandas as pd\n",
        "import matplotlib.pyplot as plt\n",
        "import numpy as np"
      ],
      "metadata": {
        "id": "RHZxpLbxx3fn"
      },
      "execution_count": 5,
      "outputs": []
    },
    {
      "cell_type": "code",
      "source": [
        "training = pd.read_csv(\"/content/data/sign_mnist_train/sign_mnist_train.csv\")\n",
        "testing = pd.read_csv(\"/content/data/sign_mnist_test/sign_mnist_test.csv\")"
      ],
      "metadata": {
        "id": "zQitLfyUykro"
      },
      "execution_count": 6,
      "outputs": []
    },
    {
      "cell_type": "markdown",
      "source": [
        "##Split Train Val"
      ],
      "metadata": {
        "id": "LX2HnB9LzNJp"
      }
    },
    {
      "cell_type": "code",
      "source": [
        "#shuffle\n",
        "training = training.sample(frac=1)\n",
        "\n",
        "train_size = 0.80\n",
        "train = training[0:int(len(training)*train_size)]\n",
        "val = training[int(len(training)*train_size):]\n",
        "\n",
        "x_train , y_train = train.drop([\"label\"],axis = 1) , train.label\n",
        "x_val, y_val = val.drop([\"label\"],axis = 1) , val.label\n",
        "\n",
        "x_train.shape,y_train.shape, x_val.shape, y_val.shape"
      ],
      "metadata": {
        "colab": {
          "base_uri": "https://localhost:8080/"
        },
        "id": "qo-9D2Mxypty",
        "outputId": "00c4a276-2f41-49b2-c395-9d648cff35bf"
      },
      "execution_count": 156,
      "outputs": [
        {
          "output_type": "execute_result",
          "data": {
            "text/plain": [
              "((21964, 784), (21964,), (5491, 784), (5491,))"
            ]
          },
          "metadata": {},
          "execution_count": 156
        }
      ]
    },
    {
      "cell_type": "code",
      "source": [
        "from sklearn.model_selection import train_test_split\n",
        "\n",
        "x , y = training.drop([\"label\"],axis = 1) , training.label\n",
        "\n",
        "x_train, x_val, y_train, y_val = train_test_split (x,y , train_size = 0.8 ,stratify = y)"
      ],
      "metadata": {
        "id": "xoAuCXWKqCha"
      },
      "execution_count": 204,
      "outputs": []
    },
    {
      "cell_type": "markdown",
      "source": [
        "##Plot one sample"
      ],
      "metadata": {
        "id": "6I0pf4Ur11ba"
      }
    },
    {
      "cell_type": "code",
      "source": [
        "plt.imshow(x_train.iloc[0,:].values.reshape(28,28), cmap = \"gray\")"
      ],
      "metadata": {
        "colab": {
          "base_uri": "https://localhost:8080/",
          "height": 283
        },
        "id": "tw6Eie8x06Qk",
        "outputId": "7b656dc9-6013-4e1c-c8d3-61e1ff93a67a"
      },
      "execution_count": 110,
      "outputs": [
        {
          "output_type": "execute_result",
          "data": {
            "text/plain": [
              "<matplotlib.image.AxesImage at 0x7fa9dc9842d0>"
            ]
          },
          "metadata": {},
          "execution_count": 110
        },
        {
          "output_type": "display_data",
          "data": {
            "image/png": "[encoded data removed]",
            "text/plain": [
              "<Figure size 432x288 with 1 Axes>"
            ]
          },
          "metadata": {
            "needs_background": "light"
          }
        }
      ]
    },
    {
      "cell_type": "code",
      "source": [
        "#reshape\n",
        "x_train = x_train.values.reshape(-1,28,28,1)\n",
        "x_val = x_val.values.reshape(-1,28,28,1)\n",
        "#y_train = tf.one_hot(y_train.values.reshape(-1),24)\n",
        "#y_val = tf.one_hot(y_val.values.reshape(-1),24)"
      ],
      "metadata": {
        "id": "-zV405y_y80E"
      },
      "execution_count": 205,
      "outputs": []
    },
    {
      "cell_type": "markdown",
      "source": [
        "##Data Augmentation"
      ],
      "metadata": {
        "id": "TSNMPB6oW480"
      }
    },
    {
      "cell_type": "code",
      "source": [
        "import tensorflow as tf\n",
        "from tensorflow.keras.preprocessing.image import ImageDataGenerator"
      ],
      "metadata": {
        "id": "PvMqKN51Xpra"
      },
      "execution_count": 206,
      "outputs": []
    },
    {
      "cell_type": "code",
      "source": [
        "train_datagen = ImageDataGenerator(\n",
        "    rescale=1.0/255.0,\n",
        "    rotation_range=40,\n",
        "    width_shift_range=0.2,\n",
        "    height_shift_range=0.2,\n",
        "    shear_range=0.2,\n",
        "    zoom_range=0.2,\n",
        "    horizontal_flip=True,\n",
        "    fill_mode='nearest'\n",
        "    )\n",
        "\n",
        "val_datagen = ImageDataGenerator(rescale = 1.0/255.0)\n",
        "\n",
        "train_generator = train_datagen.flow(\n",
        "    x_train,\n",
        "    y_train,\n",
        "    batch_size=32,\n",
        "    shuffle = True\n",
        "  )\n",
        "\n",
        "val_generator = train_datagen.flow(\n",
        "    x_val,\n",
        "    y_val,\n",
        "    batch_size=32,\n",
        "    shuffle = True\n",
        "  )"
      ],
      "metadata": {
        "id": "GFr6J3rEXCbk"
      },
      "execution_count": 207,
      "outputs": []
    },
    {
      "cell_type": "code",
      "source": [
        "from tensorflow.keras.layers import Flatten, Dense, Conv2D, MaxPooling2D, Dropout\n",
        "from tensorflow.keras.models import Sequential"
      ],
      "metadata": {
        "id": "UJEiibCzDf-Y"
      },
      "execution_count": 208,
      "outputs": []
    },
    {
      "cell_type": "code",
      "source": [
        "model = Sequential([\n",
        "  Conv2D(filters =32, kernel_size = (3,3), activation = \"relu\",input_shape=(28,28,1)),\n",
        "  MaxPooling2D((2,2)),\n",
        "  Conv2D(filters =64, kernel_size = (3,3), activation = \"relu\",),\n",
        "  MaxPooling2D((2,2)),\n",
        "  Conv2D(filters =64, kernel_size = (3,3), activation = \"relu\",),\n",
        "  #MaxPooling2D((2,2)),\n",
        "\n",
        "  Flatten(),\n",
        "  Dense(128, activation = \"relu\"),\n",
        "  Dropout(0.3),\n",
        "  Dense(25,activation = \"softmax\")\n",
        "])"
      ],
      "metadata": {
        "id": "mDK4JvPLH8sT"
      },
      "execution_count": 209,
      "outputs": []
    },
    {
      "cell_type": "code",
      "source": [
        "model.compile(optimizer = \"adam\", loss = tf.keras.losses.SparseCategoricalCrossentropy(), metrics = [\"accuracy\"])"
      ],
      "metadata": {
        "id": "K3_5EjUhKarH"
      },
      "execution_count": 210,
      "outputs": []
    },
    {
      "cell_type": "markdown",
      "source": [
        "##Define callbacks"
      ],
      "metadata": {
        "id": "qbI5Ylp1YO7K"
      }
    },
    {
      "cell_type": "code",
      "source": [
        "early_stopping = tf.keras.callbacks.EarlyStopping(\n",
        "    monitor = \"val_loss\",\n",
        "    patience = 4,  \n",
        "    restore_best_weights=True\n",
        ")"
      ],
      "metadata": {
        "id": "-DUoeCEYYOTv"
      },
      "execution_count": 211,
      "outputs": []
    },
    {
      "cell_type": "code",
      "source": [
        "history = model.fit(\n",
        "    train_generator,\n",
        "    steps_per_epoch = len(x_train)/32,\n",
        "    validation_steps = len(x_val)/32,\n",
        "    epochs = 40,\n",
        "    validation_data = val_generator,\n",
        "    callbacks = [early_stopping]\n",
        ")"
      ],
      "metadata": {
        "colab": {
          "base_uri": "https://localhost:8080/"
        },
        "id": "Kjqb1tuPEMY0",
        "outputId": "b44024d9-9ba9-4138-fd75-d02f8f398a79"
      },
      "execution_count": 212,
      "outputs": [
        {
          "output_type": "stream",
          "name": "stdout",
          "text": [
            "Epoch 1/40\n",
            "686/686 [==============================] - 11s 15ms/step - loss: 2.9506 - accuracy: 0.1012 - val_loss: 2.5490 - val_accuracy: 0.1898\n",
            "Epoch 2/40\n",
            "686/686 [==============================] - 10s 15ms/step - loss: 2.3599 - accuracy: 0.2372 - val_loss: 1.9441 - val_accuracy: 0.3637\n",
            "Epoch 3/40\n",
            "686/686 [==============================] - 10s 15ms/step - loss: 1.8977 - accuracy: 0.3728 - val_loss: 1.5719 - val_accuracy: 0.4863\n",
            "Epoch 4/40\n",
            "686/686 [==============================] - 10s 15ms/step - loss: 1.5898 - accuracy: 0.4629 - val_loss: 1.3603 - val_accuracy: 0.5451\n",
            "Epoch 5/40\n",
            "686/686 [==============================] - 10s 15ms/step - loss: 1.3844 - accuracy: 0.5292 - val_loss: 1.1564 - val_accuracy: 0.6119\n",
            "Epoch 6/40\n",
            "686/686 [==============================] - 10s 15ms/step - loss: 1.2424 - accuracy: 0.5734 - val_loss: 1.0407 - val_accuracy: 0.6567\n",
            "Epoch 7/40\n",
            "686/686 [==============================] - 12s 18ms/step - loss: 1.1464 - accuracy: 0.6086 - val_loss: 0.9097 - val_accuracy: 0.6880\n",
            "Epoch 8/40\n",
            "686/686 [==============================] - 13s 19ms/step - loss: 1.0531 - accuracy: 0.6351 - val_loss: 0.8895 - val_accuracy: 0.7008\n",
            "Epoch 9/40\n",
            "686/686 [==============================] - 10s 15ms/step - loss: 0.9792 - accuracy: 0.6601 - val_loss: 0.8232 - val_accuracy: 0.7121\n",
            "Epoch 10/40\n",
            "686/686 [==============================] - 10s 15ms/step - loss: 0.9048 - accuracy: 0.6820 - val_loss: 0.7094 - val_accuracy: 0.7532\n",
            "Epoch 11/40\n",
            "686/686 [==============================] - 10s 15ms/step - loss: 0.8500 - accuracy: 0.7009 - val_loss: 0.7349 - val_accuracy: 0.7443\n",
            "Epoch 12/40\n",
            "686/686 [==============================] - 10s 15ms/step - loss: 0.8144 - accuracy: 0.7145 - val_loss: 0.6089 - val_accuracy: 0.8006\n",
            "Epoch 13/40\n",
            "686/686 [==============================] - 10s 15ms/step - loss: 0.7760 - accuracy: 0.7267 - val_loss: 0.6783 - val_accuracy: 0.7665\n",
            "Epoch 14/40\n",
            "686/686 [==============================] - 10s 15ms/step - loss: 0.7363 - accuracy: 0.7407 - val_loss: 0.5628 - val_accuracy: 0.8082\n",
            "Epoch 15/40\n",
            "686/686 [==============================] - 10s 15ms/step - loss: 0.7115 - accuracy: 0.7528 - val_loss: 0.5402 - val_accuracy: 0.8139\n",
            "Epoch 16/40\n",
            "686/686 [==============================] - 10s 15ms/step - loss: 0.6845 - accuracy: 0.7617 - val_loss: 0.5532 - val_accuracy: 0.8153\n",
            "Epoch 17/40\n",
            "686/686 [==============================] - 10s 15ms/step - loss: 0.6503 - accuracy: 0.7722 - val_loss: 0.4782 - val_accuracy: 0.8361\n",
            "Epoch 18/40\n",
            "686/686 [==============================] - 10s 15ms/step - loss: 0.6177 - accuracy: 0.7845 - val_loss: 0.5062 - val_accuracy: 0.8292\n",
            "Epoch 19/40\n",
            "686/686 [==============================] - 10s 15ms/step - loss: 0.6077 - accuracy: 0.7854 - val_loss: 0.4806 - val_accuracy: 0.8412\n",
            "Epoch 20/40\n",
            "686/686 [==============================] - 10s 15ms/step - loss: 0.5878 - accuracy: 0.7941 - val_loss: 0.4704 - val_accuracy: 0.8361\n",
            "Epoch 21/40\n",
            "686/686 [==============================] - 10s 15ms/step - loss: 0.5877 - accuracy: 0.7961 - val_loss: 0.4539 - val_accuracy: 0.8386\n",
            "Epoch 22/40\n",
            "686/686 [==============================] - 10s 15ms/step - loss: 0.5415 - accuracy: 0.8111 - val_loss: 0.3780 - val_accuracy: 0.8763\n",
            "Epoch 23/40\n",
            "686/686 [==============================] - 10s 15ms/step - loss: 0.5461 - accuracy: 0.8078 - val_loss: 0.4556 - val_accuracy: 0.8450\n",
            "Epoch 24/40\n",
            "686/686 [==============================] - 10s 15ms/step - loss: 0.5213 - accuracy: 0.8181 - val_loss: 0.4452 - val_accuracy: 0.8425\n",
            "Epoch 25/40\n",
            "686/686 [==============================] - 10s 15ms/step - loss: 0.5035 - accuracy: 0.8281 - val_loss: 0.4084 - val_accuracy: 0.8636\n",
            "Epoch 26/40\n",
            "686/686 [==============================] - 10s 15ms/step - loss: 0.4861 - accuracy: 0.8307 - val_loss: 0.3457 - val_accuracy: 0.8825\n",
            "Epoch 27/40\n",
            "686/686 [==============================] - 10s 15ms/step - loss: 0.4803 - accuracy: 0.8302 - val_loss: 0.3735 - val_accuracy: 0.8694\n",
            "Epoch 28/40\n",
            "686/686 [==============================] - 10s 15ms/step - loss: 0.4710 - accuracy: 0.8359 - val_loss: 0.3395 - val_accuracy: 0.8858\n",
            "Epoch 29/40\n",
            "686/686 [==============================] - 10s 15ms/step - loss: 0.4652 - accuracy: 0.8386 - val_loss: 0.3682 - val_accuracy: 0.8716\n",
            "Epoch 30/40\n",
            "686/686 [==============================] - 10s 15ms/step - loss: 0.4496 - accuracy: 0.8451 - val_loss: 0.3369 - val_accuracy: 0.8885\n",
            "Epoch 31/40\n",
            "686/686 [==============================] - 11s 15ms/step - loss: 0.4493 - accuracy: 0.8458 - val_loss: 0.3244 - val_accuracy: 0.8878\n",
            "Epoch 32/40\n",
            "686/686 [==============================] - 11s 16ms/step - loss: 0.4336 - accuracy: 0.8525 - val_loss: 0.2937 - val_accuracy: 0.8995\n",
            "Epoch 33/40\n",
            "686/686 [==============================] - 10s 15ms/step - loss: 0.4224 - accuracy: 0.8539 - val_loss: 0.3071 - val_accuracy: 0.8962\n",
            "Epoch 34/40\n",
            "686/686 [==============================] - 10s 15ms/step - loss: 0.4176 - accuracy: 0.8580 - val_loss: 0.2961 - val_accuracy: 0.9027\n",
            "Epoch 35/40\n",
            "686/686 [==============================] - 10s 15ms/step - loss: 0.4031 - accuracy: 0.8602 - val_loss: 0.2711 - val_accuracy: 0.9051\n",
            "Epoch 36/40\n",
            "686/686 [==============================] - 10s 15ms/step - loss: 0.4146 - accuracy: 0.8570 - val_loss: 0.2812 - val_accuracy: 0.9042\n",
            "Epoch 37/40\n",
            "686/686 [==============================] - 10s 15ms/step - loss: 0.3979 - accuracy: 0.8617 - val_loss: 0.2867 - val_accuracy: 0.9038\n",
            "Epoch 38/40\n",
            "686/686 [==============================] - 10s 15ms/step - loss: 0.3912 - accuracy: 0.8648 - val_loss: 0.2905 - val_accuracy: 0.8997\n",
            "Epoch 39/40\n",
            "686/686 [==============================] - 10s 15ms/step - loss: 0.3961 - accuracy: 0.8642 - val_loss: 0.2786 - val_accuracy: 0.9020\n"
          ]
        }
      ]
    },
    {
      "cell_type": "markdown",
      "source": [
        "##Test the model"
      ],
      "metadata": {
        "id": "FyPYVm0EbC98"
      }
    },
    {
      "cell_type": "code",
      "source": [
        "testing = pd.read_csv(\"/content/data/sign_mnist_test/sign_mnist_test.csv\")\n",
        "testing.head()"
      ],
      "metadata": {
        "colab": {
          "base_uri": "https://localhost:8080/",
          "height": 299
        },
        "id": "wiuG1Zc2bCto",
        "outputId": "ae2a7f80-0644-43f7-d54e-f646bab9dec1"
      },
      "execution_count": 213,
      "outputs": [
        {
          "output_type": "execute_result",
          "data": {
            "text/html": [
              "\n",
              "  <div id=\"df-f96feb52-0ba7-435b-b5a5-0b862163809e\">\n",
              "    <div class=\"colab-df-container\">\n",
              "      <div>\n",
              "<style scoped>\n",
              "    .dataframe tbody tr th:only-of-type {\n",
              "        vertical-align: middle;\n",
              "    }\n",
              "\n",
              "    .dataframe tbody tr th {\n",
              "        vertical-align: top;\n",
              "    }\n",
              "\n",
              "    .dataframe thead th {\n",
              "        text-align: right;\n",
              "    }\n",
              "</style>\n",
              "<table border=\"1\" class=\"dataframe\">\n",
              "  <thead>\n",
              "    <tr style=\"text-align: right;\">\n",
              "      <th></th>\n",
              "      <th>label</th>\n",
              "      <th>pixel1</th>\n",
              "      <th>pixel2</th>\n",
              "      <th>pixel3</th>\n",
              "      <th>pixel4</th>\n",
              "      <th>pixel5</th>\n",
              "      <th>pixel6</th>\n",
              "      <th>pixel7</th>\n",
              "      <th>pixel8</th>\n",
              "      <th>pixel9</th>\n",
              "      <th>pixel10</th>\n",
              "      <th>pixel11</th>\n",
              "      <th>pixel12</th>\n",
              "      <th>pixel13</th>\n",
              "      <th>pixel14</th>\n",
              "      <th>pixel15</th>\n",
              "      <th>pixel16</th>\n",
              "      <th>pixel17</th>\n",
              "      <th>pixel18</th>\n",
              "      <th>pixel19</th>\n",
              "      <th>pixel20</th>\n",
              "      <th>pixel21</th>\n",
              "      <th>pixel22</th>\n",
              "      <th>pixel23</th>\n",
              "      <th>pixel24</th>\n",
              "      <th>pixel25</th>\n",
              "      <th>pixel26</th>\n",
              "      <th>pixel27</th>\n",
              "      <th>pixel28</th>\n",
              "      <th>pixel29</th>\n",
              "      <th>pixel30</th>\n",
              "      <th>pixel31</th>\n",
              "      <th>pixel32</th>\n",
              "      <th>pixel33</th>\n",
              "      <th>pixel34</th>\n",
              "      <th>pixel35</th>\n",
              "      <th>pixel36</th>\n",
              "      <th>pixel37</th>\n",
              "      <th>pixel38</th>\n",
              "      <th>pixel39</th>\n",
              "      <th>...</th>\n",
              "      <th>pixel745</th>\n",
              "      <th>pixel746</th>\n",
              "      <th>pixel747</th>\n",
              "      <th>pixel748</th>\n",
              "      <th>pixel749</th>\n",
              "      <th>pixel750</th>\n",
              "      <th>pixel751</th>\n",
              "      <th>pixel752</th>\n",
              "      <th>pixel753</th>\n",
              "      <th>pixel754</th>\n",
              "      <th>pixel755</th>\n",
              "      <th>pixel756</th>\n",
              "      <th>pixel757</th>\n",
              "      <th>pixel758</th>\n",
              "      <th>pixel759</th>\n",
              "      <th>pixel760</th>\n",
              "      <th>pixel761</th>\n",
              "      <th>pixel762</th>\n",
              "      <th>pixel763</th>\n",
              "      <th>pixel764</th>\n",
              "      <th>pixel765</th>\n",
              "      <th>pixel766</th>\n",
              "      <th>pixel767</th>\n",
              "      <th>pixel768</th>\n",
              "      <th>pixel769</th>\n",
              "      <th>pixel770</th>\n",
              "      <th>pixel771</th>\n",
              "      <th>pixel772</th>\n",
              "      <th>pixel773</th>\n",
              "      <th>pixel774</th>\n",
              "      <th>pixel775</th>\n",
              "      <th>pixel776</th>\n",
              "      <th>pixel777</th>\n",
              "      <th>pixel778</th>\n",
              "      <th>pixel779</th>\n",
              "      <th>pixel780</th>\n",
              "      <th>pixel781</th>\n",
              "      <th>pixel782</th>\n",
              "      <th>pixel783</th>\n",
              "      <th>pixel784</th>\n",
              "    </tr>\n",
              "  </thead>\n",
              "  <tbody>\n",
              "    <tr>\n",
              "      <th>0</th>\n",
              "      <td>6</td>\n",
              "      <td>149</td>\n",
              "      <td>149</td>\n",
              "      <td>150</td>\n",
              "      <td>150</td>\n",
              "      <td>150</td>\n",
              "      <td>151</td>\n",
              "      <td>151</td>\n",
              "      <td>150</td>\n",
              "      <td>151</td>\n",
              "      <td>152</td>\n",
              "      <td>152</td>\n",
              "      <td>152</td>\n",
              "      <td>152</td>\n",
              "      <td>152</td>\n",
              "      <td>153</td>\n",
              "      <td>153</td>\n",
              "      <td>151</td>\n",
              "      <td>152</td>\n",
              "      <td>152</td>\n",
              "      <td>153</td>\n",
              "      <td>152</td>\n",
              "      <td>152</td>\n",
              "      <td>151</td>\n",
              "      <td>151</td>\n",
              "      <td>150</td>\n",
              "      <td>150</td>\n",
              "      <td>150</td>\n",
              "      <td>149</td>\n",
              "      <td>150</td>\n",
              "      <td>150</td>\n",
              "      <td>150</td>\n",
              "      <td>152</td>\n",
              "      <td>152</td>\n",
              "      <td>151</td>\n",
              "      <td>152</td>\n",
              "      <td>152</td>\n",
              "      <td>152</td>\n",
              "      <td>152</td>\n",
              "      <td>152</td>\n",
              "      <td>...</td>\n",
              "      <td>131</td>\n",
              "      <td>134</td>\n",
              "      <td>144</td>\n",
              "      <td>147</td>\n",
              "      <td>125</td>\n",
              "      <td>87</td>\n",
              "      <td>87</td>\n",
              "      <td>103</td>\n",
              "      <td>107</td>\n",
              "      <td>110</td>\n",
              "      <td>116</td>\n",
              "      <td>113</td>\n",
              "      <td>75</td>\n",
              "      <td>74</td>\n",
              "      <td>74</td>\n",
              "      <td>74</td>\n",
              "      <td>76</td>\n",
              "      <td>74</td>\n",
              "      <td>82</td>\n",
              "      <td>134</td>\n",
              "      <td>168</td>\n",
              "      <td>155</td>\n",
              "      <td>146</td>\n",
              "      <td>137</td>\n",
              "      <td>145</td>\n",
              "      <td>146</td>\n",
              "      <td>149</td>\n",
              "      <td>135</td>\n",
              "      <td>124</td>\n",
              "      <td>125</td>\n",
              "      <td>138</td>\n",
              "      <td>148</td>\n",
              "      <td>127</td>\n",
              "      <td>89</td>\n",
              "      <td>82</td>\n",
              "      <td>96</td>\n",
              "      <td>106</td>\n",
              "      <td>112</td>\n",
              "      <td>120</td>\n",
              "      <td>107</td>\n",
              "    </tr>\n",
              "    <tr>\n",
              "      <th>1</th>\n",
              "      <td>5</td>\n",
              "      <td>126</td>\n",
              "      <td>128</td>\n",
              "      <td>131</td>\n",
              "      <td>132</td>\n",
              "      <td>133</td>\n",
              "      <td>134</td>\n",
              "      <td>135</td>\n",
              "      <td>135</td>\n",
              "      <td>136</td>\n",
              "      <td>138</td>\n",
              "      <td>137</td>\n",
              "      <td>137</td>\n",
              "      <td>138</td>\n",
              "      <td>138</td>\n",
              "      <td>139</td>\n",
              "      <td>137</td>\n",
              "      <td>142</td>\n",
              "      <td>140</td>\n",
              "      <td>138</td>\n",
              "      <td>139</td>\n",
              "      <td>137</td>\n",
              "      <td>137</td>\n",
              "      <td>136</td>\n",
              "      <td>135</td>\n",
              "      <td>134</td>\n",
              "      <td>133</td>\n",
              "      <td>134</td>\n",
              "      <td>132</td>\n",
              "      <td>129</td>\n",
              "      <td>132</td>\n",
              "      <td>134</td>\n",
              "      <td>135</td>\n",
              "      <td>135</td>\n",
              "      <td>137</td>\n",
              "      <td>139</td>\n",
              "      <td>139</td>\n",
              "      <td>139</td>\n",
              "      <td>140</td>\n",
              "      <td>141</td>\n",
              "      <td>...</td>\n",
              "      <td>114</td>\n",
              "      <td>112</td>\n",
              "      <td>89</td>\n",
              "      <td>48</td>\n",
              "      <td>133</td>\n",
              "      <td>194</td>\n",
              "      <td>182</td>\n",
              "      <td>185</td>\n",
              "      <td>184</td>\n",
              "      <td>184</td>\n",
              "      <td>182</td>\n",
              "      <td>181</td>\n",
              "      <td>172</td>\n",
              "      <td>174</td>\n",
              "      <td>177</td>\n",
              "      <td>178</td>\n",
              "      <td>178</td>\n",
              "      <td>179</td>\n",
              "      <td>181</td>\n",
              "      <td>183</td>\n",
              "      <td>187</td>\n",
              "      <td>175</td>\n",
              "      <td>165</td>\n",
              "      <td>154</td>\n",
              "      <td>118</td>\n",
              "      <td>107</td>\n",
              "      <td>100</td>\n",
              "      <td>75</td>\n",
              "      <td>96</td>\n",
              "      <td>83</td>\n",
              "      <td>47</td>\n",
              "      <td>104</td>\n",
              "      <td>194</td>\n",
              "      <td>183</td>\n",
              "      <td>186</td>\n",
              "      <td>184</td>\n",
              "      <td>184</td>\n",
              "      <td>184</td>\n",
              "      <td>182</td>\n",
              "      <td>180</td>\n",
              "    </tr>\n",
              "    <tr>\n",
              "      <th>2</th>\n",
              "      <td>10</td>\n",
              "      <td>85</td>\n",
              "      <td>88</td>\n",
              "      <td>92</td>\n",
              "      <td>96</td>\n",
              "      <td>105</td>\n",
              "      <td>123</td>\n",
              "      <td>135</td>\n",
              "      <td>143</td>\n",
              "      <td>147</td>\n",
              "      <td>152</td>\n",
              "      <td>157</td>\n",
              "      <td>163</td>\n",
              "      <td>168</td>\n",
              "      <td>171</td>\n",
              "      <td>182</td>\n",
              "      <td>172</td>\n",
              "      <td>175</td>\n",
              "      <td>185</td>\n",
              "      <td>183</td>\n",
              "      <td>184</td>\n",
              "      <td>185</td>\n",
              "      <td>185</td>\n",
              "      <td>185</td>\n",
              "      <td>183</td>\n",
              "      <td>183</td>\n",
              "      <td>182</td>\n",
              "      <td>181</td>\n",
              "      <td>178</td>\n",
              "      <td>86</td>\n",
              "      <td>88</td>\n",
              "      <td>93</td>\n",
              "      <td>96</td>\n",
              "      <td>108</td>\n",
              "      <td>125</td>\n",
              "      <td>137</td>\n",
              "      <td>145</td>\n",
              "      <td>149</td>\n",
              "      <td>154</td>\n",
              "      <td>160</td>\n",
              "      <td>...</td>\n",
              "      <td>145</td>\n",
              "      <td>123</td>\n",
              "      <td>78</td>\n",
              "      <td>162</td>\n",
              "      <td>239</td>\n",
              "      <td>227</td>\n",
              "      <td>229</td>\n",
              "      <td>226</td>\n",
              "      <td>226</td>\n",
              "      <td>225</td>\n",
              "      <td>224</td>\n",
              "      <td>222</td>\n",
              "      <td>89</td>\n",
              "      <td>91</td>\n",
              "      <td>94</td>\n",
              "      <td>111</td>\n",
              "      <td>136</td>\n",
              "      <td>154</td>\n",
              "      <td>167</td>\n",
              "      <td>184</td>\n",
              "      <td>125</td>\n",
              "      <td>3</td>\n",
              "      <td>166</td>\n",
              "      <td>225</td>\n",
              "      <td>195</td>\n",
              "      <td>188</td>\n",
              "      <td>172</td>\n",
              "      <td>185</td>\n",
              "      <td>161</td>\n",
              "      <td>122</td>\n",
              "      <td>68</td>\n",
              "      <td>166</td>\n",
              "      <td>242</td>\n",
              "      <td>227</td>\n",
              "      <td>230</td>\n",
              "      <td>227</td>\n",
              "      <td>226</td>\n",
              "      <td>225</td>\n",
              "      <td>224</td>\n",
              "      <td>222</td>\n",
              "    </tr>\n",
              "    <tr>\n",
              "      <th>3</th>\n",
              "      <td>0</td>\n",
              "      <td>203</td>\n",
              "      <td>205</td>\n",
              "      <td>207</td>\n",
              "      <td>206</td>\n",
              "      <td>207</td>\n",
              "      <td>209</td>\n",
              "      <td>210</td>\n",
              "      <td>209</td>\n",
              "      <td>210</td>\n",
              "      <td>209</td>\n",
              "      <td>208</td>\n",
              "      <td>207</td>\n",
              "      <td>207</td>\n",
              "      <td>209</td>\n",
              "      <td>208</td>\n",
              "      <td>210</td>\n",
              "      <td>210</td>\n",
              "      <td>207</td>\n",
              "      <td>209</td>\n",
              "      <td>209</td>\n",
              "      <td>208</td>\n",
              "      <td>209</td>\n",
              "      <td>210</td>\n",
              "      <td>209</td>\n",
              "      <td>207</td>\n",
              "      <td>208</td>\n",
              "      <td>209</td>\n",
              "      <td>207</td>\n",
              "      <td>206</td>\n",
              "      <td>208</td>\n",
              "      <td>209</td>\n",
              "      <td>208</td>\n",
              "      <td>208</td>\n",
              "      <td>210</td>\n",
              "      <td>211</td>\n",
              "      <td>210</td>\n",
              "      <td>211</td>\n",
              "      <td>209</td>\n",
              "      <td>209</td>\n",
              "      <td>...</td>\n",
              "      <td>85</td>\n",
              "      <td>80</td>\n",
              "      <td>84</td>\n",
              "      <td>151</td>\n",
              "      <td>238</td>\n",
              "      <td>255</td>\n",
              "      <td>255</td>\n",
              "      <td>250</td>\n",
              "      <td>237</td>\n",
              "      <td>245</td>\n",
              "      <td>250</td>\n",
              "      <td>232</td>\n",
              "      <td>103</td>\n",
              "      <td>101</td>\n",
              "      <td>102</td>\n",
              "      <td>103</td>\n",
              "      <td>95</td>\n",
              "      <td>208</td>\n",
              "      <td>231</td>\n",
              "      <td>227</td>\n",
              "      <td>209</td>\n",
              "      <td>190</td>\n",
              "      <td>179</td>\n",
              "      <td>182</td>\n",
              "      <td>152</td>\n",
              "      <td>150</td>\n",
              "      <td>159</td>\n",
              "      <td>119</td>\n",
              "      <td>83</td>\n",
              "      <td>63</td>\n",
              "      <td>154</td>\n",
              "      <td>248</td>\n",
              "      <td>247</td>\n",
              "      <td>248</td>\n",
              "      <td>253</td>\n",
              "      <td>236</td>\n",
              "      <td>230</td>\n",
              "      <td>240</td>\n",
              "      <td>253</td>\n",
              "      <td>255</td>\n",
              "    </tr>\n",
              "    <tr>\n",
              "      <th>4</th>\n",
              "      <td>3</td>\n",
              "      <td>188</td>\n",
              "      <td>191</td>\n",
              "      <td>193</td>\n",
              "      <td>195</td>\n",
              "      <td>199</td>\n",
              "      <td>201</td>\n",
              "      <td>202</td>\n",
              "      <td>203</td>\n",
              "      <td>203</td>\n",
              "      <td>203</td>\n",
              "      <td>204</td>\n",
              "      <td>204</td>\n",
              "      <td>204</td>\n",
              "      <td>203</td>\n",
              "      <td>202</td>\n",
              "      <td>198</td>\n",
              "      <td>216</td>\n",
              "      <td>217</td>\n",
              "      <td>135</td>\n",
              "      <td>181</td>\n",
              "      <td>200</td>\n",
              "      <td>195</td>\n",
              "      <td>194</td>\n",
              "      <td>193</td>\n",
              "      <td>190</td>\n",
              "      <td>189</td>\n",
              "      <td>187</td>\n",
              "      <td>185</td>\n",
              "      <td>190</td>\n",
              "      <td>194</td>\n",
              "      <td>196</td>\n",
              "      <td>197</td>\n",
              "      <td>200</td>\n",
              "      <td>202</td>\n",
              "      <td>204</td>\n",
              "      <td>206</td>\n",
              "      <td>207</td>\n",
              "      <td>207</td>\n",
              "      <td>206</td>\n",
              "      <td>...</td>\n",
              "      <td>93</td>\n",
              "      <td>52</td>\n",
              "      <td>24</td>\n",
              "      <td>53</td>\n",
              "      <td>63</td>\n",
              "      <td>33</td>\n",
              "      <td>41</td>\n",
              "      <td>51</td>\n",
              "      <td>48</td>\n",
              "      <td>45</td>\n",
              "      <td>49</td>\n",
              "      <td>55</td>\n",
              "      <td>149</td>\n",
              "      <td>150</td>\n",
              "      <td>150</td>\n",
              "      <td>148</td>\n",
              "      <td>147</td>\n",
              "      <td>151</td>\n",
              "      <td>124</td>\n",
              "      <td>82</td>\n",
              "      <td>84</td>\n",
              "      <td>81</td>\n",
              "      <td>69</td>\n",
              "      <td>81</td>\n",
              "      <td>111</td>\n",
              "      <td>103</td>\n",
              "      <td>84</td>\n",
              "      <td>75</td>\n",
              "      <td>53</td>\n",
              "      <td>28</td>\n",
              "      <td>26</td>\n",
              "      <td>40</td>\n",
              "      <td>64</td>\n",
              "      <td>48</td>\n",
              "      <td>29</td>\n",
              "      <td>46</td>\n",
              "      <td>49</td>\n",
              "      <td>46</td>\n",
              "      <td>46</td>\n",
              "      <td>53</td>\n",
              "    </tr>\n",
              "  </tbody>\n",
              "</table>\n",
              "<p>5 rows × 785 columns</p>\n",
              "</div>\n",
              "      <button class=\"colab-df-convert\" onclick=\"convertToInteractive('df-f96feb52-0ba7-435b-b5a5-0b862163809e')\"\n",
              "              title=\"Convert this dataframe to an interactive table.\"\n",
              "              style=\"display:none;\">\n",
              "        \n",
              "  <svg xmlns=\"http://www.w3.org/2000/svg\" height=\"24px\"viewBox=\"0 0 24 24\"\n",
              "       width=\"24px\">\n",
              "    <path d=\"M0 0h24v24H0V0z\" fill=\"none\"/>\n",
              "    <path d=\"M18.56 5.44l.94 2.06.94-2.06 2.06-.94-2.06-.94-.94-2.06-.94 2.06-2.06.94zm-11 1L8.5 8.5l.94-2.06 2.06-.94-2.06-.94L8.5 2.5l-.94 2.06-2.06.94zm10 10l.94 2.06.94-2.06 2.06-.94-2.06-.94-.94-2.06-.94 2.06-2.06.94z\"/><path d=\"M17.41 7.96l-1.37-1.37c-.4-.4-.92-.59-1.43-.59-.52 0-1.04.2-1.43.59L10.3 9.45l-7.72 7.72c-.78.78-.78 2.05 0 2.83L4 21.41c.39.39.9.59 1.41.59.51 0 1.02-.2 1.41-.59l7.78-7.78 2.81-2.81c.8-.78.8-2.07 0-2.86zM5.41 20L4 18.59l7.72-7.72 1.47 1.35L5.41 20z\"/>\n",
              "  </svg>\n",
              "      </button>\n",
              "      \n",
              "  <style>\n",
              "    .colab-df-container {\n",
              "      display:flex;\n",
              "      flex-wrap:wrap;\n",
              "      gap: 12px;\n",
              "    }\n",
              "\n",
              "    .colab-df-convert {\n",
              "      background-color: #E8F0FE;\n",
              "      border: none;\n",
              "      border-radius: 50%;\n",
              "      cursor: pointer;\n",
              "      display: none;\n",
              "      fill: #1967D2;\n",
              "      height: 32px;\n",
              "      padding: 0 0 0 0;\n",
              "      width: 32px;\n",
              "    }\n",
              "\n",
              "    .colab-df-convert:hover {\n",
              "      background-color: #E2EBFA;\n",
              "      box-shadow: 0px 1px 2px rgba(60, 64, 67, 0.3), 0px 1px 3px 1px rgba(60, 64, 67, 0.15);\n",
              "      fill: #174EA6;\n",
              "    }\n",
              "\n",
              "    [theme=dark] .colab-df-convert {\n",
              "      background-color: #3B4455;\n",
              "      fill: #D2E3FC;\n",
              "    }\n",
              "\n",
              "    [theme=dark] .colab-df-convert:hover {\n",
              "      background-color: #434B5C;\n",
              "      box-shadow: 0px 1px 3px 1px rgba(0, 0, 0, 0.15);\n",
              "      filter: drop-shadow(0px 1px 2px rgba(0, 0, 0, 0.3));\n",
              "      fill: #FFFFFF;\n",
              "    }\n",
              "  </style>\n",
              "\n",
              "      <script>\n",
              "        const buttonEl =\n",
              "          document.querySelector('#df-f96feb52-0ba7-435b-b5a5-0b862163809e button.colab-df-convert');\n",
              "        buttonEl.style.display =\n",
              "          google.colab.kernel.accessAllowed ? 'block' : 'none';\n",
              "\n",
              "        async function convertToInteractive(key) {\n",
              "          const element = document.querySelector('#df-f96feb52-0ba7-435b-b5a5-0b862163809e');\n",
              "          const dataTable =\n",
              "            await google.colab.kernel.invokeFunction('convertToInteractive',\n",
              "                                                     [key], {});\n",
              "          if (!dataTable) return;\n",
              "\n",
              "          const docLinkHtml = 'Like what you see? Visit the ' +\n",
              "            '<a target=\"_blank\" href=https://colab.research.google.com/notebooks/data_table.ipynb>data table notebook</a>'\n",
              "            + ' to learn more about interactive tables.';\n",
              "          element.innerHTML = '';\n",
              "          dataTable['output_type'] = 'display_data';\n",
              "          await google.colab.output.renderOutput(dataTable, element);\n",
              "          const docLink = document.createElement('div');\n",
              "          docLink.innerHTML = docLinkHtml;\n",
              "          element.appendChild(docLink);\n",
              "        }\n",
              "      </script>\n",
              "    </div>\n",
              "  </div>\n",
              "  "
            ],
            "text/plain": [
              "   label  pixel1  pixel2  pixel3  ...  pixel781  pixel782  pixel783  pixel784\n",
              "0      6     149     149     150  ...       106       112       120       107\n",
              "1      5     126     128     131  ...       184       184       182       180\n",
              "2     10      85      88      92  ...       226       225       224       222\n",
              "3      0     203     205     207  ...       230       240       253       255\n",
              "4      3     188     191     193  ...        49        46        46        53\n",
              "\n",
              "[5 rows x 785 columns]"
            ]
          },
          "metadata": {},
          "execution_count": 213
        }
      ]
    },
    {
      "cell_type": "code",
      "source": [
        "x_test = testing.drop([\"label\"],axis = 1)\n",
        "y_test = testing.label"
      ],
      "metadata": {
        "id": "h6z3OO95bnY1"
      },
      "execution_count": 214,
      "outputs": []
    },
    {
      "cell_type": "code",
      "source": [
        "#reshape\n",
        "x_test = x_test.values.reshape(-1,28,28,1)\n",
        "y_test = y_test.values.reshape(-1)"
      ],
      "metadata": {
        "id": "4zN2KjhZcWLG"
      },
      "execution_count": 215,
      "outputs": []
    },
    {
      "cell_type": "code",
      "source": [
        "model.evaluate(x_test/255.0 , y_test)"
      ],
      "metadata": {
        "colab": {
          "base_uri": "https://localhost:8080/"
        },
        "id": "SQHMg1krby8I",
        "outputId": "7e551384-f439-41f1-efc3-f1075d9cd250"
      },
      "execution_count": 216,
      "outputs": [
        {
          "output_type": "stream",
          "name": "stdout",
          "text": [
            "225/225 [==============================] - 1s 3ms/step - loss: 0.1407 - accuracy: 0.9437\n"
          ]
        },
        {
          "output_type": "execute_result",
          "data": {
            "text/plain": [
              "[0.1407497078180313, 0.943669855594635]"
            ]
          },
          "metadata": {},
          "execution_count": 216
        }
      ]
    }
  ]
}