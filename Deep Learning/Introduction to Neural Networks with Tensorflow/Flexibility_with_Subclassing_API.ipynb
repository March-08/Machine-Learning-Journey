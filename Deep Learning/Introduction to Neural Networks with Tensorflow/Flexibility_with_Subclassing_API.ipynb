{
  "nbformat": 4,
  "nbformat_minor": 0,
  "metadata": {
    "colab": {
      "name": "Flexibility with Subclassing API.ipynb",
      "provenance": []
    },
    "kernelspec": {
      "name": "python3",
      "display_name": "Python 3"
    },
    "language_info": {
      "name": "python"
    }
  },
  "cells": [
    {
      "cell_type": "markdown",
      "source": [
        "Sequential API and Functional API are declarative, you need to declare layers and how they are connected. The cons to this is that the network is static.\n",
        "If you need a more dynamic network which uses loop, conditions, etc.. you should use Subclassing API.\n",
        "Lets see how to create the wide and deep model using this API.\n",
        "![](https://www.researchgate.net/profile/Kaveh-Bastani/publication/328161216/figure/fig3/AS:679665219928064@1539056224036/Illustration-of-the-wide-and-deep-model-which-is-an-integration-of-wide-component-and.ppm)\n"
      ],
      "metadata": {
        "id": "riGgaW6l3Irg"
      }
    },
    {
      "cell_type": "code",
      "source": [
        "import tensorflow as tf\n",
        "from tensorflow import keras\n",
        "from keras.layers import Dense, Concatenate, Input"
      ],
      "metadata": {
        "id": "SEa67heh4QfN"
      },
      "execution_count": null,
      "outputs": []
    },
    {
      "cell_type": "markdown",
      "source": [
        "We separate the creation of layers in the constructor from their usage in the call method"
      ],
      "metadata": {
        "id": "8QWmaVik5UBO"
      }
    },
    {
      "cell_type": "code",
      "execution_count": null,
      "metadata": {
        "id": "oGBLHrKo3E2Z"
      },
      "outputs": [],
      "source": [
        "class WideAndDeepModel(keras.models.Model):\n",
        "  def __init__(self, units = 30, activation = \"relu\", **kwargs):\n",
        "    super().__init__(**kwargs) #handle standard args like name,etch..\n",
        "    self.hidden1 = Dense(units,activation = activation)\n",
        "    self.hidden2 = Dense(units, activation = activation)\n",
        "    self.main_output = Dense(1)\n",
        "    self.aux_output = Dense(1)\n",
        "\n",
        "  def call(self, inputs):\n",
        "    input_A, input_B = inputs\n",
        "    hidden1 = self.hidden1(input_B)\n",
        "    hidden2 = self.hidden2(hidden1)\n",
        "    concat = Concatenate()([input_A, hidden2])\n",
        "    main_output = self.main_output(concat)\n",
        "    aux_output = self.aux_output(hidden2)\n",
        "\n",
        "    return main_output, aux_output"
      ]
    },
    {
      "cell_type": "code",
      "source": [
        "model = WideAndDeepModel()"
      ],
      "metadata": {
        "id": "Q3oDz7tB5QdO"
      },
      "execution_count": null,
      "outputs": []
    },
    {
      "cell_type": "code",
      "source": [
        "from sklearn import datasets\n",
        "from sklearn.preprocessing import StandardScaler\n",
        "from sklearn.model_selection import train_test_split"
      ],
      "metadata": {
        "id": "umM3OhE75SW3"
      },
      "execution_count": null,
      "outputs": []
    },
    {
      "cell_type": "code",
      "source": [
        "housing = datasets.fetch_california_housing()\n",
        "\n",
        "x_train_full, x_test, y_train_full, y_test = train_test_split(housing[\"data\"],housing[\"target\"])\n",
        "x_train, x_val, y_train, y_val = train_test_split(x_train_full,y_train_full)"
      ],
      "metadata": {
        "id": "fUoq9rtd5igc"
      },
      "execution_count": null,
      "outputs": []
    },
    {
      "cell_type": "code",
      "source": [
        "scaler = StandardScaler()\n",
        "\n",
        "x_train = scaler.fit_transform(x_train)\n",
        "x_val = scaler.transform(x_val)\n",
        "x_test = scaler.transform(x_test)"
      ],
      "metadata": {
        "id": "nSR-frNU5kaO"
      },
      "execution_count": null,
      "outputs": []
    },
    {
      "cell_type": "code",
      "source": [
        "x_train_A, x_train_B = x_train[:,:5],x_train[:,2:]\n",
        "x_val_A, x_val_B = x_val[:,:5], x_val[:,2:]\n",
        "x_test_A, x_test_B = x_test[:,:5], x_test[:,2:] "
      ],
      "metadata": {
        "id": "6tkjtDNi5cZ4"
      },
      "execution_count": null,
      "outputs": []
    },
    {
      "cell_type": "code",
      "source": [
        "model.compile(optimizer = \"sgd\", loss= [\"mse\",\"mse\"], loss_weights=[0.9,0.1])"
      ],
      "metadata": {
        "id": "164lg6s15gCv"
      },
      "execution_count": null,
      "outputs": []
    },
    {
      "cell_type": "code",
      "source": [
        "history = model.fit((x_train_A, x_train_B), (y_train,y_train), validation_data=((x_val_A,x_val_B), (y_val,y_val)), epochs=20)"
      ],
      "metadata": {
        "colab": {
          "base_uri": "https://localhost:8080/"
        },
        "id": "vqi7lk9X5owb",
        "outputId": "a4d60a56-c52c-449a-b60d-e3ae95aff677"
      },
      "execution_count": null,
      "outputs": [
        {
          "output_type": "stream",
          "name": "stdout",
          "text": [
            "Epoch 1/20\n",
            "363/363 [==============================] - 2s 3ms/step - loss: 0.9659 - output_1_loss: 0.8621 - output_2_loss: 1.8996 - val_loss: 0.8843 - val_output_1_loss: 0.8532 - val_output_2_loss: 1.1647\n",
            "Epoch 2/20\n",
            "363/363 [==============================] - 1s 3ms/step - loss: 0.5782 - output_1_loss: 0.5346 - output_2_loss: 0.9700 - val_loss: 0.7074 - val_output_1_loss: 0.6824 - val_output_2_loss: 0.9318\n",
            "Epoch 3/20\n",
            "363/363 [==============================] - 1s 2ms/step - loss: 0.4953 - output_1_loss: 0.4592 - output_2_loss: 0.8196 - val_loss: 0.4533 - val_output_1_loss: 0.4228 - val_output_2_loss: 0.7279\n",
            "Epoch 4/20\n",
            "363/363 [==============================] - 1s 2ms/step - loss: 0.4505 - output_1_loss: 0.4236 - output_2_loss: 0.6926 - val_loss: 0.4282 - val_output_1_loss: 0.4028 - val_output_2_loss: 0.6566\n",
            "Epoch 5/20\n",
            "363/363 [==============================] - 1s 2ms/step - loss: 0.4323 - output_1_loss: 0.4094 - output_2_loss: 0.6388 - val_loss: 0.4305 - val_output_1_loss: 0.4103 - val_output_2_loss: 0.6121\n",
            "Epoch 6/20\n",
            "363/363 [==============================] - 1s 2ms/step - loss: 0.4274 - output_1_loss: 0.4074 - output_2_loss: 0.6076 - val_loss: 0.4101 - val_output_1_loss: 0.3895 - val_output_2_loss: 0.5959\n",
            "Epoch 7/20\n",
            "363/363 [==============================] - 1s 2ms/step - loss: 0.4256 - output_1_loss: 0.4061 - output_2_loss: 0.6012 - val_loss: 0.5815 - val_output_1_loss: 0.5777 - val_output_2_loss: 0.6152\n",
            "Epoch 8/20\n",
            "363/363 [==============================] - 1s 2ms/step - loss: 0.4202 - output_1_loss: 0.4027 - output_2_loss: 0.5772 - val_loss: 0.4341 - val_output_1_loss: 0.4197 - val_output_2_loss: 0.5638\n",
            "Epoch 9/20\n",
            "363/363 [==============================] - 1s 2ms/step - loss: 0.4228 - output_1_loss: 0.4068 - output_2_loss: 0.5675 - val_loss: 0.4856 - val_output_1_loss: 0.4777 - val_output_2_loss: 0.5566\n",
            "Epoch 10/20\n",
            "363/363 [==============================] - 1s 2ms/step - loss: 0.4281 - output_1_loss: 0.4121 - output_2_loss: 0.5724 - val_loss: 0.4451 - val_output_1_loss: 0.4075 - val_output_2_loss: 0.7835\n",
            "Epoch 11/20\n",
            "363/363 [==============================] - 1s 2ms/step - loss: 0.4031 - output_1_loss: 0.3861 - output_2_loss: 0.5560 - val_loss: 0.4286 - val_output_1_loss: 0.4108 - val_output_2_loss: 0.5889\n",
            "Epoch 12/20\n",
            "363/363 [==============================] - 1s 2ms/step - loss: 0.3994 - output_1_loss: 0.3830 - output_2_loss: 0.5461 - val_loss: 0.3907 - val_output_1_loss: 0.3732 - val_output_2_loss: 0.5487\n",
            "Epoch 13/20\n",
            "363/363 [==============================] - 1s 2ms/step - loss: 0.3952 - output_1_loss: 0.3797 - output_2_loss: 0.5341 - val_loss: 0.3989 - val_output_1_loss: 0.3847 - val_output_2_loss: 0.5271\n",
            "Epoch 14/20\n",
            "363/363 [==============================] - 1s 2ms/step - loss: 0.3945 - output_1_loss: 0.3799 - output_2_loss: 0.5265 - val_loss: 0.3716 - val_output_1_loss: 0.3556 - val_output_2_loss: 0.5157\n",
            "Epoch 15/20\n",
            "363/363 [==============================] - 1s 2ms/step - loss: 0.3866 - output_1_loss: 0.3715 - output_2_loss: 0.5232 - val_loss: 0.3660 - val_output_1_loss: 0.3498 - val_output_2_loss: 0.5114\n",
            "Epoch 16/20\n",
            "363/363 [==============================] - 1s 2ms/step - loss: 0.3939 - output_1_loss: 0.3801 - output_2_loss: 0.5180 - val_loss: 0.3664 - val_output_1_loss: 0.3505 - val_output_2_loss: 0.5091\n",
            "Epoch 17/20\n",
            "363/363 [==============================] - 1s 3ms/step - loss: 0.3808 - output_1_loss: 0.3669 - output_2_loss: 0.5061 - val_loss: 0.3607 - val_output_1_loss: 0.3457 - val_output_2_loss: 0.4951\n",
            "Epoch 18/20\n",
            "363/363 [==============================] - 1s 2ms/step - loss: 0.3801 - output_1_loss: 0.3668 - output_2_loss: 0.4998 - val_loss: 0.3716 - val_output_1_loss: 0.3579 - val_output_2_loss: 0.4953\n",
            "Epoch 19/20\n",
            "363/363 [==============================] - 1s 2ms/step - loss: 0.3793 - output_1_loss: 0.3641 - output_2_loss: 0.5156 - val_loss: 0.3639 - val_output_1_loss: 0.3491 - val_output_2_loss: 0.4966\n",
            "Epoch 20/20\n",
            "363/363 [==============================] - 1s 2ms/step - loss: 0.3731 - output_1_loss: 0.3599 - output_2_loss: 0.4919 - val_loss: 0.3537 - val_output_1_loss: 0.3399 - val_output_2_loss: 0.4776\n"
          ]
        }
      ]
    },
    {
      "cell_type": "code",
      "source": [
        "import matplotlib.pyplot as plt\n",
        "import pandas as pd"
      ],
      "metadata": {
        "id": "4u2TBnRY5sFs"
      },
      "execution_count": null,
      "outputs": []
    },
    {
      "cell_type": "code",
      "source": [
        "df = pd.DataFrame(history.history)\n",
        "df.plot(figsize = (8,5))\n",
        "plt.show()"
      ],
      "metadata": {
        "colab": {
          "base_uri": "https://localhost:8080/",
          "height": 320
        },
        "id": "mIFhSQcT6G33",
        "outputId": "b27c21ad-88bd-45c2-b398-f056a6499f0a"
      },
      "execution_count": null,
      "outputs": [
        {
          "output_type": "display_data",
          "data": {
            "image/png": "[encoded data removed]",
            "text/plain": [
              "<Figure size 576x360 with 1 Axes>"
            ]
          },
          "metadata": {
            "needs_background": "light"
          }
        }
      ]
    },
    {
      "cell_type": "code",
      "source": [
        ""
      ],
      "metadata": {
        "id": "QC4mj-mD6IGs"
      },
      "execution_count": null,
      "outputs": []
    }
  ]
}