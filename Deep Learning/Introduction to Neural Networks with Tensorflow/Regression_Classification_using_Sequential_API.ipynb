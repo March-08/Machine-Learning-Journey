{
  "nbformat": 4,
  "nbformat_minor": 0,
  "metadata": {
    "colab": {
      "name": "Regression/Classification using Sequential API.ipynb",
      "provenance": []
    },
    "kernelspec": {
      "name": "python3",
      "display_name": "Python 3"
    },
    "language_info": {
      "name": "python"
    }
  },
  "cells": [
    {
      "cell_type": "markdown",
      "source": [
        "#Classification MLP using the **Sequential API**"
      ],
      "metadata": {
        "id": "jnHZVmTqOkU_"
      }
    },
    {
      "cell_type": "code",
      "execution_count": 1,
      "metadata": {
        "id": "zjboHoY8qTDk"
      },
      "outputs": [],
      "source": [
        "import tensorflow as tf\n",
        "from tensorflow.keras import datasets"
      ]
    },
    {
      "cell_type": "markdown",
      "source": [
        "###Download Data"
      ],
      "metadata": {
        "id": "G4mx2FG9qt5f"
      }
    },
    {
      "cell_type": "code",
      "source": [
        "fashion_mnist = datasets.fashion_mnist\n",
        "(x_train_full, y_train_full), (x_test, y_test) = fashion_mnist.load_data()"
      ],
      "metadata": {
        "colab": {
          "base_uri": "https://localhost:8080/"
        },
        "id": "OluqQrUlqaJa",
        "outputId": "12448c18-cd9d-48f7-e9a2-1de9f3a0d9b3"
      },
      "execution_count": 2,
      "outputs": [
        {
          "output_type": "stream",
          "name": "stdout",
          "text": [
            "Downloading data from https://storage.googleapis.com/tensorflow/tf-keras-datasets/train-labels-idx1-ubyte.gz\n",
            "32768/29515 [=================================] - 0s 0us/step\n",
            "40960/29515 [=========================================] - 0s 0us/step\n",
            "Downloading data from https://storage.googleapis.com/tensorflow/tf-keras-datasets/train-images-idx3-ubyte.gz\n",
            "26427392/26421880 [==============================] - 0s 0us/step\n",
            "26435584/26421880 [==============================] - 0s 0us/step\n",
            "Downloading data from https://storage.googleapis.com/tensorflow/tf-keras-datasets/t10k-labels-idx1-ubyte.gz\n",
            "16384/5148 [===============================================================================================] - 0s 0us/step\n",
            "Downloading data from https://storage.googleapis.com/tensorflow/tf-keras-datasets/t10k-images-idx3-ubyte.gz\n",
            "4423680/4422102 [==============================] - 0s 0us/step\n",
            "4431872/4422102 [==============================] - 0s 0us/step\n"
          ]
        }
      ]
    },
    {
      "cell_type": "code",
      "source": [
        "x_train_full.shape, x_test.shape"
      ],
      "metadata": {
        "colab": {
          "base_uri": "https://localhost:8080/"
        },
        "id": "9BJ4J1ejqiLq",
        "outputId": "daa701cd-c611-4d18-ed96-bb688d7998bf"
      },
      "execution_count": 3,
      "outputs": [
        {
          "output_type": "execute_result",
          "data": {
            "text/plain": [
              "((60000, 28, 28), (10000, 28, 28))"
            ]
          },
          "metadata": {},
          "execution_count": 3
        }
      ]
    },
    {
      "cell_type": "markdown",
      "source": [
        "The difference of dowloading the dataset using tensorflow instead of scikit learn is that the image are rapresented as a 28x28 matric instead of a 1D vector, and the pixel intensities are integer instead of floats."
      ],
      "metadata": {
        "id": "UySzJZ1eq7YH"
      }
    },
    {
      "cell_type": "markdown",
      "source": [
        "###Create a validation set\n",
        "also rescale the features and convert to floats"
      ],
      "metadata": {
        "id": "8A-gakLPrQ4h"
      }
    },
    {
      "cell_type": "code",
      "source": [
        "x_val, x_train = x_train_full[:5_000]/255., x_train_full[5_000:]/255. \n",
        "y_val, y_train = y_train_full[:5_000], y_train_full[5_000:]"
      ],
      "metadata": {
        "id": "ev27G4Xiq2FU"
      },
      "execution_count": 4,
      "outputs": []
    },
    {
      "cell_type": "markdown",
      "source": [
        "We need the list of classes to know what we are dealing with"
      ],
      "metadata": {
        "id": "3PWQLLB2sAm-"
      }
    },
    {
      "cell_type": "code",
      "source": [
        "class_names = [\"T-shirt\",\"Trousers\",\"Pullover\",\"Dress\",\"Coat\",\"Sandal\",\"Shirt\",\"Sneaker\",\"Bg\",\"Ankle boot\"]"
      ],
      "metadata": {
        "id": "yBxQRYz3rl5O"
      },
      "execution_count": 5,
      "outputs": []
    },
    {
      "cell_type": "code",
      "source": [
        "import matplotlib.pyplot as plt"
      ],
      "metadata": {
        "id": "HHVUihAHsaqL"
      },
      "execution_count": 6,
      "outputs": []
    },
    {
      "cell_type": "code",
      "source": [
        "plt.imshow(x_train[0], cmap = \"gray\")\n",
        "class_names[y_train[0]]"
      ],
      "metadata": {
        "colab": {
          "base_uri": "https://localhost:8080/",
          "height": 283
        },
        "id": "CuZdM4SPskuS",
        "outputId": "4bf2da20-3c33-40ed-952d-bd530fb39bb8"
      },
      "execution_count": 7,
      "outputs": [
        {
          "output_type": "execute_result",
          "data": {
            "application/vnd.google.colaboratory.intrinsic+json": {
              "type": "string"
            },
            "text/plain": [
              "'Coat'"
            ]
          },
          "metadata": {},
          "execution_count": 7
        },
        {
          "output_type": "display_data",
          "data": {
            "image/png": "[encoded data removed]",
            "text/plain": [
              "<Figure size 432x288 with 1 Axes>"
            ]
          },
          "metadata": {
            "needs_background": "light"
          }
        }
      ]
    },
    {
      "cell_type": "markdown",
      "source": [
        "##Create the model using Sequential API"
      ],
      "metadata": {
        "id": "nMUuT736suov"
      }
    },
    {
      "cell_type": "code",
      "source": [
        "from tensorflow.keras import Sequential\n",
        "from tensorflow.keras.layers import Dense, Flatten,InputLayer"
      ],
      "metadata": {
        "id": "bIjvRN2EsojS"
      },
      "execution_count": 8,
      "outputs": []
    },
    {
      "cell_type": "code",
      "source": [
        "model = Sequential([\n",
        "  Flatten(input_shape = [28,28]),\n",
        "  Dense(units=300, activation=\"relu\", name = \"dense_1\"),\n",
        "  Dense(units=100, activation=\"relu\"),\n",
        "  Dense(units=10, activation=\"softmax\"),\n",
        "])"
      ],
      "metadata": {
        "id": "xjJI0RL4s5rk"
      },
      "execution_count": 10,
      "outputs": []
    },
    {
      "cell_type": "markdown",
      "source": [
        "Flatten is used as a sort of \"preprocessing\" step to convert 2D data into 1D.\n",
        "Softmax let us interpret the output as a probability distribution over the 10 classes."
      ],
      "metadata": {
        "id": "U3wJO8fwOAQr"
      }
    },
    {
      "cell_type": "code",
      "source": [
        "model.summary()"
      ],
      "metadata": {
        "colab": {
          "base_uri": "https://localhost:8080/"
        },
        "id": "OuwM3h1LtEzn",
        "outputId": "24bbb1f2-2763-4db9-a43a-70481b6da96d"
      },
      "execution_count": 11,
      "outputs": [
        {
          "output_type": "stream",
          "name": "stdout",
          "text": [
            "Model: \"sequential_1\"\n",
            "_________________________________________________________________\n",
            " Layer (type)                Output Shape              Param #   \n",
            "=================================================================\n",
            " flatten_1 (Flatten)         (None, 784)               0         \n",
            "                                                                 \n",
            " dense_1 (Dense)             (None, 300)               235500    \n",
            "                                                                 \n",
            " dense_2 (Dense)             (None, 100)               30100     \n",
            "                                                                 \n",
            " dense_3 (Dense)             (None, 10)                1010      \n",
            "                                                                 \n",
            "=================================================================\n",
            "Total params: 266,610\n",
            "Trainable params: 266,610\n",
            "Non-trainable params: 0\n",
            "_________________________________________________________________\n"
          ]
        }
      ]
    },
    {
      "cell_type": "markdown",
      "source": [
        "Access layers"
      ],
      "metadata": {
        "id": "p0ZKqQDWuKz6"
      }
    },
    {
      "cell_type": "code",
      "source": [
        "model.layers"
      ],
      "metadata": {
        "colab": {
          "base_uri": "https://localhost:8080/"
        },
        "id": "nG6VnzTNuCaK",
        "outputId": "f518a84a-c7b4-4450-cdc1-ec726d015563"
      },
      "execution_count": 12,
      "outputs": [
        {
          "output_type": "execute_result",
          "data": {
            "text/plain": [
              "[<keras.layers.core.flatten.Flatten at 0x7f0ed800c450>,\n",
              " <keras.layers.core.dense.Dense at 0x7f0ed800c5d0>,\n",
              " <keras.layers.core.dense.Dense at 0x7f0edb9abe90>,\n",
              " <keras.layers.core.dense.Dense at 0x7f0edc641d10>]"
            ]
          },
          "metadata": {},
          "execution_count": 12
        }
      ]
    },
    {
      "cell_type": "code",
      "source": [
        "model.get_layer(\"dense_1\").name"
      ],
      "metadata": {
        "colab": {
          "base_uri": "https://localhost:8080/",
          "height": 35
        },
        "id": "8fQTI9HxuNtQ",
        "outputId": "0a23a18b-8f9d-4a9b-fb53-9df38e61896f"
      },
      "execution_count": 13,
      "outputs": [
        {
          "output_type": "execute_result",
          "data": {
            "application/vnd.google.colaboratory.intrinsic+json": {
              "type": "string"
            },
            "text/plain": [
              "'dense_1'"
            ]
          },
          "metadata": {},
          "execution_count": 13
        }
      ]
    },
    {
      "cell_type": "markdown",
      "source": [
        "Get parameters from a layer"
      ],
      "metadata": {
        "id": "YJ_7fNLwujLm"
      }
    },
    {
      "cell_type": "code",
      "source": [
        "weights, bias = model.layers[1].get_weights()\n",
        "\n",
        "weights.shape, bias.shape"
      ],
      "metadata": {
        "colab": {
          "base_uri": "https://localhost:8080/"
        },
        "id": "YL6KgOl2uS-i",
        "outputId": "da5b2b2e-1cab-4a03-9516-8211070e7363"
      },
      "execution_count": 14,
      "outputs": [
        {
          "output_type": "execute_result",
          "data": {
            "text/plain": [
              "((784, 300), (300,))"
            ]
          },
          "metadata": {},
          "execution_count": 14
        }
      ]
    },
    {
      "cell_type": "markdown",
      "source": [
        "##Compiling the model"
      ],
      "metadata": {
        "id": "tArw59zNus9R"
      }
    },
    {
      "cell_type": "code",
      "source": [
        "model.compile(optimizer = \"sgd\", loss = \"sparse_categorical_crossentropy\", metrics = [\"accuracy\"])"
      ],
      "metadata": {
        "id": "5erbe98PugBM"
      },
      "execution_count": 15,
      "outputs": []
    },
    {
      "cell_type": "markdown",
      "source": [
        "We can use categorical_crossentropy if we use one-hot target ecnoding"
      ],
      "metadata": {
        "id": "rKZUW9bSu8gP"
      }
    },
    {
      "cell_type": "code",
      "source": [
        "from tensorflow import keras "
      ],
      "metadata": {
        "id": "m9gvU8lEvMzf"
      },
      "execution_count": 16,
      "outputs": []
    },
    {
      "cell_type": "code",
      "source": [
        "y_test = keras.utils.to_categorical(y_test)\n",
        "y_val = keras.utils.to_categorical(y_val)\n",
        "y_train = keras.utils.to_categorical(y_train) "
      ],
      "metadata": {
        "id": "H0OBJg8Zu5d2"
      },
      "execution_count": 17,
      "outputs": []
    },
    {
      "cell_type": "code",
      "source": [
        "model.compile(optimizer = \"sgd\", loss = \"categorical_crossentropy\", metrics = [\"accuracy\"])"
      ],
      "metadata": {
        "id": "h4Co2UlyvQsF"
      },
      "execution_count": 18,
      "outputs": []
    },
    {
      "cell_type": "code",
      "source": [
        "history = model.fit(x_train,y_train, validation_data= (x_val,y_val), epochs=10)"
      ],
      "metadata": {
        "colab": {
          "base_uri": "https://localhost:8080/"
        },
        "id": "Qrq4g16MvgKn",
        "outputId": "9298240c-6010-4087-b3f0-d1a2852d41ef"
      },
      "execution_count": 19,
      "outputs": [
        {
          "output_type": "stream",
          "name": "stdout",
          "text": [
            "Epoch 1/10\n",
            "1719/1719 [==============================] - 7s 4ms/step - loss: 0.7164 - accuracy: 0.7702 - val_loss: 0.5430 - val_accuracy: 0.8058\n",
            "Epoch 2/10\n",
            "1719/1719 [==============================] - 6s 3ms/step - loss: 0.4881 - accuracy: 0.8304 - val_loss: 0.4433 - val_accuracy: 0.8542\n",
            "Epoch 3/10\n",
            "1719/1719 [==============================] - 6s 3ms/step - loss: 0.4457 - accuracy: 0.8438 - val_loss: 0.4229 - val_accuracy: 0.8550\n",
            "Epoch 4/10\n",
            "1719/1719 [==============================] - 6s 3ms/step - loss: 0.4185 - accuracy: 0.8551 - val_loss: 0.4043 - val_accuracy: 0.8620\n",
            "Epoch 5/10\n",
            "1719/1719 [==============================] - 6s 3ms/step - loss: 0.3975 - accuracy: 0.8591 - val_loss: 0.3885 - val_accuracy: 0.8608\n",
            "Epoch 6/10\n",
            "1719/1719 [==============================] - 6s 3ms/step - loss: 0.3821 - accuracy: 0.8653 - val_loss: 0.3778 - val_accuracy: 0.8686\n",
            "Epoch 7/10\n",
            "1719/1719 [==============================] - 6s 3ms/step - loss: 0.3680 - accuracy: 0.8700 - val_loss: 0.3755 - val_accuracy: 0.8678\n",
            "Epoch 8/10\n",
            "1719/1719 [==============================] - 6s 3ms/step - loss: 0.3554 - accuracy: 0.8743 - val_loss: 0.3876 - val_accuracy: 0.8596\n",
            "Epoch 9/10\n",
            "1719/1719 [==============================] - 6s 3ms/step - loss: 0.3459 - accuracy: 0.8771 - val_loss: 0.3492 - val_accuracy: 0.8760\n",
            "Epoch 10/10\n",
            "1719/1719 [==============================] - 6s 3ms/step - loss: 0.3354 - accuracy: 0.8795 - val_loss: 0.3461 - val_accuracy: 0.8754\n"
          ]
        }
      ]
    },
    {
      "cell_type": "markdown",
      "source": [
        "##Let's plot learning curves"
      ],
      "metadata": {
        "id": "fZhnPdqRwB3U"
      }
    },
    {
      "cell_type": "code",
      "source": [
        "import pandas as pd"
      ],
      "metadata": {
        "id": "U98wB9bgvpFt"
      },
      "execution_count": 20,
      "outputs": []
    },
    {
      "cell_type": "code",
      "source": [
        "pd.DataFrame(history.history).plot(figsize= (8,5))\n",
        "plt.grid(True)\n",
        "plt.gca().set_ylim(0,1)\n",
        "plt.show()"
      ],
      "metadata": {
        "colab": {
          "base_uri": "https://localhost:8080/",
          "height": 324
        },
        "id": "fw6hMtYmvuvK",
        "outputId": "acff71b2-0250-4019-ac2f-8c9831a9d233"
      },
      "execution_count": 21,
      "outputs": [
        {
          "output_type": "display_data",
          "data": {
            "image/png": "[encoded data removed]",
            "text/plain": [
              "<Figure size 576x360 with 1 Axes>"
            ]
          },
          "metadata": {
            "needs_background": "light"
          }
        }
      ]
    },
    {
      "cell_type": "markdown",
      "source": [
        "##Make predictions"
      ],
      "metadata": {
        "id": "x57urzAUwiVy"
      }
    },
    {
      "cell_type": "code",
      "source": [
        "import numpy as np"
      ],
      "metadata": {
        "id": "z2De75hIN6qw"
      },
      "execution_count": 23,
      "outputs": []
    },
    {
      "cell_type": "code",
      "source": [
        "x_new = x_test[:3]\n",
        "y_new = y_test[:3]\n",
        "y_new = [np.argmax(instance) for instance in y_new]"
      ],
      "metadata": {
        "id": "NUZwgHQfv_0Q"
      },
      "execution_count": 24,
      "outputs": []
    },
    {
      "cell_type": "code",
      "source": [
        "y_pred = model.predict(x_new)\n",
        "y_pred = [np.argmax(instance) for instance in y_pred]"
      ],
      "metadata": {
        "id": "JrZiW5ROwqAN"
      },
      "execution_count": 25,
      "outputs": []
    },
    {
      "cell_type": "markdown",
      "source": [
        "Check if predictions of new instances are equal to the correct labels."
      ],
      "metadata": {
        "id": "D8dV5I8FNLzX"
      }
    },
    {
      "cell_type": "code",
      "source": [
        "[class_names[i] for i in y_pred]"
      ],
      "metadata": {
        "colab": {
          "base_uri": "https://localhost:8080/"
        },
        "id": "Xj35p_uywswu",
        "outputId": "716cc80b-b527-42c5-8091-2d47655a1d32"
      },
      "execution_count": 26,
      "outputs": [
        {
          "output_type": "execute_result",
          "data": {
            "text/plain": [
              "['Ankle boot', 'Pullover', 'Trousers']"
            ]
          },
          "metadata": {},
          "execution_count": 26
        }
      ]
    },
    {
      "cell_type": "code",
      "source": [
        "[class_names[i] for i in y_new]"
      ],
      "metadata": {
        "colab": {
          "base_uri": "https://localhost:8080/"
        },
        "id": "_AuKKUVIw7ol",
        "outputId": "4bf8ee39-c38a-49e6-a7cb-602fddaa09d0"
      },
      "execution_count": 27,
      "outputs": [
        {
          "output_type": "execute_result",
          "data": {
            "text/plain": [
              "['Ankle boot', 'Pullover', 'Trousers']"
            ]
          },
          "metadata": {},
          "execution_count": 27
        }
      ]
    },
    {
      "cell_type": "markdown",
      "source": [
        "#Regression MLP using the **Sequential API**"
      ],
      "metadata": {
        "id": "B5QvIPRCOqph"
      }
    },
    {
      "cell_type": "markdown",
      "source": [
        "We are going to use the california housing dataset from scikit learn, since it is simple to deal with, in fact it only contains numerical features and no missing values."
      ],
      "metadata": {
        "id": "Ts1M8R2ROtDW"
      }
    },
    {
      "cell_type": "code",
      "source": [
        "from sklearn.datasets import fetch_california_housing\n",
        "from sklearn.model_selection import train_test_split\n",
        "from sklearn.preprocessing import StandardScaler"
      ],
      "metadata": {
        "id": "T2KuP4P7xJIO"
      },
      "execution_count": 33,
      "outputs": []
    },
    {
      "cell_type": "markdown",
      "source": [
        "###Download the dataset"
      ],
      "metadata": {
        "id": "FnMw6c7yPLR9"
      }
    },
    {
      "cell_type": "code",
      "source": [
        "california_housing = fetch_california_housing()\n",
        "scaler = StandardScaler()"
      ],
      "metadata": {
        "id": "p5dNV_62O-_2"
      },
      "execution_count": 38,
      "outputs": []
    },
    {
      "cell_type": "code",
      "source": [
        "x_train_full, x_test, y_train_full, y_test = train_test_split(california_housing[\"data\"],california_housing[\"target\"])"
      ],
      "metadata": {
        "id": "nZHBwiSHPIuO"
      },
      "execution_count": 48,
      "outputs": []
    },
    {
      "cell_type": "markdown",
      "source": [
        "  Let's create a validation set"
      ],
      "metadata": {
        "id": "auhZb24TPtCH"
      }
    },
    {
      "cell_type": "code",
      "source": [
        "x_train, x_val, y_train, y_val = train_test_split(x_train_full,y_train_full)"
      ],
      "metadata": {
        "id": "N4iLhGOFPiua"
      },
      "execution_count": 49,
      "outputs": []
    },
    {
      "cell_type": "markdown",
      "source": [
        "###Standardization"
      ],
      "metadata": {
        "id": "NYjBXSLTQlrc"
      }
    },
    {
      "cell_type": "code",
      "source": [
        "x_train = scaler.fit_transform(x_train)\n",
        "x_val = scaler.transform(x_val)\n",
        "x_test = scaler.transform(x_test)"
      ],
      "metadata": {
        "id": "6rSsgGRhPjTy"
      },
      "execution_count": 50,
      "outputs": []
    },
    {
      "cell_type": "markdown",
      "source": [
        "Since we want to predict a single real value, we should have a single neuron in output with no activation fucntion, so it is allowed to output any number without costraints.\n",
        "We use less neurons and layers than before because the dataset is quite noisy, and we risk to overfitt"
      ],
      "metadata": {
        "id": "-79VN2LHQ0UL"
      }
    },
    {
      "cell_type": "code",
      "source": [
        "model = Sequential([\n",
        "  Dense(units = 30, activation= \"relu\", input_shape = x_train.shape[1:]),\n",
        "  Dense(1)\n",
        "])"
      ],
      "metadata": {
        "id": "bBENu9brQDGm"
      },
      "execution_count": 73,
      "outputs": []
    },
    {
      "cell_type": "code",
      "source": [
        "model.compile(loss = \"mean_squared_error\", optimizer = \"sgd\")"
      ],
      "metadata": {
        "id": "QoLv-RF8RlD6"
      },
      "execution_count": 74,
      "outputs": []
    },
    {
      "cell_type": "code",
      "source": [
        "history = model.fit(x_train,y_train, validation_data = (x_val,y_val),epochs = 10)"
      ],
      "metadata": {
        "colab": {
          "base_uri": "https://localhost:8080/"
        },
        "id": "yuheGuUkRrXT",
        "outputId": "ce506520-1926-4c01-b5c1-8e1bbd81f389"
      },
      "execution_count": 82,
      "outputs": [
        {
          "output_type": "stream",
          "name": "stdout",
          "text": [
            "Epoch 1/10\n",
            "363/363 [==============================] - 1s 2ms/step - loss: 0.4050 - val_loss: 0.3928\n",
            "Epoch 2/10\n",
            "363/363 [==============================] - 1s 2ms/step - loss: 0.4066 - val_loss: 0.3938\n",
            "Epoch 3/10\n",
            "363/363 [==============================] - 1s 2ms/step - loss: 0.3986 - val_loss: 0.3906\n",
            "Epoch 4/10\n",
            "363/363 [==============================] - 1s 2ms/step - loss: 0.3949 - val_loss: 0.3817\n",
            "Epoch 5/10\n",
            "363/363 [==============================] - 1s 2ms/step - loss: 0.3923 - val_loss: 0.3805\n",
            "Epoch 6/10\n",
            "363/363 [==============================] - 1s 2ms/step - loss: 0.5197 - val_loss: 0.5037\n",
            "Epoch 7/10\n",
            "363/363 [==============================] - 1s 2ms/step - loss: 0.5212 - val_loss: 0.4211\n",
            "Epoch 8/10\n",
            "363/363 [==============================] - 1s 2ms/step - loss: 0.4148 - val_loss: 0.4033\n",
            "Epoch 9/10\n",
            "363/363 [==============================] - 1s 2ms/step - loss: 0.4015 - val_loss: 0.3919\n",
            "Epoch 10/10\n",
            "363/363 [==============================] - 1s 2ms/step - loss: 0.3951 - val_loss: 0.3906\n"
          ]
        }
      ]
    },
    {
      "cell_type": "code",
      "source": [
        "df = pd.DataFrame(history.history)\n",
        "df.plot(figsize = (8,5))"
      ],
      "metadata": {
        "colab": {
          "base_uri": "https://localhost:8080/",
          "height": 337
        },
        "id": "Md6jTMi7SOPh",
        "outputId": "034bb232-c589-41c4-f008-b5d9b4f25008"
      },
      "execution_count": 77,
      "outputs": [
        {
          "output_type": "execute_result",
          "data": {
            "text/plain": [
              "<matplotlib.axes._subplots.AxesSubplot at 0x7f0ed5635310>"
            ]
          },
          "metadata": {},
          "execution_count": 77
        },
        {
          "output_type": "display_data",
          "data": {
            "image/png": "[encoded data removed]",
            "text/plain": [
              "<Figure size 576x360 with 1 Axes>"
            ]
          },
          "metadata": {
            "needs_background": "light"
          }
        }
      ]
    },
    {
      "cell_type": "markdown",
      "source": [
        "##Evaluation on test set"
      ],
      "metadata": {
        "id": "yk_ZXe_wScj8"
      }
    },
    {
      "cell_type": "code",
      "source": [
        "mse_test = model.evaluate(x_test,y_test)\n",
        "mse_test"
      ],
      "metadata": {
        "colab": {
          "base_uri": "https://localhost:8080/"
        },
        "id": "-0ApfO-FRJAm",
        "outputId": "7b2ff7a5-ebc4-4cd4-a54b-149c05fdd66c"
      },
      "execution_count": 83,
      "outputs": [
        {
          "output_type": "stream",
          "name": "stdout",
          "text": [
            "162/162 [==============================] - 0s 1ms/step - loss: 0.3876\n"
          ]
        },
        {
          "output_type": "execute_result",
          "data": {
            "text/plain": [
              "0.3876430094242096"
            ]
          },
          "metadata": {},
          "execution_count": 83
        }
      ]
    },
    {
      "cell_type": "code",
      "source": [
        "x_new = x_test[:3]\n",
        "model.predict(x_new)"
      ],
      "metadata": {
        "colab": {
          "base_uri": "https://localhost:8080/"
        },
        "id": "V4LhcHnmRJTZ",
        "outputId": "734189af-34f7-4b96-8e1e-a4d9afbe4f60"
      },
      "execution_count": 84,
      "outputs": [
        {
          "output_type": "execute_result",
          "data": {
            "text/plain": [
              "array([[0.68018824],\n",
              "       [1.7720973 ],\n",
              "       [1.3286722 ]], dtype=float32)"
            ]
          },
          "metadata": {},
          "execution_count": 84
        }
      ]
    },
    {
      "cell_type": "code",
      "source": [
        "y_new = y_test[:3]\n",
        "y_new"
      ],
      "metadata": {
        "colab": {
          "base_uri": "https://localhost:8080/"
        },
        "id": "9e0Xq_5ZSx96",
        "outputId": "1b84f9d2-8a6f-4a6e-c338-e2225bbb9d87"
      },
      "execution_count": 85,
      "outputs": [
        {
          "output_type": "execute_result",
          "data": {
            "text/plain": [
              "array([0.735, 2.188, 1.411])"
            ]
          },
          "metadata": {},
          "execution_count": 85
        }
      ]
    },
    {
      "cell_type": "code",
      "source": [
        ""
      ],
      "metadata": {
        "id": "YmIn1w0YS2si"
      },
      "execution_count": 85,
      "outputs": []
    }
  ]
}