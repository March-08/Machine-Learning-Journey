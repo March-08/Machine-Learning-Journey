{
  "nbformat": 4,
  "nbformat_minor": 0,
  "metadata": {
    "colab": {
      "name": "GradientTape.ipynb",
      "provenance": []
    },
    "kernelspec": {
      "name": "python3",
      "display_name": "Python 3"
    },
    "language_info": {
      "name": "python"
    }
  },
  "cells": [
    {
      "cell_type": "code",
      "execution_count": 1,
      "metadata": {
        "id": "FjTqya9B0FJC"
      },
      "outputs": [],
      "source": [
        "import tensorflow as tf"
      ]
    },
    {
      "cell_type": "code",
      "source": [
        "x = tf.Variable(initial_value= [1, 2, 3], trainable= True, dtype = tf.float32)\n",
        "y = tf.convert_to_tensor([4,5,6], dtype = tf.float32)"
      ],
      "metadata": {
        "id": "-TRLscVn-tBn"
      },
      "execution_count": 2,
      "outputs": []
    },
    {
      "cell_type": "code",
      "source": [
        "z = tf.reduce_sum((x*x + x*y)**2)"
      ],
      "metadata": {
        "id": "5zbgD0qP_G0H"
      },
      "execution_count": 5,
      "outputs": []
    },
    {
      "cell_type": "code",
      "source": [
        "z"
      ],
      "metadata": {
        "colab": {
          "base_uri": "https://localhost:8080/"
        },
        "id": "ZtwsU2zZ_P7G",
        "outputId": "e2123661-42e8-4575-9400-2420ced304e6"
      },
      "execution_count": 6,
      "outputs": [
        {
          "output_type": "execute_result",
          "data": {
            "text/plain": [
              "<tf.Tensor: shape=(), dtype=float32, numpy=950.0>"
            ]
          },
          "metadata": {},
          "execution_count": 6
        }
      ]
    },
    {
      "cell_type": "markdown",
      "source": [
        "How to get the derivatives of z wrt x and y?\n",
        "The GradientTape creates the computational graph in order to go backward then compute the gradient"
      ],
      "metadata": {
        "id": "PrBm9aTi_ZYQ"
      }
    },
    {
      "cell_type": "code",
      "source": [
        "#i can use the tape only one time without persistent = true\n",
        "with tf.GradientTape(persistent= True) as tape:\n",
        "  #everything here is recorder by the gradient tape, so we can then get the gradient\n",
        "  z = tf.reduce_sum((x*x + x*y)**2)"
      ],
      "metadata": {
        "id": "GuIbIdnF_QRo"
      },
      "execution_count": 12,
      "outputs": []
    },
    {
      "cell_type": "code",
      "source": [
        "#partial derivative wrt to x (x1,x2, x3)\n",
        "tape.gradient(z,x)"
      ],
      "metadata": {
        "colab": {
          "base_uri": "https://localhost:8080/"
        },
        "id": "VFQ8mkWS_3qD",
        "outputId": "4c83c1b2-3bd9-4e6e-f09f-3392b9cc39ce"
      },
      "execution_count": 9,
      "outputs": [
        {
          "output_type": "execute_result",
          "data": {
            "text/plain": [
              "<tf.Tensor: shape=(3,), dtype=float32, numpy=array([ 60., 252., 648.], dtype=float32)>"
            ]
          },
          "metadata": {},
          "execution_count": 9
        }
      ]
    },
    {
      "cell_type": "code",
      "source": [
        "#doesnt work because y is not a variable, is a tensor\n",
        "tape.gradient(z,[x,y])"
      ],
      "metadata": {
        "colab": {
          "base_uri": "https://localhost:8080/"
        },
        "id": "NeGDvE2RACGh",
        "outputId": "3556f604-fc08-4b6b-95ff-008d0cbd5749"
      },
      "execution_count": 13,
      "outputs": [
        {
          "output_type": "execute_result",
          "data": {
            "text/plain": [
              "[<tf.Tensor: shape=(3,), dtype=float32, numpy=array([ 60., 252., 648.], dtype=float32)>,\n",
              " None]"
            ]
          },
          "metadata": {},
          "execution_count": 13
        }
      ]
    },
    {
      "cell_type": "code",
      "source": [
        "#in order to consider also the tensors (non trainable variables) I shopuld use watch()\n",
        "with tf.GradientTape(persistent= True) as tape:\n",
        "  tape.watch(y)\n",
        "  z = tf.reduce_sum((x*x + x*y)**2)"
      ],
      "metadata": {
        "id": "N4ymdGR7AHMU"
      },
      "execution_count": 14,
      "outputs": []
    },
    {
      "cell_type": "code",
      "source": [
        "tape.gradient(z,[x,y])"
      ],
      "metadata": {
        "colab": {
          "base_uri": "https://localhost:8080/"
        },
        "id": "RHntvTtGAlmt",
        "outputId": "5b9cc7cc-c296-40c0-9fdb-eb73a2266f92"
      },
      "execution_count": 15,
      "outputs": [
        {
          "output_type": "execute_result",
          "data": {
            "text/plain": [
              "[<tf.Tensor: shape=(3,), dtype=float32, numpy=array([ 60., 252., 648.], dtype=float32)>,\n",
              " <tf.Tensor: shape=(3,), dtype=float32, numpy=array([ 10.,  56., 162.], dtype=float32)>]"
            ]
          },
          "metadata": {},
          "execution_count": 15
        }
      ]
    },
    {
      "cell_type": "markdown",
      "source": [
        "##Second derivative of z wrt x"
      ],
      "metadata": {
        "id": "B5EEVcUKB0cx"
      }
    },
    {
      "cell_type": "code",
      "source": [
        "#in order to consider also the tensors (non trainable variables) I shopuld use watch()\n",
        "with tf.GradientTape() as tape2:\n",
        "  with tf.GradientTape() as tape:\n",
        "    z = tf.reduce_sum((x*x + x*y)**2)\n",
        "  dx = tape.gradient(z,x)\n",
        "dx2 = tape2.gradient(dx, x)"
      ],
      "metadata": {
        "id": "V8QsGiF9Bh-j"
      },
      "execution_count": 17,
      "outputs": []
    },
    {
      "cell_type": "code",
      "source": [
        "dx2"
      ],
      "metadata": {
        "colab": {
          "base_uri": "https://localhost:8080/"
        },
        "id": "-vbYw2iZBlw-",
        "outputId": "448557a0-828d-45ea-8f3d-8785bf95ab44"
      },
      "execution_count": 18,
      "outputs": [
        {
          "output_type": "execute_result",
          "data": {
            "text/plain": [
              "<tf.Tensor: shape=(3,), dtype=float32, numpy=array([ 92., 218., 396.], dtype=float32)>"
            ]
          },
          "metadata": {},
          "execution_count": 18
        }
      ]
    },
    {
      "cell_type": "markdown",
      "source": [
        "####NB: in gradient tape, we should use always tf operations, and not np, otherwise tape is not able to record np objects, and doesnt create the computational graph"
      ],
      "metadata": {
        "id": "uCkCr_R8FSAF"
      }
    },
    {
      "cell_type": "code",
      "source": [
        ""
      ],
      "metadata": {
        "id": "RGVjXjAiFdS6"
      },
      "execution_count": null,
      "outputs": []
    }
  ]
}