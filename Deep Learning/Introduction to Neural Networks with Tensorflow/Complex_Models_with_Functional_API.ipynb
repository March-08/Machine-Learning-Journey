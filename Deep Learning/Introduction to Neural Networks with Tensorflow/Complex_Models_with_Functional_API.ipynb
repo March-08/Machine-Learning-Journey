{
  "nbformat": 4,
  "nbformat_minor": 0,
  "metadata": {
    "colab": {
      "name": "Complex Models with Functional API.ipynb",
      "provenance": []
    },
    "kernelspec": {
      "name": "python3",
      "display_name": "Python 3"
    },
    "language_info": {
      "name": "python"
    }
  },
  "cells": [
    {
      "cell_type": "code",
      "execution_count": 2,
      "metadata": {
        "id": "tDv0syY7NW82"
      },
      "outputs": [],
      "source": [
        "import tensorflow as tf\n",
        "from tensorflow import keras\n",
        "from sklearn import datasets\n",
        "from sklearn.preprocessing import StandardScaler\n",
        "from sklearn.model_selection import train_test_split"
      ]
    },
    {
      "cell_type": "markdown",
      "source": [
        "###Download the dataset"
      ],
      "metadata": {
        "id": "Ol61OkT5XkcG"
      }
    },
    {
      "cell_type": "code",
      "source": [
        "housing = datasets.fetch_california_housing()\n",
        "\n",
        "x_train_full, x_test, y_train_full, y_test = train_test_split(housing[\"data\"],housing[\"target\"])\n",
        "x_train, x_val, y_train, y_val = train_test_split(x_train_full,y_train_full)"
      ],
      "metadata": {
        "id": "Fu3j5n9kWzMj"
      },
      "execution_count": 29,
      "outputs": []
    },
    {
      "cell_type": "markdown",
      "source": [
        "###Scale data"
      ],
      "metadata": {
        "id": "o7WYOpH1XnJr"
      }
    },
    {
      "cell_type": "code",
      "source": [
        "scaler = StandardScaler()\n",
        "\n",
        "x_train = scaler.fit_transform(x_train)\n",
        "x_val = scaler.transform(x_val)\n",
        "x_test = scaler.transform(x_test)"
      ],
      "metadata": {
        "id": "8V8DhRlnXWvA"
      },
      "execution_count": 30,
      "outputs": []
    },
    {
      "cell_type": "markdown",
      "source": [
        "Sometimes it happens to create more complex structures, this is why functional APIs are important. An example o such network is \"Wide & Deep\" neural network published in 2016 from heng-tze Cheng.\n",
        "Suppose we want that the input is connected directly to the output layer, but also that it is processed by the hidden layers, so the network can learn both the deep features and also the most simple one, like in the following picture."
      ],
      "metadata": {
        "id": "HYdehhA6Xy-G"
      }
    },
    {
      "cell_type": "markdown",
      "source": [
        "![](https://www.researchgate.net/profile/Kaveh-Bastani/publication/328161216/figure/fig3/AS:679665219928064@1539056224036/Illustration-of-the-wide-and-deep-model-which-is-an-integration-of-wide-component-and.ppm)"
      ],
      "metadata": {
        "id": "4s7rodlYYokl"
      }
    },
    {
      "cell_type": "markdown",
      "source": [
        "nb: the inpute object is needed because later we might want multiple inputs"
      ],
      "metadata": {
        "id": "F1UU9ILOY829"
      }
    },
    {
      "cell_type": "code",
      "source": [
        "from keras.layers import Input, Dense, Concatenate"
      ],
      "metadata": {
        "id": "PYApF3PNYv8n"
      },
      "execution_count": 8,
      "outputs": []
    },
    {
      "cell_type": "code",
      "source": [
        "input = Input(shape = x_train.shape[1:])\n",
        "hidden_1 = Dense(units = 30, activation = \"relu\")(input)\n",
        "hidden_2 = Dense(units = 30, activation = \"relu\")(hidden_1)\n",
        "concat = Concatenate()([input,hidden_2])\n",
        "output = Dense(units = 1)(concat)\n",
        "model = keras.Model(inputs = [input], outputs = [output])"
      ],
      "metadata": {
        "id": "zXCuWifWYuFe"
      },
      "execution_count": 13,
      "outputs": []
    },
    {
      "cell_type": "code",
      "source": [
        "model.compile(loss = \"mean_squared_error\", optimizer=\"sgd\")"
      ],
      "metadata": {
        "id": "GhZ0ljVIZwPj"
      },
      "execution_count": 14,
      "outputs": []
    },
    {
      "cell_type": "code",
      "source": [
        "model.fit(x_train,y_train , validation_data= (x_val,y_val), epochs = 20)"
      ],
      "metadata": {
        "colab": {
          "base_uri": "https://localhost:8080/"
        },
        "id": "jJ_Ob9i1ajMr",
        "outputId": "817140f2-7176-45b0-b413-b9410cd6a361"
      },
      "execution_count": 15,
      "outputs": [
        {
          "output_type": "stream",
          "name": "stdout",
          "text": [
            "Epoch 1/20\n",
            "363/363 [==============================] - 1s 2ms/step - loss: 0.7643 - val_loss: 0.7831\n",
            "Epoch 2/20\n",
            "363/363 [==============================] - 1s 2ms/step - loss: 1.3357 - val_loss: 9.6657\n",
            "Epoch 3/20\n",
            "363/363 [==============================] - 1s 2ms/step - loss: nan - val_loss: nan\n",
            "Epoch 4/20\n",
            "363/363 [==============================] - 1s 2ms/step - loss: nan - val_loss: nan\n",
            "Epoch 5/20\n",
            "363/363 [==============================] - 1s 2ms/step - loss: nan - val_loss: nan\n",
            "Epoch 6/20\n",
            "363/363 [==============================] - 1s 2ms/step - loss: nan - val_loss: nan\n",
            "Epoch 7/20\n",
            "363/363 [==============================] - 1s 2ms/step - loss: nan - val_loss: nan\n",
            "Epoch 8/20\n",
            "363/363 [==============================] - 1s 2ms/step - loss: nan - val_loss: nan\n",
            "Epoch 9/20\n",
            "363/363 [==============================] - 1s 2ms/step - loss: nan - val_loss: nan\n",
            "Epoch 10/20\n",
            "363/363 [==============================] - 1s 2ms/step - loss: nan - val_loss: nan\n",
            "Epoch 11/20\n",
            "363/363 [==============================] - 1s 2ms/step - loss: nan - val_loss: nan\n",
            "Epoch 12/20\n",
            "363/363 [==============================] - 1s 2ms/step - loss: nan - val_loss: nan\n",
            "Epoch 13/20\n",
            "363/363 [==============================] - 1s 2ms/step - loss: nan - val_loss: nan\n",
            "Epoch 14/20\n",
            "363/363 [==============================] - 1s 2ms/step - loss: nan - val_loss: nan\n",
            "Epoch 15/20\n",
            "363/363 [==============================] - 1s 2ms/step - loss: nan - val_loss: nan\n",
            "Epoch 16/20\n",
            "363/363 [==============================] - 1s 2ms/step - loss: nan - val_loss: nan\n",
            "Epoch 17/20\n",
            "363/363 [==============================] - 1s 2ms/step - loss: nan - val_loss: nan\n",
            "Epoch 18/20\n",
            "363/363 [==============================] - 1s 2ms/step - loss: nan - val_loss: nan\n",
            "Epoch 19/20\n",
            "363/363 [==============================] - 1s 2ms/step - loss: nan - val_loss: nan\n",
            "Epoch 20/20\n",
            "363/363 [==============================] - 1s 2ms/step - loss: nan - val_loss: nan\n"
          ]
        },
        {
          "output_type": "execute_result",
          "data": {
            "text/plain": [
              "<keras.callbacks.History at 0x7f45013b6210>"
            ]
          },
          "metadata": {},
          "execution_count": 15
        }
      ]
    },
    {
      "cell_type": "code",
      "source": [
        "model.evaluate(x_test,y_test)"
      ],
      "metadata": {
        "colab": {
          "base_uri": "https://localhost:8080/"
        },
        "id": "lbwiagk-aoU7",
        "outputId": "e4b87252-8629-404c-f490-76c3e34bf557"
      },
      "execution_count": 16,
      "outputs": [
        {
          "output_type": "stream",
          "name": "stdout",
          "text": [
            "162/162 [==============================] - 0s 1ms/step - loss: nan\n"
          ]
        },
        {
          "output_type": "execute_result",
          "data": {
            "text/plain": [
              "nan"
            ]
          },
          "metadata": {},
          "execution_count": 16
        }
      ]
    },
    {
      "cell_type": "markdown",
      "source": [
        "#Multiple Inputs\n",
        "Sometimes it is possible to have multiple overlapping inputs. One part of the input follows the deep path, while the other the short path. Suppose in this example that we want 5 feature (from 0 to 4) follow the short path, and 6 features (2 to 7) follow the deep path."
      ],
      "metadata": {
        "id": "byTWSiror2jt"
      }
    },
    {
      "cell_type": "code",
      "source": [
        "input_A = Input(shape=[5])\n",
        "input_B = Input(shape = [6])\n",
        "hidden_1 = Dense(30,\"relu\")(input_B)\n",
        "hidden_2 = Dense(30,\"relu\")(hidden_1)\n",
        "concat = Concatenate()([input_A,hidden_2])\n",
        "output = Dense(1)(concat)\n",
        "model = keras.Model(inputs = [input_A,input_B], outputs = [output])"
      ],
      "metadata": {
        "id": "zCI7R08eryv6"
      },
      "execution_count": 64,
      "outputs": []
    },
    {
      "cell_type": "code",
      "source": [
        "model.compile(optimizer = \"sgd\", loss= \"mean_squared_error\")"
      ],
      "metadata": {
        "id": "0DhySnk7s476"
      },
      "execution_count": 58,
      "outputs": []
    },
    {
      "cell_type": "markdown",
      "source": [
        "We we call fit() instead of passing a single matrix data, we should pass 2 matrices"
      ],
      "metadata": {
        "id": "Uvsk8yD4trB3"
      }
    },
    {
      "cell_type": "code",
      "source": [
        "x_train_A, x_train_B = x_train[:,:5],x_train[:,2:]\n",
        "x_val_A, x_val_B = x_val[:,:5], x_val[:,2:]\n",
        "x_test_A, x_test_B = x_test[:,:5], x_test[:,2:] "
      ],
      "metadata": {
        "id": "yTgSIE72tnaw"
      },
      "execution_count": 59,
      "outputs": []
    },
    {
      "cell_type": "code",
      "source": [
        "history = model.fit((x_train_A, x_train_B), y_train, validation_data=((x_val_A,x_val_B), y_val), epochs=20)"
      ],
      "metadata": {
        "colab": {
          "base_uri": "https://localhost:8080/"
        },
        "id": "7N3HXNoat5He",
        "outputId": "b16100bf-d271-400d-8e80-339ec9dc3d2c"
      },
      "execution_count": 60,
      "outputs": [
        {
          "output_type": "stream",
          "name": "stdout",
          "text": [
            "Epoch 1/20\n",
            "363/363 [==============================] - 1s 2ms/step - loss: 0.8982 - val_loss: 3.5769\n",
            "Epoch 2/20\n",
            "363/363 [==============================] - 1s 2ms/step - loss: 0.5880 - val_loss: 0.4745\n",
            "Epoch 3/20\n",
            "363/363 [==============================] - 1s 2ms/step - loss: 0.4626 - val_loss: 0.4451\n",
            "Epoch 4/20\n",
            "363/363 [==============================] - 1s 2ms/step - loss: 0.4578 - val_loss: 0.4355\n",
            "Epoch 5/20\n",
            "363/363 [==============================] - 1s 2ms/step - loss: 0.4899 - val_loss: 0.4268\n",
            "Epoch 6/20\n",
            "363/363 [==============================] - 1s 2ms/step - loss: 0.4242 - val_loss: 0.4379\n",
            "Epoch 7/20\n",
            "363/363 [==============================] - 1s 2ms/step - loss: 0.4199 - val_loss: 0.4194\n",
            "Epoch 8/20\n",
            "363/363 [==============================] - 1s 2ms/step - loss: 0.4173 - val_loss: 0.4072\n",
            "Epoch 9/20\n",
            "363/363 [==============================] - 1s 2ms/step - loss: 0.4090 - val_loss: 0.4086\n",
            "Epoch 10/20\n",
            "363/363 [==============================] - 1s 2ms/step - loss: 0.3978 - val_loss: 0.4088\n",
            "Epoch 11/20\n",
            "363/363 [==============================] - 1s 2ms/step - loss: 0.3894 - val_loss: 0.4381\n",
            "Epoch 12/20\n",
            "363/363 [==============================] - 1s 2ms/step - loss: 0.3906 - val_loss: 0.3959\n",
            "Epoch 13/20\n",
            "363/363 [==============================] - 1s 2ms/step - loss: 0.4108 - val_loss: 0.4428\n",
            "Epoch 14/20\n",
            "363/363 [==============================] - 1s 2ms/step - loss: 0.4490 - val_loss: 0.3958\n",
            "Epoch 15/20\n",
            "363/363 [==============================] - 1s 2ms/step - loss: 0.3722 - val_loss: 0.3771\n",
            "Epoch 16/20\n",
            "363/363 [==============================] - 1s 2ms/step - loss: 0.3657 - val_loss: 0.3752\n",
            "Epoch 17/20\n",
            "363/363 [==============================] - 1s 2ms/step - loss: 0.3634 - val_loss: 0.3734\n",
            "Epoch 18/20\n",
            "363/363 [==============================] - 1s 2ms/step - loss: 0.3562 - val_loss: 0.3800\n",
            "Epoch 19/20\n",
            "363/363 [==============================] - 1s 2ms/step - loss: 0.3538 - val_loss: 0.3694\n",
            "Epoch 20/20\n",
            "363/363 [==============================] - 1s 2ms/step - loss: 0.3552 - val_loss: 0.3749\n"
          ]
        }
      ]
    },
    {
      "cell_type": "code",
      "source": [
        "model.evaluate((x_test_A,x_test_B),y_test)"
      ],
      "metadata": {
        "colab": {
          "base_uri": "https://localhost:8080/"
        },
        "id": "ROzH2LPouP_K",
        "outputId": "dd188eb2-c4cb-4d27-8663-7ffbd28d015f"
      },
      "execution_count": 49,
      "outputs": [
        {
          "output_type": "stream",
          "name": "stdout",
          "text": [
            "162/162 [==============================] - 0s 1ms/step - loss: 0.3313\n"
          ]
        },
        {
          "output_type": "execute_result",
          "data": {
            "text/plain": [
              "0.331320196390152"
            ]
          },
          "metadata": {},
          "execution_count": 49
        }
      ]
    },
    {
      "cell_type": "code",
      "source": [
        "import matplotlib.pyplot as plt\n",
        "import pandas as pd"
      ],
      "metadata": {
        "id": "oB480YkIvn6v"
      },
      "execution_count": 53,
      "outputs": []
    },
    {
      "cell_type": "code",
      "source": [
        "df = pd.DataFrame(history.history)\n",
        "df.plot(figsize = (8,5))\n",
        "plt.show()"
      ],
      "metadata": {
        "colab": {
          "base_uri": "https://localhost:8080/",
          "height": 320
        },
        "id": "0ENwb-KYvp2S",
        "outputId": "8c703f78-6856-4133-ce0a-a704565b032e"
      },
      "execution_count": 61,
      "outputs": [
        {
          "output_type": "display_data",
          "data": {
            "image/png": "[encoded data removed]",
            "text/plain": [
              "<Figure size 576x360 with 1 Axes>"
            ]
          },
          "metadata": {
            "needs_background": "light"
          }
        }
      ]
    },
    {
      "cell_type": "markdown",
      "source": [
        "#Multiple Outputs"
      ],
      "metadata": {
        "id": "gU39nBnAwvI5"
      }
    },
    {
      "cell_type": "markdown",
      "source": [
        "There are so many cases in which you might want multiple outputs.\n",
        "\n",
        "\n",
        "1.   It is demanded by the task\n",
        "2.   You might have indipendent task based on the same data, instead of creating different NNs you can build a single one with multiple outputs\n",
        "3.   You can use a second auxaliary output as regularization technique\n",
        "\n"
      ],
      "metadata": {
        "id": "-OsyfJKvxAQG"
      }
    },
    {
      "cell_type": "code",
      "source": [
        "input_A = Input(shape=[5])\n",
        "input_B = Input(shape = [6])\n",
        "hidden_1 = Dense(30,\"relu\")(input_B)\n",
        "hidden_2 = Dense(30,\"relu\")(hidden_1)\n",
        "concat = Concatenate()([input_A,hidden_2])\n",
        "output = Dense(1, name = \"output\")(concat)\n",
        "aux_output = Dense(1, name = \"aux_output\")(hidden_1)\n",
        "model = keras.Model(inputs = [input_A,input_B], outputs = [output,aux_output])"
      ],
      "metadata": {
        "id": "ndpQbBZ-vrIB"
      },
      "execution_count": 80,
      "outputs": []
    },
    {
      "cell_type": "code",
      "source": [
        "x_train_A, x_train_B = x_train[:,:5],x_train[:,2:]\n",
        "x_val_A, x_val_B = x_val[:,:5], x_val[:,2:]\n",
        "x_test_A, x_test_B = x_test[:,:5], x_test[:,2:] "
      ],
      "metadata": {
        "id": "dD5jaBtlzwen"
      },
      "execution_count": 81,
      "outputs": []
    },
    {
      "cell_type": "markdown",
      "source": [
        "Each output has its own losso function that we need to specify. Keras will compute all these losses and simply add them up to get the final loss.\n",
        "If we want to use the aux_output just as a regularization technique, we can specify a certain wight, because we care more about the standard output."
      ],
      "metadata": {
        "id": "T3Lq6n_OzFYx"
      }
    },
    {
      "cell_type": "code",
      "source": [
        "model.compile(optimizer = \"sgd\", loss= [\"mse\",\"mse\"], loss_weights=[0.9,0.1])"
      ],
      "metadata": {
        "id": "dH_8VGelySc6"
      },
      "execution_count": 82,
      "outputs": []
    },
    {
      "cell_type": "code",
      "source": [
        "history = model.fit((x_train_A, x_train_B), (y_train,y_train), validation_data=((x_val_A,x_val_B), (y_val,y_val)), epochs=20)"
      ],
      "metadata": {
        "colab": {
          "base_uri": "https://localhost:8080/"
        },
        "id": "2VBKC1W5yWcW",
        "outputId": "a99ccb15-3f70-4e19-952c-be058c9e27d7"
      },
      "execution_count": 83,
      "outputs": [
        {
          "output_type": "stream",
          "name": "stdout",
          "text": [
            "Epoch 1/20\n",
            "363/363 [==============================] - 1s 2ms/step - loss: 1.2300 - output_loss: 1.0659 - aux_output_loss: 2.7069 - val_loss: 0.8252 - val_output_loss: 0.7447 - val_aux_output_loss: 1.5503\n",
            "Epoch 2/20\n",
            "363/363 [==============================] - 1s 2ms/step - loss: 0.6125 - output_loss: 0.5272 - aux_output_loss: 1.3805 - val_loss: 1.4404 - val_output_loss: 1.4582 - val_aux_output_loss: 1.2805\n",
            "Epoch 3/20\n",
            "363/363 [==============================] - 1s 2ms/step - loss: 0.5449 - output_loss: 0.4716 - aux_output_loss: 1.2049 - val_loss: 0.5252 - val_output_loss: 0.4583 - val_aux_output_loss: 1.1278\n",
            "Epoch 4/20\n",
            "363/363 [==============================] - 1s 2ms/step - loss: 0.5056 - output_loss: 0.4407 - aux_output_loss: 1.0897 - val_loss: 0.5552 - val_output_loss: 0.5008 - val_aux_output_loss: 1.0446\n",
            "Epoch 5/20\n",
            "363/363 [==============================] - 1s 2ms/step - loss: 0.4909 - output_loss: 0.4343 - aux_output_loss: 1.0007 - val_loss: 0.4754 - val_output_loss: 0.4204 - val_aux_output_loss: 0.9706\n",
            "Epoch 6/20\n",
            "363/363 [==============================] - 1s 2ms/step - loss: 0.4719 - output_loss: 0.4214 - aux_output_loss: 0.9268 - val_loss: 0.4862 - val_output_loss: 0.4383 - val_aux_output_loss: 0.9175\n",
            "Epoch 7/20\n",
            "363/363 [==============================] - 1s 2ms/step - loss: 0.4603 - output_loss: 0.4144 - aux_output_loss: 0.8728 - val_loss: 0.5178 - val_output_loss: 0.4783 - val_aux_output_loss: 0.8736\n",
            "Epoch 8/20\n",
            "363/363 [==============================] - 1s 2ms/step - loss: 0.4526 - output_loss: 0.4106 - aux_output_loss: 0.8308 - val_loss: 0.4960 - val_output_loss: 0.4577 - val_aux_output_loss: 0.8405\n",
            "Epoch 9/20\n",
            "363/363 [==============================] - 1s 2ms/step - loss: 0.4446 - output_loss: 0.4055 - aux_output_loss: 0.7963 - val_loss: 0.5042 - val_output_loss: 0.4699 - val_aux_output_loss: 0.8126\n",
            "Epoch 10/20\n",
            "363/363 [==============================] - 1s 2ms/step - loss: 0.4413 - output_loss: 0.4045 - aux_output_loss: 0.7727 - val_loss: 0.4725 - val_output_loss: 0.4368 - val_aux_output_loss: 0.7939\n",
            "Epoch 11/20\n",
            "363/363 [==============================] - 1s 2ms/step - loss: 0.4300 - output_loss: 0.3945 - aux_output_loss: 0.7499 - val_loss: 0.4387 - val_output_loss: 0.4021 - val_aux_output_loss: 0.7688\n",
            "Epoch 12/20\n",
            "363/363 [==============================] - 1s 2ms/step - loss: 0.4251 - output_loss: 0.3908 - aux_output_loss: 0.7339 - val_loss: 0.4543 - val_output_loss: 0.4207 - val_aux_output_loss: 0.7568\n",
            "Epoch 13/20\n",
            "363/363 [==============================] - 1s 2ms/step - loss: 0.4198 - output_loss: 0.3862 - aux_output_loss: 0.7220 - val_loss: 0.4342 - val_output_loss: 0.3997 - val_aux_output_loss: 0.7445\n",
            "Epoch 14/20\n",
            "363/363 [==============================] - 1s 2ms/step - loss: 0.4186 - output_loss: 0.3862 - aux_output_loss: 0.7107 - val_loss: 0.4373 - val_output_loss: 0.4042 - val_aux_output_loss: 0.7351\n",
            "Epoch 15/20\n",
            "363/363 [==============================] - 1s 2ms/step - loss: 0.4149 - output_loss: 0.3830 - aux_output_loss: 0.7015 - val_loss: 0.4266 - val_output_loss: 0.3932 - val_aux_output_loss: 0.7272\n",
            "Epoch 16/20\n",
            "363/363 [==============================] - 1s 2ms/step - loss: 0.4095 - output_loss: 0.3780 - aux_output_loss: 0.6935 - val_loss: 0.4097 - val_output_loss: 0.3750 - val_aux_output_loss: 0.7218\n",
            "Epoch 17/20\n",
            "363/363 [==============================] - 1s 2ms/step - loss: 0.4091 - output_loss: 0.3783 - aux_output_loss: 0.6863 - val_loss: 0.4670 - val_output_loss: 0.4392 - val_aux_output_loss: 0.7165\n",
            "Epoch 18/20\n",
            "363/363 [==============================] - 1s 2ms/step - loss: 0.4054 - output_loss: 0.3751 - aux_output_loss: 0.6786 - val_loss: 0.4113 - val_output_loss: 0.3775 - val_aux_output_loss: 0.7153\n",
            "Epoch 19/20\n",
            "363/363 [==============================] - 1s 2ms/step - loss: 0.4006 - output_loss: 0.3705 - aux_output_loss: 0.6720 - val_loss: 0.4414 - val_output_loss: 0.4125 - val_aux_output_loss: 0.7020\n",
            "Epoch 20/20\n",
            "363/363 [==============================] - 1s 2ms/step - loss: 0.3985 - output_loss: 0.3685 - aux_output_loss: 0.6685 - val_loss: 0.4035 - val_output_loss: 0.3708 - val_aux_output_loss: 0.6980\n"
          ]
        }
      ]
    },
    {
      "cell_type": "code",
      "source": [
        "total_loss, main_loss, aux_loss = model.evaluate((x_test_A,x_test_B), (y_test,y_test))"
      ],
      "metadata": {
        "colab": {
          "base_uri": "https://localhost:8080/"
        },
        "id": "rIn3JJ_eyYBA",
        "outputId": "858e9d16-a089-4ae6-ac59-bd6e937b9cef"
      },
      "execution_count": 84,
      "outputs": [
        {
          "output_type": "stream",
          "name": "stdout",
          "text": [
            "162/162 [==============================] - 0s 1ms/step - loss: 0.3750 - output_loss: 0.3461 - aux_output_loss: 0.6353\n"
          ]
        }
      ]
    },
    {
      "cell_type": "code",
      "source": [
        "import matplotlib.pyplot as plt\n",
        "import pandas as pd"
      ],
      "metadata": {
        "id": "LZ9oWeW4yaNa"
      },
      "execution_count": 85,
      "outputs": []
    },
    {
      "cell_type": "code",
      "source": [
        "df = pd.DataFrame(history.history)\n",
        "df.plot(figsize = (8,5))\n",
        "plt.show()"
      ],
      "metadata": {
        "colab": {
          "base_uri": "https://localhost:8080/",
          "height": 320
        },
        "id": "qOJD2ARtyb__",
        "outputId": "eeaf2b24-92fb-4c81-c0a5-05205f1802f1"
      },
      "execution_count": 87,
      "outputs": [
        {
          "output_type": "display_data",
          "data": {
            "image/png": "[encoded data removed]",
            "text/plain": [
              "<Figure size 576x360 with 1 Axes>"
            ]
          },
          "metadata": {
            "needs_background": "light"
          }
        }
      ]
    },
    {
      "cell_type": "code",
      "source": [
        ""
      ],
      "metadata": {
        "id": "UWG1iKG-ydlR"
      },
      "execution_count": null,
      "outputs": []
    }
  ]
}