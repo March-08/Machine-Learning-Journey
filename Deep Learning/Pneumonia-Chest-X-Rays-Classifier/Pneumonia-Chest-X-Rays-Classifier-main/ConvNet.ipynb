{
  "nbformat": 4,
  "nbformat_minor": 0,
  "metadata": {
    "kernelspec": {
      "display_name": "Python 3",
      "language": "python",
      "name": "python3"
    },
    "language_info": {
      "codemirror_mode": {
        "name": "ipython",
        "version": 3
      },
      "file_extension": ".py",
      "mimetype": "text/x-python",
      "name": "python",
      "nbconvert_exporter": "python",
      "pygments_lexer": "ipython3",
      "version": "3.7.6"
    },
    "colab": {
      "name": "ConvNet.ipynb",
      "provenance": [],
      "include_colab_link": true
    }
  },
  "cells": [
    {
      "cell_type": "markdown",
      "metadata": {
        "id": "view-in-github",
        "colab_type": "text"
      },
      "source": [
        "<a href=\"https://colab.research.google.com/github/March-08/Pneumonia-Chest-X-Rays-Classifier/blob/main/ConvNet.ipynb\" target=\"_parent\"><img src=\"https://colab.research.google.com/assets/colab-badge.svg\" alt=\"Open In Colab\"/></a>"
      ]
    },
    {
      "cell_type": "code",
      "metadata": {
        "id": "jIRP2irF0H1n",
        "outputId": "3b8866b1-baca-4ee2-8e2d-36f605b08b44",
        "colab": {
          "base_uri": "https://localhost:8080/"
        }
      },
      "source": [
        "from google.colab import drive\n",
        "drive.mount('/content/drive')\n",
        "\n",
        "import tensorflow as tf\n",
        "from tensorflow.keras.models import Sequential\n",
        "from tensorflow.keras.layers import Dense,Dropout,Activation,Flatten,Conv2D,MaxPooling2D\n",
        "import pickle\n",
        "import numpy as np"
      ],
      "execution_count": 43,
      "outputs": [
        {
          "output_type": "stream",
          "text": [
            "Drive already mounted at /content/drive; to attempt to forcibly remount, call drive.mount(\"/content/drive\", force_remount=True).\n"
          ],
          "name": "stdout"
        }
      ]
    },
    {
      "cell_type": "markdown",
      "metadata": {
        "id": "b0x7pjbk5-g-"
      },
      "source": [
        "# Import data from google drive and normalize it"
      ]
    },
    {
      "cell_type": "code",
      "metadata": {
        "id": "UgtE5o4k31Yb"
      },
      "source": [
        "def load_pickles(pickle_dir):\n",
        "  X_train=pickle.load(open(PICKLE_DIR+\"/X_pneumonia_train.pickle\",\"rb\"))\n",
        "  y_train=pickle.load(open(PICKLE_DIR+\"/y_pneumonia_train.pickle\",\"rb\"))\n",
        "\n",
        "  X_val=pickle.load(open(PICKLE_DIR+\"/X_pneumonia_test.pickle\",\"rb\"))\n",
        "  y_val=pickle.load(open(PICKLE_DIR+\"/y_pneumonia_test.pickle\",\"rb\"))\n",
        "\n",
        "  X_train = np.asarray(X_train, dtype=np.float32)\n",
        "  y_train = np.asarray(y_train, dtype=np.float32)\n",
        "\n",
        "  X_test = np.asarray(X_val, dtype=np.float32)\n",
        "  y_test = np.asarray(y_val, dtype=np.float32)\n",
        "\n",
        "  y_train = tf.keras.utils.to_categorical(y_train, 3)\n",
        "  y_test = tf.keras.utils.to_categorical(y_val, 3)\n",
        "\n",
        "  \n",
        "\n",
        "  #normalize data\n",
        "  X_train=X_train/255\n",
        "  X_test=X_test/255\n",
        "\n",
        "  return X_train,y_train,X_test,y_test\n",
        "\n"
      ],
      "execution_count": 121,
      "outputs": []
    },
    {
      "cell_type": "markdown",
      "metadata": {
        "id": "17Il12P36H9T"
      },
      "source": [
        "# Create the model and train it"
      ]
    },
    {
      "cell_type": "code",
      "metadata": {
        "id": "HvEeaxuuthsZ",
        "outputId": "1a6b57b5-dbed-4a4e-f636-485be4a28a7c",
        "colab": {
          "base_uri": "https://localhost:8080/"
        }
      },
      "source": [
        "\n",
        "import tensorflow as tf\n",
        "from tensorflow.keras.models import Sequential\n",
        "from tensorflow.keras.layers import Dense,Dropout,Activation,Flatten,Conv2D,MaxPooling2D\n",
        "import pickle\n",
        "import numpy as np\n",
        "\n",
        "PICKLE_DIR=\"/content/drive/My Drive/Colab Notebooks/XRAY/PICKLES\"\n",
        "CATEGORIES= [\"NORMAL\",\"BACTERIA\",\"VIRUS\"]\n",
        "\n",
        "X_train,y_train,X_test,y_test=load_pickles(PICKLE_DIR)\n",
        "\n",
        "\n",
        "\n",
        "model=Sequential()\n",
        "model.add(Conv2D(64,(3,3),input_shape=X_train.shape[1:]))\n",
        "model.add(Activation(\"relu\"))\n",
        "model.add(MaxPooling2D(pool_size=(2,2)))\n",
        "\n",
        "model.add(Conv2D(64,(3,3)))\n",
        "model.add(Activation(\"relu\"))\n",
        "model.add(MaxPooling2D(pool_size=(2,2)))\n",
        "\n",
        "model.add(Flatten())\n",
        "model.add(Dense(64))\n",
        "\n",
        "model.add(tf.keras.layers.Dense(3, activation='softmax'))\n",
        "\n",
        "\n",
        "model.compile(loss=\"categorical_crossentropy\",optimizer=\"adam\",metrics=[\"accuracy\"])\n",
        "\n",
        "model.fit(X_train,y_train,batch_size=32,epochs=8)\n"
      ],
      "execution_count": 128,
      "outputs": [
        {
          "output_type": "stream",
          "text": [
            "Epoch 1/8\n",
            "163/163 [==============================] - 101s 619ms/step - loss: 0.7232 - accuracy: 0.6965\n",
            "Epoch 2/8\n",
            "163/163 [==============================] - 98s 603ms/step - loss: 0.4891 - accuracy: 0.7834\n",
            "Epoch 3/8\n",
            "163/163 [==============================] - 98s 604ms/step - loss: 0.4364 - accuracy: 0.8117\n",
            "Epoch 4/8\n",
            "163/163 [==============================] - 98s 601ms/step - loss: 0.4004 - accuracy: 0.8227\n",
            "Epoch 5/8\n",
            "163/163 [==============================] - 98s 599ms/step - loss: 0.3638 - accuracy: 0.8393\n",
            "Epoch 6/8\n",
            "163/163 [==============================] - 98s 601ms/step - loss: 0.3269 - accuracy: 0.8539\n",
            "Epoch 7/8\n",
            "163/163 [==============================] - 102s 624ms/step - loss: 0.2975 - accuracy: 0.8669\n",
            "Epoch 8/8\n",
            "163/163 [==============================] - 99s 607ms/step - loss: 0.2605 - accuracy: 0.8888\n"
          ],
          "name": "stdout"
        },
        {
          "output_type": "execute_result",
          "data": {
            "text/plain": [
              "<tensorflow.python.keras.callbacks.History at 0x7f42e8615710>"
            ]
          },
          "metadata": {
            "tags": []
          },
          "execution_count": 128
        }
      ]
    },
    {
      "cell_type": "markdown",
      "metadata": {
        "id": "4ZOtFAjY6YrM"
      },
      "source": [
        "# Evaluate the model on test set\n"
      ]
    },
    {
      "cell_type": "code",
      "metadata": {
        "id": "Pm4AwnBethsh",
        "outputId": "fcf63d8b-04a5-4ee4-dba6-f7d19517c064",
        "colab": {
          "base_uri": "https://localhost:8080/"
        }
      },
      "source": [
        "model.evaluate(X_test,y_test,batch_size=32)"
      ],
      "execution_count": 129,
      "outputs": [
        {
          "output_type": "stream",
          "text": [
            "20/20 [==============================] - 3s 145ms/step - loss: 2.1690 - accuracy: 0.6234\n"
          ],
          "name": "stdout"
        },
        {
          "output_type": "execute_result",
          "data": {
            "text/plain": [
              "[2.1689722537994385, 0.6233974099159241]"
            ]
          },
          "metadata": {
            "tags": []
          },
          "execution_count": 129
        }
      ]
    },
    {
      "cell_type": "markdown",
      "metadata": {
        "id": "CTUXu3ziYimu"
      },
      "source": [
        "# Let's resume the model"
      ]
    },
    {
      "cell_type": "code",
      "metadata": {
        "id": "K78QHv8DYndW",
        "outputId": "1477aed5-94be-4e86-e2cc-a76f72c64be3",
        "colab": {
          "base_uri": "https://localhost:8080/"
        }
      },
      "source": [
        "model.summary()"
      ],
      "execution_count": 127,
      "outputs": [
        {
          "output_type": "stream",
          "text": [
            "Model: \"sequential_21\"\n",
            "_________________________________________________________________\n",
            "Layer (type)                 Output Shape              Param #   \n",
            "=================================================================\n",
            "conv2d_42 (Conv2D)           (None, 98, 98, 64)        640       \n",
            "_________________________________________________________________\n",
            "activation_42 (Activation)   (None, 98, 98, 64)        0         \n",
            "_________________________________________________________________\n",
            "max_pooling2d_42 (MaxPooling (None, 49, 49, 64)        0         \n",
            "_________________________________________________________________\n",
            "conv2d_43 (Conv2D)           (None, 47, 47, 64)        36928     \n",
            "_________________________________________________________________\n",
            "activation_43 (Activation)   (None, 47, 47, 64)        0         \n",
            "_________________________________________________________________\n",
            "max_pooling2d_43 (MaxPooling (None, 23, 23, 64)        0         \n",
            "_________________________________________________________________\n",
            "flatten_21 (Flatten)         (None, 33856)             0         \n",
            "_________________________________________________________________\n",
            "dense_42 (Dense)             (None, 64)                2166848   \n",
            "_________________________________________________________________\n",
            "dense_43 (Dense)             (None, 3)                 195       \n",
            "=================================================================\n",
            "Total params: 2,204,611\n",
            "Trainable params: 2,204,611\n",
            "Non-trainable params: 0\n",
            "_________________________________________________________________\n"
          ],
          "name": "stdout"
        }
      ]
    },
    {
      "cell_type": "markdown",
      "metadata": {
        "id": "QU8PdSka_Dht"
      },
      "source": [
        "# Errors study\n",
        "\n"
      ]
    },
    {
      "cell_type": "code",
      "metadata": {
        "id": "l7W5HPII_Gen"
      },
      "source": [
        "# get predictions over test set\n",
        "preds = np.argmax(model.predict(X_test), axis=-1)\n",
        "test_label_data=pickle.load(open(PICKLE_DIR+\"/test_label_data.pickle\",\"rb\"))"
      ],
      "execution_count": 77,
      "outputs": []
    },
    {
      "cell_type": "markdown",
      "metadata": {
        "id": "UYhFdUCWXGKa"
      },
      "source": [
        "Get and show random errored label"
      ]
    },
    {
      "cell_type": "code",
      "metadata": {
        "id": "fwbh3Be7_MM6",
        "outputId": "9e878021-e6a0-4fab-fbae-7344c0ec1606",
        "colab": {
          "base_uri": "https://localhost:8080/"
        }
      },
      "source": [
        "\n",
        "\n",
        "errors_indexes=[]  #errors indexes in test \n",
        "\n",
        "for index in range(len(preds)):\n",
        "  if preds[index] != test_label_data[index][1]:\n",
        "    errors_indexes.append(index)\n",
        "print(\"numbers errors : \",len(errors_indexes))\n",
        "\n",
        "\n",
        "print(\"prediction :\" , CATEGORIES[preds[random_error_index]])\n",
        "print(\"label :\" ,  CATEGORIES[test_label_data[random_error_index][1]])\n",
        "\n"
      ],
      "execution_count": 120,
      "outputs": [
        {
          "output_type": "stream",
          "text": [
            "numbers errors :  193\n",
            "prediction : BACTERIA\n",
            "label : NORMAL\n"
          ],
          "name": "stdout"
        }
      ]
    },
    {
      "cell_type": "code",
      "metadata": {
        "id": "PbCAaMUJ_Za2"
      },
      "source": [
        ""
      ],
      "execution_count": 112,
      "outputs": []
    }
  ]
}