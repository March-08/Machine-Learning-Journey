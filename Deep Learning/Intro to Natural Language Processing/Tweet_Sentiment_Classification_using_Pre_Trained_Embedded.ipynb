{
  "nbformat": 4,
  "nbformat_minor": 0,
  "metadata": {
    "colab": {
      "name": "Tweet Sentiment Classification using Pre-Trained Embedded.ipynb",
      "provenance": []
    },
    "kernelspec": {
      "name": "python3",
      "display_name": "Python 3"
    },
    "language_info": {
      "name": "python"
    },
    "accelerator": "GPU"
  },
  "cells": [
    {
      "cell_type": "code",
      "source": [
        "import json\n",
        "import tensorflow as tf\n",
        "import csv\n",
        "import random\n",
        "import numpy as np\n",
        "\n",
        "from tensorflow.keras.preprocessing.text import Tokenizer\n",
        "from tensorflow.keras.preprocessing.sequence import pad_sequences\n",
        "from tensorflow.keras.utils import to_categorical\n",
        "from tensorflow.keras import regularizers\n",
        "\n",
        "\n",
        "embedding_dim = 100\n",
        "max_length = 16\n",
        "trunc_type='post'\n",
        "padding_type='post'\n",
        "oov_tok = \"<OOV>\"\n",
        "training_size=160_000 #Your dataset size here. Experiment using smaller values (i.e. 16000), but don't forget to train on at least 160000 to see the best effects\n",
        "test_portion=.1"
      ],
      "metadata": {
        "id": "OmldRQe9omqN"
      },
      "execution_count": 24,
      "outputs": []
    },
    {
      "cell_type": "code",
      "source": [
        "# Note that I cleaned the Stanford dataset to remove LATIN1 encoding to make it easier for Python CSV reader\n",
        "# You can do that yourself with:\n",
        "# iconv -f LATIN1 -t UTF8 training.1600000.processed.noemoticon.csv -o training_cleaned.csv\n",
        "# I then hosted it on my site to make it easier to use in this notebook\n",
        "\n",
        "!wget --no-check-certificate \\\n",
        "    https://storage.googleapis.com/laurencemoroney-blog.appspot.com/training_cleaned.csv \\\n",
        "    -O /tmp/training_cleaned.csv"
      ],
      "metadata": {
        "colab": {
          "base_uri": "https://localhost:8080/"
        },
        "id": "q779SIMzonCz",
        "outputId": "f9bb6cbd-697f-4b58-87e0-97943ff699c0"
      },
      "execution_count": 2,
      "outputs": [
        {
          "output_type": "stream",
          "name": "stdout",
          "text": [
            "--2022-02-11 09:44:50--  https://storage.googleapis.com/laurencemoroney-blog.appspot.com/training_cleaned.csv\n",
            "Resolving storage.googleapis.com (storage.googleapis.com)... 173.194.194.128, 142.250.152.128, 64.233.191.128, ...\n",
            "Connecting to storage.googleapis.com (storage.googleapis.com)|173.194.194.128|:443... connected.\n",
            "HTTP request sent, awaiting response... 200 OK\n",
            "Length: 238942690 (228M) [application/octet-stream]\n",
            "Saving to: ‘/tmp/training_cleaned.csv’\n",
            "\n",
            "/tmp/training_clean 100%[===================>] 227.87M  92.6MB/s    in 2.5s    \n",
            "\n",
            "2022-02-11 09:44:52 (92.6 MB/s) - ‘/tmp/training_cleaned.csv’ saved [238942690/238942690]\n",
            "\n"
          ]
        }
      ]
    },
    {
      "cell_type": "code",
      "source": [
        "import pandas as pd\n",
        "\n",
        "df = pd.read_csv(\"/tmp/training_cleaned.csv\",header = None)\n",
        "df = df.sample(frac=1)[:training_size]\n",
        "\n",
        "sentences = df.iloc[:,5].values\n",
        "labels = df.iloc[:,0].replace(4,1).values"
      ],
      "metadata": {
        "id": "WBvhr5WUotye"
      },
      "execution_count": 3,
      "outputs": []
    },
    {
      "cell_type": "code",
      "source": [
        "sentences[3], labels[3]"
      ],
      "metadata": {
        "id": "iUqLThUD2pOA",
        "colab": {
          "base_uri": "https://localhost:8080/"
        },
        "outputId": "b143cd77-77e7-4a17-bc58-37e0d9d63940"
      },
      "execution_count": 4,
      "outputs": [
        {
          "output_type": "execute_result",
          "data": {
            "text/plain": [
              "('bridge to therabithia is actually really good. i love the book ', 1)"
            ]
          },
          "metadata": {},
          "execution_count": 4
        }
      ]
    },
    {
      "cell_type": "code",
      "source": [
        "from sklearn.model_selection import train_test_split\n",
        "\n",
        "sentences, test_sentences, labels, test_labels = train_test_split(sentences,labels, train_size = 0.9)"
      ],
      "metadata": {
        "id": "bm8pqw6htvVd"
      },
      "execution_count": 5,
      "outputs": []
    },
    {
      "cell_type": "code",
      "source": [
        "sentences[2],test_sentences[2],labels[2],test_labels[2]"
      ],
      "metadata": {
        "colab": {
          "base_uri": "https://localhost:8080/"
        },
        "id": "fG5MKcLwLzF7",
        "outputId": "962c47f6-b831-45ad-ff0a-0ca6878f7e26"
      },
      "execution_count": 8,
      "outputs": [
        {
          "output_type": "execute_result",
          "data": {
            "text/plain": [
              "('With brian liz sam ryan john and cooper going to starbucks ',\n",
              " \"and now i'm going to watch Idle Hands, it's free On Demand right now \",\n",
              " 1,\n",
              " 1)"
            ]
          },
          "metadata": {},
          "execution_count": 8
        }
      ]
    },
    {
      "cell_type": "code",
      "source": [
        "tokenizer = Tokenizer()\n",
        "tokenizer.fit_on_texts(sentences)\n",
        "word_index = tokenizer.word_index\n",
        "\n",
        "vocab_size=len(word_index)\n",
        "\n",
        "sequences = tokenizer.texts_to_sequences(sentences)\n",
        "padded = pad_sequences(sequences, padding=padding_type, maxlen=max_length,truncating=trunc_type)\n",
        "\n",
        "test_sequences = tokenizer.texts_to_sequences(test_sentences)\n",
        "test_padded = pad_sequences(test_sequences, padding=padding_type, maxlen=max_length,truncating=trunc_type)"
      ],
      "metadata": {
        "id": "hVDLXfL6o1ku"
      },
      "execution_count": 9,
      "outputs": []
    },
    {
      "cell_type": "code",
      "source": [
        "# Note this is the 100 dimension version of GloVe from Stanford\n",
        "# I unzipped and hosted it on my site to make this notebook easier\n",
        "#!wget https://storage.googleapis.com/laurencemoroney-blog.appspot.com/glove.6B.100d.txt -O /tmp/glove.6B.100d.txt"
      ],
      "metadata": {
        "id": "rearrx1qpEo7"
      },
      "execution_count": null,
      "outputs": []
    },
    {
      "cell_type": "code",
      "source": [
        "!wget https://huggingface.co/stanfordnlp/glove/resolve/main/glove.6B.zip ./glove.6B.300d.txt"
      ],
      "metadata": {
        "id": "-OvoCWvSMmuT"
      },
      "execution_count": null,
      "outputs": []
    },
    {
      "cell_type": "code",
      "source": [
        "import zipfile \n",
        "\n",
        "zip_ref = zipfile.ZipFile(\"/content/glove.6B.zip\")\n",
        "zip_ref.extractall()"
      ],
      "metadata": {
        "id": "jG6cAupLNPFp"
      },
      "execution_count": 23,
      "outputs": []
    },
    {
      "cell_type": "code",
      "source": [
        "embeddings_index = {};\n",
        "with open('/content/glove.6B.100d.txt', encoding=\"utf-8\",errors='ignore') as f:\n",
        "    for line in f:\n",
        "        values = line.split();\n",
        "        word = values[0];\n",
        "        coefs = np.asarray(values[1:], dtype='float32');\n",
        "        embeddings_index[word] = coefs;\n",
        "\n",
        "embeddings_matrix = np.zeros((vocab_size+1, embedding_dim));\n",
        "for word, i in word_index.items():\n",
        "    embedding_vector = embeddings_index.get(word);\n",
        "    if embedding_vector is not None:\n",
        "        embeddings_matrix[i] = embedding_vector;"
      ],
      "metadata": {
        "id": "zeHBjyTapGHn"
      },
      "execution_count": 25,
      "outputs": []
    },
    {
      "cell_type": "code",
      "source": [
        "model = tf.keras.Sequential([\n",
        "    tf.keras.layers.Embedding(vocab_size+1, embedding_dim, input_length=max_length, weights=[embeddings_matrix], trainable=False),\n",
        "    # YOUR CODE HERE - experiment with combining different types, such as convolutions and LSTMs\n",
        "    tf.keras.layers.Dropout(0.2),\n",
        "    tf.keras.layers.Conv1D(64, 5, activation='relu'),\n",
        "    tf.keras.layers.MaxPooling1D(pool_size=4),\n",
        "    tf.keras.layers.Bidirectional(tf.keras.layers.LSTM(64, return_sequences = True)),\n",
        "    tf.keras.layers.LSTM(16),\n",
        "    tf.keras.layers.Dense(6, activation='relu'),\n",
        "    tf.keras.layers.Dense(1, activation='sigmoid')\n",
        "])\n",
        "model.compile(loss='binary_crossentropy',optimizer='adam',metrics=['accuracy'])\n",
        "model.summary()"
      ],
      "metadata": {
        "colab": {
          "base_uri": "https://localhost:8080/"
        },
        "id": "gZ37G_A_vKBA",
        "outputId": "d34a45bd-b03e-465e-cb2e-84d1be236d0e"
      },
      "execution_count": 29,
      "outputs": [
        {
          "output_type": "stream",
          "name": "stdout",
          "text": [
            "Model: \"sequential_1\"\n",
            "_________________________________________________________________\n",
            " Layer (type)                Output Shape              Param #   \n",
            "=================================================================\n",
            " embedding_1 (Embedding)     (None, 16, 100)           12852600  \n",
            "                                                                 \n",
            " dropout_1 (Dropout)         (None, 16, 100)           0         \n",
            "                                                                 \n",
            " conv1d_1 (Conv1D)           (None, 12, 64)            32064     \n",
            "                                                                 \n",
            " max_pooling1d_1 (MaxPooling  (None, 3, 64)            0         \n",
            " 1D)                                                             \n",
            "                                                                 \n",
            " bidirectional_1 (Bidirectio  (None, 3, 128)           66048     \n",
            " nal)                                                            \n",
            "                                                                 \n",
            " lstm_3 (LSTM)               (None, 16)                9280      \n",
            "                                                                 \n",
            " dense_2 (Dense)             (None, 6)                 102       \n",
            "                                                                 \n",
            " dense_3 (Dense)             (None, 1)                 7         \n",
            "                                                                 \n",
            "=================================================================\n",
            "Total params: 12,960,101\n",
            "Trainable params: 107,501\n",
            "Non-trainable params: 12,852,600\n",
            "_________________________________________________________________\n"
          ]
        }
      ]
    },
    {
      "cell_type": "code",
      "source": [
        "early_stop = tf.keras.callbacks.EarlyStopping(monitor = \"val_loss\", patience = 10, restore_best_weights=True)"
      ],
      "metadata": {
        "id": "rJQwoUsoyHvo"
      },
      "execution_count": 30,
      "outputs": []
    },
    {
      "cell_type": "code",
      "source": [
        "num_epochs = 50\n",
        "history = model.fit(padded, labels, epochs=num_epochs, validation_data=(test_padded, test_labels), verbose=2, callbacks = [early_stop])\n",
        "\n",
        "print(\"Training Complete\")"
      ],
      "metadata": {
        "colab": {
          "base_uri": "https://localhost:8080/"
        },
        "id": "m0ZTsVcZvMJd",
        "outputId": "29a35a94-4481-4dcf-a330-97d35ef9e9f3"
      },
      "execution_count": 41,
      "outputs": [
        {
          "output_type": "stream",
          "name": "stdout",
          "text": [
            "Epoch 1/50\n",
            "4500/4500 - 54s - loss: 0.5703 - accuracy: 0.6971 - val_loss: 0.5286 - val_accuracy: 0.7300 - 54s/epoch - 12ms/step\n",
            "Epoch 2/50\n",
            "4500/4500 - 38s - loss: 0.5305 - accuracy: 0.7310 - val_loss: 0.5554 - val_accuracy: 0.7011 - 38s/epoch - 8ms/step\n",
            "Epoch 3/50\n",
            "4500/4500 - 38s - loss: 0.5149 - accuracy: 0.7422 - val_loss: 0.5181 - val_accuracy: 0.7406 - 38s/epoch - 8ms/step\n",
            "Epoch 4/50\n",
            "4500/4500 - 37s - loss: 0.5038 - accuracy: 0.7503 - val_loss: 0.5138 - val_accuracy: 0.7417 - 37s/epoch - 8ms/step\n",
            "Epoch 5/50\n",
            "4500/4500 - 37s - loss: 0.4926 - accuracy: 0.7566 - val_loss: 0.5084 - val_accuracy: 0.7459 - 37s/epoch - 8ms/step\n",
            "Epoch 6/50\n",
            "4500/4500 - 39s - loss: 0.4875 - accuracy: 0.7597 - val_loss: 0.5160 - val_accuracy: 0.7450 - 39s/epoch - 9ms/step\n",
            "Epoch 7/50\n",
            "4500/4500 - 40s - loss: 0.4811 - accuracy: 0.7636 - val_loss: 0.5088 - val_accuracy: 0.7431 - 40s/epoch - 9ms/step\n",
            "Epoch 8/50\n",
            "4500/4500 - 37s - loss: 0.4758 - accuracy: 0.7671 - val_loss: 0.5044 - val_accuracy: 0.7473 - 37s/epoch - 8ms/step\n",
            "Epoch 9/50\n",
            "4500/4500 - 38s - loss: 0.4720 - accuracy: 0.7699 - val_loss: 0.5039 - val_accuracy: 0.7500 - 38s/epoch - 8ms/step\n",
            "Epoch 10/50\n",
            "4500/4500 - 38s - loss: 0.4676 - accuracy: 0.7724 - val_loss: 0.5178 - val_accuracy: 0.7435 - 38s/epoch - 8ms/step\n",
            "Epoch 11/50\n",
            "4500/4500 - 38s - loss: 0.4642 - accuracy: 0.7745 - val_loss: 0.5086 - val_accuracy: 0.7511 - 38s/epoch - 8ms/step\n",
            "Epoch 12/50\n",
            "4500/4500 - 37s - loss: 0.4612 - accuracy: 0.7759 - val_loss: 0.5120 - val_accuracy: 0.7463 - 37s/epoch - 8ms/step\n",
            "Epoch 13/50\n",
            "4500/4500 - 39s - loss: 0.4582 - accuracy: 0.7773 - val_loss: 0.5177 - val_accuracy: 0.7454 - 39s/epoch - 9ms/step\n",
            "Training Complete\n"
          ]
        }
      ]
    },
    {
      "cell_type": "code",
      "source": [
        "import matplotlib.image  as mpimg\n",
        "import matplotlib.pyplot as plt\n",
        "\n",
        "#-----------------------------------------------------------\n",
        "# Retrieve a list of list results on training and test data\n",
        "# sets for each training epoch\n",
        "#-----------------------------------------------------------\n",
        "acc=history.history['accuracy']\n",
        "val_acc=history.history['val_accuracy']\n",
        "loss=history.history['loss']\n",
        "val_loss=history.history['val_loss']\n",
        "\n",
        "epochs=range(len(acc)) # Get number of epochs\n",
        "\n",
        "#------------------------------------------------\n",
        "# Plot training and validation accuracy per epoch\n",
        "#------------------------------------------------\n",
        "plt.plot(epochs, acc, 'r')\n",
        "plt.plot(epochs, val_acc, 'b')\n",
        "plt.title('Training and validation accuracy')\n",
        "plt.xlabel(\"Epochs\")\n",
        "plt.ylabel(\"Accuracy\")\n",
        "plt.legend([\"Accuracy\", \"Validation Accuracy\"])\n",
        "\n",
        "plt.figure()\n",
        "\n",
        "#------------------------------------------------\n",
        "# Plot training and validation loss per epoch\n",
        "#------------------------------------------------\n",
        "plt.plot(epochs, loss, 'r')\n",
        "plt.plot(epochs, val_loss, 'b')\n",
        "plt.title('Training and validation loss')\n",
        "plt.xlabel(\"Epochs\")\n",
        "plt.ylabel(\"Loss\")\n",
        "plt.legend([\"Loss\", \"Validation Loss\"])\n",
        "\n",
        "plt.figure()\n",
        "\n",
        "\n",
        "# Expected Output\n",
        "# A chart where the validation loss does not increase sharply!"
      ],
      "metadata": {
        "id": "BtrB-wKavOWL",
        "colab": {
          "base_uri": "https://localhost:8080/",
          "height": 609
        },
        "outputId": "0141381c-f4a6-40d1-ca46-de614c3dfd33"
      },
      "execution_count": 42,
      "outputs": [
        {
          "output_type": "execute_result",
          "data": {
            "text/plain": [
              "<Figure size 432x288 with 0 Axes>"
            ]
          },
          "metadata": {},
          "execution_count": 42
        },
        {
          "output_type": "display_data",
          "data": {
            "image/png": "[encoded data removed]",
            "text/plain": [
              "<Figure size 432x288 with 1 Axes>"
            ]
          },
          "metadata": {
            "needs_background": "light"
          }
        },
        {
          "output_type": "display_data",
          "data": {
            "image/png": "[encoded data removed]",
            "text/plain": [
              "<Figure size 432x288 with 1 Axes>"
            ]
          },
          "metadata": {
            "needs_background": "light"
          }
        },
        {
          "output_type": "display_data",
          "data": {
            "text/plain": [
              "<Figure size 432x288 with 0 Axes>"
            ]
          },
          "metadata": {}
        }
      ]
    },
    {
      "cell_type": "code",
      "source": [
        "model_gru = tf.keras.Sequential([\n",
        "    tf.keras.layers.Embedding(vocab_size+1, embedding_dim, input_length=max_length, weights=[embeddings_matrix], trainable=False),\n",
        "    # YOUR CODE HERE - experiment with combining different types, such as convolutions and LSTMs\n",
        "    tf.keras.layers.Dropout(0.2),\n",
        "    tf.keras.layers.Conv1D(64, 5, activation='relu'),\n",
        "    tf.keras.layers.MaxPooling1D(pool_size=4),\n",
        "    tf.keras.layers.Bidirectional(tf.keras.layers.GRU(64)),\n",
        "    tf.keras.layers.Dense(6, activation='relu'),\n",
        "    tf.keras.layers.Dense(1, activation='sigmoid')\n",
        "])\n",
        "model_gru.compile(loss='binary_crossentropy',optimizer='adam',metrics=['accuracy'])\n",
        "model_gru.summary()"
      ],
      "metadata": {
        "colab": {
          "base_uri": "https://localhost:8080/"
        },
        "id": "7H6g5qTDSkku",
        "outputId": "0d243100-8e15-4cce-edab-f1fcdc131a62"
      },
      "execution_count": 46,
      "outputs": [
        {
          "output_type": "stream",
          "name": "stdout",
          "text": [
            "Model: \"sequential_3\"\n",
            "_________________________________________________________________\n",
            " Layer (type)                Output Shape              Param #   \n",
            "=================================================================\n",
            " embedding_3 (Embedding)     (None, 16, 100)           12852600  \n",
            "                                                                 \n",
            " dropout_3 (Dropout)         (None, 16, 100)           0         \n",
            "                                                                 \n",
            " conv1d_3 (Conv1D)           (None, 12, 64)            32064     \n",
            "                                                                 \n",
            " max_pooling1d_3 (MaxPooling  (None, 3, 64)            0         \n",
            " 1D)                                                             \n",
            "                                                                 \n",
            " bidirectional_3 (Bidirectio  (None, 128)              49920     \n",
            " nal)                                                            \n",
            "                                                                 \n",
            " dense_6 (Dense)             (None, 6)                 774       \n",
            "                                                                 \n",
            " dense_7 (Dense)             (None, 1)                 7         \n",
            "                                                                 \n",
            "=================================================================\n",
            "Total params: 12,935,365\n",
            "Trainable params: 82,765\n",
            "Non-trainable params: 12,852,600\n",
            "_________________________________________________________________\n"
          ]
        }
      ]
    },
    {
      "cell_type": "code",
      "source": [
        "num_epochs = 50\n",
        "history = model_gru.fit(padded, labels, epochs=num_epochs, validation_data=(test_padded, test_labels), verbose=2, callbacks = [early_stop])\n",
        "\n",
        "print(\"Training Complete\")"
      ],
      "metadata": {
        "colab": {
          "base_uri": "https://localhost:8080/"
        },
        "id": "9QOYBrhtSyeL",
        "outputId": "6a1cb9e7-cf88-487f-c3de-ad42fae67b68"
      },
      "execution_count": 47,
      "outputs": [
        {
          "output_type": "stream",
          "name": "stdout",
          "text": [
            "Epoch 1/50\n",
            "4500/4500 - 37s - loss: 0.5732 - accuracy: 0.6930 - val_loss: 0.5330 - val_accuracy: 0.7344 - 37s/epoch - 8ms/step\n",
            "Epoch 2/50\n",
            "4500/4500 - 31s - loss: 0.5294 - accuracy: 0.7297 - val_loss: 0.5259 - val_accuracy: 0.7358 - 31s/epoch - 7ms/step\n",
            "Epoch 3/50\n",
            "4500/4500 - 31s - loss: 0.5130 - accuracy: 0.7419 - val_loss: 0.5139 - val_accuracy: 0.7468 - 31s/epoch - 7ms/step\n",
            "Epoch 4/50\n",
            "4500/4500 - 31s - loss: 0.5019 - accuracy: 0.7505 - val_loss: 0.5111 - val_accuracy: 0.7457 - 31s/epoch - 7ms/step\n",
            "Epoch 5/50\n",
            "4500/4500 - 31s - loss: 0.4933 - accuracy: 0.7556 - val_loss: 0.5094 - val_accuracy: 0.7459 - 31s/epoch - 7ms/step\n",
            "Epoch 6/50\n",
            "4500/4500 - 32s - loss: 0.4859 - accuracy: 0.7611 - val_loss: 0.5169 - val_accuracy: 0.7508 - 32s/epoch - 7ms/step\n",
            "Epoch 7/50\n",
            "4500/4500 - 31s - loss: 0.4813 - accuracy: 0.7633 - val_loss: 0.5075 - val_accuracy: 0.7475 - 31s/epoch - 7ms/step\n",
            "Epoch 8/50\n",
            "4500/4500 - 31s - loss: 0.4751 - accuracy: 0.7675 - val_loss: 0.5103 - val_accuracy: 0.7477 - 31s/epoch - 7ms/step\n",
            "Epoch 9/50\n",
            "4500/4500 - 31s - loss: 0.4712 - accuracy: 0.7697 - val_loss: 0.5242 - val_accuracy: 0.7418 - 31s/epoch - 7ms/step\n",
            "Epoch 10/50\n",
            "4500/4500 - 30s - loss: 0.4673 - accuracy: 0.7737 - val_loss: 0.5089 - val_accuracy: 0.7467 - 30s/epoch - 7ms/step\n",
            "Epoch 11/50\n",
            "4500/4500 - 30s - loss: 0.4634 - accuracy: 0.7755 - val_loss: 0.5061 - val_accuracy: 0.7479 - 30s/epoch - 7ms/step\n",
            "Epoch 12/50\n",
            "4500/4500 - 30s - loss: 0.4598 - accuracy: 0.7772 - val_loss: 0.5147 - val_accuracy: 0.7456 - 30s/epoch - 7ms/step\n",
            "Epoch 13/50\n",
            "4500/4500 - 30s - loss: 0.4576 - accuracy: 0.7784 - val_loss: 0.5178 - val_accuracy: 0.7433 - 30s/epoch - 7ms/step\n",
            "Epoch 14/50\n",
            "4500/4500 - 30s - loss: 0.4556 - accuracy: 0.7796 - val_loss: 0.5199 - val_accuracy: 0.7391 - 30s/epoch - 7ms/step\n",
            "Epoch 15/50\n",
            "4500/4500 - 31s - loss: 0.4546 - accuracy: 0.7802 - val_loss: 0.5110 - val_accuracy: 0.7454 - 31s/epoch - 7ms/step\n",
            "Training Complete\n"
          ]
        }
      ]
    },
    {
      "cell_type": "code",
      "source": [
        "import matplotlib.image  as mpimg\n",
        "import matplotlib.pyplot as plt\n",
        "\n",
        "#-----------------------------------------------------------\n",
        "# Retrieve a list of list results on training and test data\n",
        "# sets for each training epoch\n",
        "#-----------------------------------------------------------\n",
        "acc=history.history['accuracy']\n",
        "val_acc=history.history['val_accuracy']\n",
        "loss=history.history['loss']\n",
        "val_loss=history.history['val_loss']\n",
        "\n",
        "epochs=range(len(acc)) # Get number of epochs\n",
        "\n",
        "#------------------------------------------------\n",
        "# Plot training and validation accuracy per epoch\n",
        "#------------------------------------------------\n",
        "plt.plot(epochs, acc, 'r')\n",
        "plt.plot(epochs, val_acc, 'b')\n",
        "plt.title('Training and validation accuracy')\n",
        "plt.xlabel(\"Epochs\")\n",
        "plt.ylabel(\"Accuracy\")\n",
        "plt.legend([\"Accuracy\", \"Validation Accuracy\"])\n",
        "\n",
        "plt.figure()\n",
        "\n",
        "#------------------------------------------------\n",
        "# Plot training and validation loss per epoch\n",
        "#------------------------------------------------\n",
        "plt.plot(epochs, loss, 'r')\n",
        "plt.plot(epochs, val_loss, 'b')\n",
        "plt.title('Training and validation loss')\n",
        "plt.xlabel(\"Epochs\")\n",
        "plt.ylabel(\"Loss\")\n",
        "plt.legend([\"Loss\", \"Validation Loss\"])\n",
        "\n",
        "plt.figure()\n",
        "\n",
        "\n",
        "# Expected Output\n",
        "# A chart where the validation loss does not increase sharply!"
      ],
      "metadata": {
        "colab": {
          "base_uri": "https://localhost:8080/",
          "height": 609
        },
        "id": "JhgvmBqXS6l1",
        "outputId": "e9bbb7fa-945d-4dbb-d05d-c7f0812acd70"
      },
      "execution_count": 48,
      "outputs": [
        {
          "output_type": "execute_result",
          "data": {
            "text/plain": [
              "<Figure size 432x288 with 0 Axes>"
            ]
          },
          "metadata": {},
          "execution_count": 48
        },
        {
          "output_type": "display_data",
          "data": {
            "image/png": "[encoded data removed]",
            "text/plain": [
              "<Figure size 432x288 with 1 Axes>"
            ]
          },
          "metadata": {
            "needs_background": "light"
          }
        },
        {
          "output_type": "display_data",
          "data": {
            "image/png": "[encoded data removed]",
            "text/plain": [
              "<Figure size 432x288 with 1 Axes>"
            ]
          },
          "metadata": {
            "needs_background": "light"
          }
        },
        {
          "output_type": "display_data",
          "data": {
            "text/plain": [
              "<Figure size 432x288 with 0 Axes>"
            ]
          },
          "metadata": {}
        }
      ]
    }
  ]
}