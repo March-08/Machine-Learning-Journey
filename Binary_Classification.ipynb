{
  "nbformat": 4,
  "nbformat_minor": 0,
  "metadata": {
    "colab": {
      "name": "Binary Classification.ipynb",
      "provenance": [],
      "collapsed_sections": []
    },
    "kernelspec": {
      "name": "python3",
      "display_name": "Python 3"
    },
    "language_info": {
      "name": "python"
    }
  },
  "cells": [
    {
      "cell_type": "markdown",
      "source": [
        "##Fetch dataset from sklearn"
      ],
      "metadata": {
        "id": "qAWWTK9WiyC8"
      }
    },
    {
      "cell_type": "code",
      "source": [
        "import warnings\n",
        "warnings.filterwarnings('ignore')"
      ],
      "metadata": {
        "id": "nrhn0eIcne7k"
      },
      "execution_count": 1,
      "outputs": []
    },
    {
      "cell_type": "code",
      "execution_count": 2,
      "metadata": {
        "colab": {
          "base_uri": "https://localhost:8080/"
        },
        "id": "CCx4-IKEiZyf",
        "outputId": "e994977d-286d-4838-b86f-8826fa863ae5"
      },
      "outputs": [
        {
          "output_type": "execute_result",
          "data": {
            "text/plain": [
              "dict_keys(['data', 'target', 'frame', 'categories', 'feature_names', 'target_names', 'DESCR', 'details', 'url'])"
            ]
          },
          "metadata": {},
          "execution_count": 2
        }
      ],
      "source": [
        "from sklearn.datasets import fetch_openml\n",
        "\n",
        "mnist = fetch_openml(\"mnist_784\", version = 1)\n",
        "mnist.keys()"
      ]
    },
    {
      "cell_type": "markdown",
      "source": [
        "###Divide actual data from target"
      ],
      "metadata": {
        "id": "_TPBY0ewi4YW"
      }
    },
    {
      "cell_type": "code",
      "source": [
        "X, y = mnist[\"data\"], mnist[\"target\"]\n",
        "X.shape, y.shape"
      ],
      "metadata": {
        "colab": {
          "base_uri": "https://localhost:8080/"
        },
        "id": "byGab_Ygid1q",
        "outputId": "288333b5-66f0-426a-ff9d-dcbb1006604a"
      },
      "execution_count": 3,
      "outputs": [
        {
          "output_type": "execute_result",
          "data": {
            "text/plain": [
              "((70000, 784), (70000,))"
            ]
          },
          "metadata": {},
          "execution_count": 3
        }
      ]
    },
    {
      "cell_type": "code",
      "source": [
        "X.iloc[0,:]"
      ],
      "metadata": {
        "colab": {
          "base_uri": "https://localhost:8080/"
        },
        "id": "VfKFTzfwkYGU",
        "outputId": "da7adda8-c69c-4f00-9ca4-7c9ddb95225f"
      },
      "execution_count": 4,
      "outputs": [
        {
          "output_type": "execute_result",
          "data": {
            "text/plain": [
              "pixel1      0.0\n",
              "pixel2      0.0\n",
              "pixel3      0.0\n",
              "pixel4      0.0\n",
              "pixel5      0.0\n",
              "           ... \n",
              "pixel780    0.0\n",
              "pixel781    0.0\n",
              "pixel782    0.0\n",
              "pixel783    0.0\n",
              "pixel784    0.0\n",
              "Name: 0, Length: 784, dtype: float64"
            ]
          },
          "metadata": {},
          "execution_count": 4
        }
      ]
    },
    {
      "cell_type": "markdown",
      "source": [
        "###Plot a single picture"
      ],
      "metadata": {
        "id": "v9TxiqygjOL0"
      }
    },
    {
      "cell_type": "code",
      "source": [
        "import matplotlib as mlp\n",
        "import matplotlib.pyplot as plt\n",
        "import numpy as np\n",
        "\n",
        "example = np.array(X.iloc[0,:])\n",
        "example_image = example.reshape(28,28)\n",
        "\n",
        "plt.imshow(example_image, cmap = mlp.cm.binary, interpolation = \"nearest\")\n",
        "plt.axis(\"off\")\n",
        "plt.show()\n",
        "\n",
        "print(\"corresponding label \", y[0])"
      ],
      "metadata": {
        "id": "UwWZLbyBjLkV",
        "colab": {
          "base_uri": "https://localhost:8080/",
          "height": 265
        },
        "outputId": "40792bc0-177f-4526-d397-32953f4ee7df"
      },
      "execution_count": 5,
      "outputs": [
        {
          "output_type": "display_data",
          "data": {
            "image/png": "[encoded data removed]",
            "text/plain": [
              "<Figure size 432x288 with 1 Axes>"
            ]
          },
          "metadata": {
            "needs_background": "light"
          }
        },
        {
          "output_type": "stream",
          "name": "stdout",
          "text": [
            "corresponding label  5\n"
          ]
        }
      ]
    },
    {
      "cell_type": "markdown",
      "source": [
        "###Split train-test"
      ],
      "metadata": {
        "id": "X4jwXwvNlcBD"
      }
    },
    {
      "cell_type": "code",
      "source": [
        "X_train, X_test, y_train, y_test = X[:60000], X[60000:], y[:60000], y[60000:]"
      ],
      "metadata": {
        "id": "RDnlYDdIjtjE"
      },
      "execution_count": 6,
      "outputs": []
    },
    {
      "cell_type": "markdown",
      "source": [
        "##Simplify the problem\n",
        "Let's only detect if a given number is a \"5\" or not. Binary classification"
      ],
      "metadata": {
        "id": "8nUZlvPxluyx"
      }
    },
    {
      "cell_type": "code",
      "source": [
        "y_train_5 = y_train == \"5\" #true for all 5's\n",
        "y_test_5 = y_test == \"5\""
      ],
      "metadata": {
        "id": "YqaEKgvej72G"
      },
      "execution_count": 7,
      "outputs": []
    },
    {
      "cell_type": "markdown",
      "source": [
        "###Training a Binary Classifier"
      ],
      "metadata": {
        "id": "P0MDZZU0mcZb"
      }
    },
    {
      "cell_type": "code",
      "source": [
        "from sklearn.linear_model import SGDClassifier\n",
        "\n",
        "sgd_clf = SGDClassifier(random_state=42)\n",
        "sgd_clf.fit(X_train, y_train_5)"
      ],
      "metadata": {
        "colab": {
          "base_uri": "https://localhost:8080/"
        },
        "id": "AcQKrfCZl50t",
        "outputId": "4e3fe54c-5c10-4fee-fc64-7285c0344169"
      },
      "execution_count": 8,
      "outputs": [
        {
          "output_type": "execute_result",
          "data": {
            "text/plain": [
              "SGDClassifier(random_state=42)"
            ]
          },
          "metadata": {},
          "execution_count": 8
        }
      ]
    },
    {
      "cell_type": "markdown",
      "source": [
        "Let's detect the \"example\" image, which is a \"5\"\n"
      ],
      "metadata": {
        "id": "4olDTRHwnOk6"
      }
    },
    {
      "cell_type": "code",
      "source": [
        "sgd_clf.predict([example])"
      ],
      "metadata": {
        "colab": {
          "base_uri": "https://localhost:8080/"
        },
        "id": "OXx-167vmyKu",
        "outputId": "f5151ae5-9352-4fe8-fb20-712d08e442eb"
      },
      "execution_count": 9,
      "outputs": [
        {
          "output_type": "execute_result",
          "data": {
            "text/plain": [
              "array([ True])"
            ]
          },
          "metadata": {},
          "execution_count": 9
        }
      ]
    },
    {
      "cell_type": "markdown",
      "source": [
        "##Measuring Accuracy using cross validation"
      ],
      "metadata": {
        "id": "InMvBBLFnlfk"
      }
    },
    {
      "cell_type": "code",
      "source": [
        "from sklearn.model_selection import cross_val_score\n",
        "\n",
        "cross_val_score(sgd_clf, X_train, y_train_5, cv = 3, scoring = \"accuracy\" )"
      ],
      "metadata": {
        "colab": {
          "base_uri": "https://localhost:8080/"
        },
        "id": "JU-C39RCnUxb",
        "outputId": "19204bea-2c63-4ea3-ec4d-432231a0f51a"
      },
      "execution_count": 10,
      "outputs": [
        {
          "output_type": "execute_result",
          "data": {
            "text/plain": [
              "array([0.95035, 0.96035, 0.9604 ])"
            ]
          },
          "metadata": {},
          "execution_count": 10
        }
      ]
    },
    {
      "cell_type": "markdown",
      "source": [
        "Accuracy above 96%, seems great! But wait , let's also create a dummy classifier that classifies every image as \"not 5\"\n"
      ],
      "metadata": {
        "id": "YfoR4Hban56z"
      }
    },
    {
      "cell_type": "markdown",
      "source": [
        "###Dummy classifier"
      ],
      "metadata": {
        "id": "hczhOT0ToFCS"
      }
    },
    {
      "cell_type": "code",
      "source": [
        "from sklearn.base import BaseEstimator\n",
        "\n",
        "class Never5Classifier(BaseEstimator):\n",
        "  def fit(self,X, y = None):\n",
        "    return self\n",
        "\n",
        "  def predict(self,X):\n",
        "    return np.zeros((len(X), 1), dtype=bool)"
      ],
      "metadata": {
        "id": "Er6dktusoEl6"
      },
      "execution_count": 11,
      "outputs": []
    },
    {
      "cell_type": "code",
      "source": [
        "never_5_clf = Never5Classifier()\n",
        "cross_val_score(never_5_clf, X_train, y_train_5, cv = 3, scoring = \"accuracy\" )"
      ],
      "metadata": {
        "colab": {
          "base_uri": "https://localhost:8080/"
        },
        "id": "FE7TLYPLns9y",
        "outputId": "b199eab6-11a0-4c26-cfd5-f1f20ef46d61"
      },
      "execution_count": 12,
      "outputs": [
        {
          "output_type": "execute_result",
          "data": {
            "text/plain": [
              "array([0.91125, 0.90855, 0.90915])"
            ]
          },
          "metadata": {},
          "execution_count": 12
        }
      ]
    },
    {
      "cell_type": "markdown",
      "source": [
        "Also this dummy classifier has a great performance! What is happening !? \n",
        "The accuracy metric is not good for this dataset because there are a few \"5\"'s and to many \"not 5\". So if I guess \"not 5\" every time I expect to have a great acuracy (90%).\n",
        "\n",
        "In this case the confusion matric can be very helpful.\n"
      ],
      "metadata": {
        "id": "yDGR0Y_ypFW9"
      }
    },
    {
      "cell_type": "markdown",
      "source": [
        "##Confusion Matrix"
      ],
      "metadata": {
        "id": "X1JD63oopqnB"
      }
    },
    {
      "cell_type": "code",
      "source": [
        "from sklearn.metrics import confusion_matrix\n",
        "import seaborn as sns\n",
        "\n",
        "y_train_pred = sgd_clf.predict(X_train)\n",
        "cf_matrix = confusion_matrix(y_train_5, y_train_pred)\n",
        "\n",
        "print(cf_matrix)\n",
        "ax = sns.heatmap(cf_matrix, annot=True, cmap='Blues')\n",
        "\n",
        "ax.set_title('Seaborn Confusion Matrix with labels\\n\\n');\n",
        "ax.set_xlabel('\\nPredicted Values')\n",
        "ax.set_ylabel('Actual Values ');\n",
        "\n",
        "## Ticket labels - List must be in alphabetical order\n",
        "ax.xaxis.set_ticklabels(['False','True'])\n",
        "ax.yaxis.set_ticklabels(['False','True'])\n",
        "\n",
        "## Display the visualization of the Confusion Matrix.\n",
        "plt.show()"
      ],
      "metadata": {
        "colab": {
          "base_uri": "https://localhost:8080/",
          "height": 372
        },
        "id": "v3htYdGipFH5",
        "outputId": "45ba5162-ab7b-4b85-e555-7309d1552772"
      },
      "execution_count": 13,
      "outputs": [
        {
          "output_type": "stream",
          "name": "stdout",
          "text": [
            "[[52316  2263]\n",
            " [  601  4820]]\n"
          ]
        },
        {
          "output_type": "display_data",
          "data": {
            "image/png": "[encoded data removed]",
            "text/plain": [
              "<Figure size 432x288 with 2 Axes>"
            ]
          },
          "metadata": {
            "needs_background": "light"
          }
        }
      ]
    },
    {
      "cell_type": "markdown",
      "source": [
        "each row of the confusion matrix represents an actual class , while each column represents a predicted class. A perfect classifier would have only true positives and true negatives"
      ],
      "metadata": {
        "id": "R99EngDNqjR3"
      }
    },
    {
      "cell_type": "markdown",
      "source": [
        "##Precision , Recall and F1\n",
        "\n",
        "sometimes you need to evaluate your model with precision and recall or f=F1 metrics \n",
        " \n",
        "![](https://i.stack.imgur.com/7QIRU.gif)"
      ],
      "metadata": {
        "id": "CUICCgjFq4Km"
      }
    },
    {
      "cell_type": "code",
      "source": [
        "from sklearn.metrics import precision_score, recall_score\n",
        "\n",
        "precision_score(y_train_5, y_train_pred) , recall_score(y_train_5, y_train_pred)"
      ],
      "metadata": {
        "colab": {
          "base_uri": "https://localhost:8080/"
        },
        "id": "3m00jIewor1t",
        "outputId": "5aacafec-3874-4516-e078-6bdd6fd9e3bf"
      },
      "execution_count": 14,
      "outputs": [
        {
          "output_type": "execute_result",
          "data": {
            "text/plain": [
              "(0.6805026118876183, 0.8891348459693783)"
            ]
          },
          "metadata": {},
          "execution_count": 14
        }
      ]
    },
    {
      "cell_type": "markdown",
      "source": [
        "Doesn't seem great as before now that we have both precision and recall. Sometimes is conviniente to aggregate these metrics, in the F1 score"
      ],
      "metadata": {
        "id": "6oIFmJ6VKPug"
      }
    },
    {
      "cell_type": "code",
      "source": [
        "from sklearn.metrics import f1_score\n",
        "\n",
        "f1_score(y_train_5, y_train_pred)"
      ],
      "metadata": {
        "colab": {
          "base_uri": "https://localhost:8080/"
        },
        "id": "YLC7r1EVKaOx",
        "outputId": "316652ec-1769-449a-91e9-2c2aea980a6b"
      },
      "execution_count": 15,
      "outputs": [
        {
          "output_type": "execute_result",
          "data": {
            "text/plain": [
              "0.7709532949456175"
            ]
          },
          "metadata": {},
          "execution_count": 15
        }
      ]
    },
    {
      "cell_type": "markdown",
      "source": [
        "And that is easy to interpret: The **desion function** tells us on which side of the hyperplane generated by the classifier we are (and how far we are away from it). Then based on a threshold we can classigy the scores as 0s or 1s.\n",
        "Lets compute these scores"
      ],
      "metadata": {
        "id": "RYJYTqKDMANR"
      }
    },
    {
      "cell_type": "code",
      "source": [
        "from sklearn.model_selection import cross_val_predict\n",
        "\n",
        "y_score = cross_val_predict(sgd_clf, X_train, y_train_5, cv = 2, method = \"decision_function\" )"
      ],
      "metadata": {
        "id": "ch5GujBeKfe3"
      },
      "execution_count": 19,
      "outputs": []
    },
    {
      "cell_type": "code",
      "source": [
        "from sklearn.metrics import precision_recall_curve\n",
        "\n",
        "precisions, recalls, thesholds = precision_recall_curve(y_train_5, y_score)\n",
        "precisions, recalls, thesholds"
      ],
      "metadata": {
        "colab": {
          "base_uri": "https://localhost:8080/"
        },
        "id": "7YKf75WhLL8r",
        "outputId": "49c0e0e2-ca42-4fdc-8934-317b4fbb1ccc"
      },
      "execution_count": 25,
      "outputs": [
        {
          "output_type": "execute_result",
          "data": {
            "text/plain": [
              "(array([0.09084511, 0.09082987, 0.09083139, ..., 1.        , 1.        ,\n",
              "        1.        ]),\n",
              " array([1.00000000e+00, 9.99815532e-01, 9.99815532e-01, ...,\n",
              "        3.68935621e-04, 1.84467810e-04, 0.00000000e+00]),\n",
              " array([-94829.16072226, -94823.85614805, -94685.04293961, ...,\n",
              "         56431.32026464,  57711.40130606,  60085.47378044]))"
            ]
          },
          "metadata": {},
          "execution_count": 25
        }
      ]
    },
    {
      "cell_type": "markdown",
      "source": [
        "###Plot Precision Recall curve "
      ],
      "metadata": {
        "id": "GaoWnkO2Mat0"
      }
    },
    {
      "cell_type": "code",
      "source": [
        "def plot_precision_recall_vs_threshold(precisions:float, recalls:float, threshold:float) -> None:\n",
        "  plt.plot(threshold, precisions[:-1], \"b--\", label = \"Precision\")\n",
        "  plt.plot(threshold, recalls[:-1], \"g-\", label = \"Recall\")\n",
        "  plt.title(\"Precision Recall vs Threshold\")\n",
        "\n",
        "\n",
        "plot_precision_recall_vs_threshold(precisions, recalls, thesholds)\n",
        "plt.show()"
      ],
      "metadata": {
        "colab": {
          "base_uri": "https://localhost:8080/",
          "height": 299
        },
        "id": "dpsgQTPJLr0n",
        "outputId": "69aa980d-356f-4ccd-84a7-08e523b56fb0"
      },
      "execution_count": 32,
      "outputs": [
        {
          "output_type": "display_data",
          "data": {
            "image/png": "[encoded data removed]",
            "text/plain": [
              "<Figure size 432x288 with 1 Axes>"
            ]
          },
          "metadata": {
            "needs_background": "light"
          }
        },
        {
          "output_type": "display_data",
          "data": {
            "text/plain": [
              "<Figure size 640x480 with 0 Axes>"
            ]
          },
          "metadata": {}
        }
      ]
    },
    {
      "cell_type": "markdown",
      "source": [
        "A good threshold to use for our predictions can be in the intersect of the curves.\n",
        "It can be also useful to directly plot the precision vs the recall, and choose a tradeoff in this way"
      ],
      "metadata": {
        "id": "Y3Oakrz4N389"
      }
    },
    {
      "cell_type": "code",
      "source": [
        "plt.plot(recalls[:-1], precisions[:-1], \"b--\")\n",
        "plt.title(\"Precision VS Recall (PR curve)\")\n",
        "plt.show()"
      ],
      "metadata": {
        "colab": {
          "base_uri": "https://localhost:8080/",
          "height": 281
        },
        "id": "gMfTGnWuLtnm",
        "outputId": "1e6237d6-fd8c-416b-9268-2e6747525390"
      },
      "execution_count": 43,
      "outputs": [
        {
          "output_type": "display_data",
          "data": {
            "image/png": "[encoded data removed]",
            "text/plain": [
              "<Figure size 432x288 with 1 Axes>"
            ]
          },
          "metadata": {
            "needs_background": "light"
          }
        }
      ]
    },
    {
      "cell_type": "markdown",
      "source": [
        "##ROC Curve\n",
        "\n",
        "Common tool used in binary classification. Plots the **true positive rate** (recall) against the **false positive rate**."
      ],
      "metadata": {
        "id": "g101tW11OaMF"
      }
    },
    {
      "cell_type": "code",
      "source": [
        "from sklearn.metrics import roc_curve\n",
        "\n",
        "fpr, tpr, threshold = roc_curve(y_train_5, y_score)\n",
        "fpr, tpr, threshold"
      ],
      "metadata": {
        "colab": {
          "base_uri": "https://localhost:8080/"
        },
        "id": "i8uRviA8OPfe",
        "outputId": "b3ff7400-f1fa-45ea-ae5f-db9f17453a6a"
      },
      "execution_count": 36,
      "outputs": [
        {
          "output_type": "execute_result",
          "data": {
            "text/plain": [
              "(array([0.        , 0.        , 0.        , ..., 0.99400868, 0.99400868,\n",
              "        1.        ]),\n",
              " array([0.00000000e+00, 1.84467810e-04, 5.34956650e-03, ...,\n",
              "        9.99815532e-01, 1.00000000e+00, 1.00000000e+00]),\n",
              " array([  60086.47378044,   60085.47378044,   45173.46260834, ...,\n",
              "         -94823.85614805,  -94829.16072226, -194705.69122635]))"
            ]
          },
          "metadata": {},
          "execution_count": 36
        }
      ]
    },
    {
      "cell_type": "code",
      "source": [
        "def plot_roc_curve(fpr:np.array , tpr:np.array, label:str=None) -> None:\n",
        "  plt.plot(fpr, tpr, linewidth = 2, label = label)\n",
        "  plt.plot([0,1],[0,1],\"k--\")\n",
        "\n",
        "plot_roc_curve(fpr,tpr)\n",
        "plt.title(\"ROC curve\")\n",
        "plt.show()"
      ],
      "metadata": {
        "colab": {
          "base_uri": "https://localhost:8080/",
          "height": 281
        },
        "id": "Gj4EsjkbO2OE",
        "outputId": "6f5caacc-b441-4947-d67d-5724d97d5ba9"
      },
      "execution_count": 39,
      "outputs": [
        {
          "output_type": "display_data",
          "data": {
            "image/png": "[encoded data removed]",
            "text/plain": [
              "<Figure size 432x288 with 1 Axes>"
            ]
          },
          "metadata": {
            "needs_background": "light"
          }
        }
      ]
    },
    {
      "cell_type": "markdown",
      "source": [
        "The dotted line represents the ROC curve of a purely random classifier. One way to compare classifiers is to measure the area under the curve (**AUC**). A perfect AUC score is equal to 1."
      ],
      "metadata": {
        "id": "xQGiFWGePlSd"
      }
    },
    {
      "cell_type": "code",
      "source": [
        "from sklearn.metrics import roc_auc_score\n",
        "\n",
        "auc = roc_auc_score(y_train_5, y_score)\n",
        "print(\"AUC score : \", auc)"
      ],
      "metadata": {
        "colab": {
          "base_uri": "https://localhost:8080/"
        },
        "id": "L2yhPozsPV-u",
        "outputId": "f91c18bb-a1ad-4029-a754-5157675fa1c4"
      },
      "execution_count": 42,
      "outputs": [
        {
          "output_type": "stream",
          "name": "stdout",
          "text": [
            "AUC score :  0.9650460216920477\n"
          ]
        }
      ]
    },
    {
      "cell_type": "markdown",
      "source": [
        "You should prefer the PR curve whenever the positive class is rare or when you care more about the false positives than the false negatives. The ROC curve othewise."
      ],
      "metadata": {
        "id": "U-VXWkcZQU5H"
      }
    },
    {
      "cell_type": "markdown",
      "source": [
        "##Comparison of 2 algoritmhs using ROC curve"
      ],
      "metadata": {
        "id": "aBcTCdYoRL8G"
      }
    },
    {
      "cell_type": "markdown",
      "source": [
        "Remember some algorithms, instead of decision_function have predict_proba"
      ],
      "metadata": {
        "id": "7qyJWc28RdXS"
      }
    },
    {
      "cell_type": "code",
      "source": [
        "from sklearn.ensemble import RandomForestClassifier\n",
        "\n",
        "forest_clf = RandomForestClassifier(random_state = 42)\n",
        "y_probas_forest = cross_val_predict(forest_clf, X_train, y_train_5, cv=3, method = \"predict_proba\")"
      ],
      "metadata": {
        "id": "vNuY56RCP-ck"
      },
      "execution_count": 60,
      "outputs": []
    },
    {
      "cell_type": "markdown",
      "source": [
        "To plot a roc curve we need score, not probabilities. A simple solution is to use the positive class's probabilities as the score"
      ],
      "metadata": {
        "id": "zed-ciaVS-t1"
      }
    },
    {
      "cell_type": "code",
      "source": [
        "y_score_forest = y_probas_forest[:,1] #score = proba of positive classes\n",
        "fpr_foest, tpr_forest, treshold_forest = roc_curve(y_train_5, y_score_forest)"
      ],
      "metadata": {
        "id": "87_hE0f4Serl"
      },
      "execution_count": 61,
      "outputs": []
    },
    {
      "cell_type": "code",
      "source": [
        "plt.plot(fpr,tpr, \"b:\", label = \"SGD\")\n",
        "plot_roc_curve(fpr_foest, tpr_forest, \"Random Forest\")\n",
        "plt.legend(loc = \"lower right\")\n",
        "plt.show()"
      ],
      "metadata": {
        "colab": {
          "base_uri": "https://localhost:8080/",
          "height": 265
        },
        "id": "KbkWazAwTXZ-",
        "outputId": "a5ecf603-5803-47c0-a784-01f8725d7f78"
      },
      "execution_count": 62,
      "outputs": [
        {
          "output_type": "display_data",
          "data": {
            "image/png": "[encoded data removed]",
            "text/plain": [
              "<Figure size 432x288 with 1 Axes>"
            ]
          },
          "metadata": {
            "needs_background": "light"
          }
        }
      ]
    },
    {
      "cell_type": "markdown",
      "source": [
        "Radnom forest looks better!"
      ],
      "metadata": {
        "id": "cwhfZPG6UTkk"
      }
    }
  ]
}